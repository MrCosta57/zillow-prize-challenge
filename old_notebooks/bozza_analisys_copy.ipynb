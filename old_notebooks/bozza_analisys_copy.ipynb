{
 "cells": [
  {
   "cell_type": "markdown",
   "metadata": {},
   "source": [
    "# PROGETTO DWM 2021\n",
    "### Giovanni Costa - 880892"
   ]
  },
  {
   "cell_type": "markdown",
   "metadata": {},
   "source": [
    "Indice:\n",
    "- [Analisi del dataset \"Train\"](#analisi_train)\n",
    "- [Analisi del dataset \"Properties\"](#analisi_prop)\n",
    "- [Features Engineer](#features_engineer)\n",
    "    - [Analisi delle features numeriche e categoriali](#features_num_cat)\n",
    "    - [Gestione dei missing values e rimozione delle colonne non necessarie o che presentano multicollinearità](#missing_val)\n",
    "        - [Recupero dei valori missing di features basate sulla posizione e sulle tasse](#recover_missing_pos_tax)\n",
    "    - [Aggiunta di features custom potenzialmente utili](#custom_features) \n",
    "- [Features importance, features selection e preparazione del dataset finale](#features_selection)\n",
    "- [Corstruzione del modello sfruttante Random Forest e tuning dei suoi parametri](#mod_1)\n",
    "- [Corstruzione del modello sfruttante Gradient Boosting e tuning dei suoi parametri](#mod_2)\n",
    "- [Comparazione e analisi dei modelli](#comparison_and_analisys)\n",
    "- [Considerazioni finali](#final)"
   ]
  },
  {
   "cell_type": "code",
   "execution_count": 1,
   "metadata": {},
   "outputs": [],
   "source": [
    "'''\n",
    "    - Analisi delle variabili numeriche (duplicati e missing val, correlaz, ..) https://www.kaggle.com/code/lauracozma/eda-data-cleaning-feature-engineering (dividere per geo e per tax le features)\n",
    "    e analisi della variabili categoriali (anche quelle con gli id)\n",
    "    - Filling dei missing value e rimozione di alcune colonne (KNN o Random forest)\n",
    "    - Aggiunta di features custom utili\n",
    "\n",
    "ONEHOTENCODED delle var categoriali int?\n",
    "- Features importance, features selection e preparazione del dataset\n",
    "    - (anche analisi delle correlazioni, outliers, rescaling val (le location vanno divise per 10^6), label encoding)\n",
    "- Corstruzione modello 1 e tuning dei parametri\n",
    "- Corstruzione modello 2 e tuning dei parametri\n",
    "- Comparazione e analisi dei modelli\n",
    "- Considerazioni finali\n",
    "\n",
    "https://www.kaggle.com/code/nikunjm88/creating-additional-features SI\n",
    "\n",
    "https://www.kaggle.com/code/nikunjm88/carefully-dealing-with-missing-values SI\n",
    "\n",
    "https://www.kaggle.com/code/auroralht/restoring-the-missing-geo-data/notebook SI\n",
    "\n",
    "https://www.kaggle.com/code/nikitabu/zillow-eda-opportunities-for-feature-engineering\n",
    "\n",
    "https://www.kaggle.com/code/hyewon328/zillow-analysis-with-eda NO\n",
    "\n",
    "Metti dei grafici utili sulle analisi magari\n",
    "https://www.kaggle.com/code/dasarimohana/zillow-house-price-prediction-by-dasari-mohana (Progetto completo fatto da uno)\n",
    "''';"
   ]
  },
  {
   "cell_type": "code",
   "execution_count": 2,
   "metadata": {},
   "outputs": [],
   "source": [
    "#Import delle librerie\n",
    "%matplotlib inline\n",
    "import sys\n",
    "sys.path.insert(0, '')\n",
    "import utils_copy as fun #my functions.py file\n",
    "import pandas as pd\n",
    "import numpy as np\n",
    "import matplotlib.pyplot as plt\n",
    "import seaborn as sns\n",
    "import warnings\n",
    "import xgboost as xgb\n",
    "from sklearn.preprocessing import OneHotEncoder\n",
    "from sklearn.ensemble import RandomForestRegressor\n",
    "from sklearn.preprocessing import StandardScaler\n",
    "from sklearn.model_selection import train_test_split, cross_val_score\n",
    "from sklearn.metrics import mean_squared_error\n",
    "from sklearn.feature_selection import RFECV\n",
    "from sklearn.model_selection import GridSearchCV \n",
    "\n",
    "\n",
    "input_folder='../data/'\n",
    "data_file_name='properties_2016.csv'\n",
    "train_file_name='train_2016_v2.csv'\n",
    "#feature_dict_file_name='zillow_data_dictionary.xlsx'"
   ]
  },
  {
   "cell_type": "markdown",
   "metadata": {},
   "source": [
    "<a id='analisi_train'></a>\n",
    "### Analisi del dataset \"Train\""
   ]
  },
  {
   "cell_type": "code",
   "execution_count": 3,
   "metadata": {},
   "outputs": [
    {
     "name": "stdout",
     "output_type": "stream",
     "text": [
      "<class 'pandas.core.frame.DataFrame'>\n",
      "RangeIndex: 90275 entries, 0 to 90274\n",
      "Data columns (total 3 columns):\n",
      " #   Column           Non-Null Count  Dtype  \n",
      "---  ------           --------------  -----  \n",
      " 0   parcelid         90275 non-null  int64  \n",
      " 1   logerror         90275 non-null  float64\n",
      " 2   transactiondate  90275 non-null  object \n",
      "dtypes: float64(1), int64(1), object(1)\n",
      "memory usage: 2.1+ MB\n",
      "Shape:  (90275, 3)\n"
     ]
    }
   ],
   "source": [
    "#Lettura del dataset\n",
    "df_train=pd.read_csv(input_folder+train_file_name)\n",
    "df_train.info()\n",
    "print('Shape: ', df_train.shape)\n",
    "\n",
    "#Conversione della colonna 'transactiondate' in tipo np.datetime64\n",
    "df_train['transactiondate']=pd.to_datetime(df_train['transactiondate'], format='%Y-%m-%d')"
   ]
  },
  {
   "cell_type": "code",
   "execution_count": 4,
   "metadata": {},
   "outputs": [
    {
     "data": {
      "text/plain": [
       "parcelid           0.0\n",
       "logerror           0.0\n",
       "transactiondate    0.0\n",
       "dtype: float64"
      ]
     },
     "execution_count": 4,
     "metadata": {},
     "output_type": "execute_result"
    }
   ],
   "source": [
    "#Missing values ratio\n",
    "df_train.isna().sum()/df_train.shape[0] *100"
   ]
  },
  {
   "cell_type": "code",
   "execution_count": 5,
   "metadata": {},
   "outputs": [
    {
     "name": "stdout",
     "output_type": "stream",
     "text": [
      "125\n",
      "0\n"
     ]
    }
   ],
   "source": [
    "#Analisi dei duplicati\n",
    "print(df_train.duplicated(subset='parcelid').sum())\n",
    "print(df_train.duplicated(subset=['parcelid', 'transactiondate']).sum())"
   ]
  },
  {
   "cell_type": "markdown",
   "metadata": {},
   "source": [
    "Notiamo che il dataset contiene 3 colonne:\n",
    "- Parcelid: id univoco che identifica ad ogni istanza di casa\n",
    "- Logerror: misura che dovremmo utilizzare per verificare la bontà del nostro modello <br>\n",
    "*Zillow is asking you to predict the log-error between their Zestimate and the actual sale price, given all the features of a home. The log error is defined as logerror=log(Zestimate)−log(SalePrice)*\n",
    "- Transactiondate: data vendita reale o stimata per la vendita di quella casa\n",
    "\n",
    "Inoltre non ci sono valori nulli nel dataset ma ci sono parcelid anche se non ci sono colonne con gli stessi parcelid e transactiondate. Questo vuol dire che ci sono dati reali o previsti  di vendite inerenti alla stessa casa in diverse giornate"
   ]
  },
  {
   "cell_type": "markdown",
   "metadata": {},
   "source": [
    "<a id='analisi_prop'></a>\n",
    "### Analisi del dataset \"Properties\""
   ]
  },
  {
   "cell_type": "code",
   "execution_count": 7,
   "metadata": {},
   "outputs": [
    {
     "name": "stderr",
     "output_type": "stream",
     "text": [
      "C:\\Users\\gioan\\AppData\\Local\\Temp/ipykernel_14844/4142573858.py:3: DtypeWarning: Columns (22,32,34,49,55) have mixed types. Specify dtype option on import or set low_memory=False.\n",
      "  df_prop=pd.read_csv(input_folder+data_file_name, header=0) #parametro nrows=x for limit rows\n"
     ]
    },
    {
     "name": "stdout",
     "output_type": "stream",
     "text": [
      "<class 'pandas.core.frame.DataFrame'>\n",
      "RangeIndex: 2985217 entries, 0 to 2985216\n",
      "Data columns (total 58 columns):\n",
      " #   Column                        Dtype  \n",
      "---  ------                        -----  \n",
      " 0   parcelid                      int64  \n",
      " 1   airconditioningtypeid         float32\n",
      " 2   architecturalstyletypeid      float32\n",
      " 3   basementsqft                  float32\n",
      " 4   bathroomcnt                   float32\n",
      " 5   bedroomcnt                    float32\n",
      " 6   buildingclasstypeid           float32\n",
      " 7   buildingqualitytypeid         float32\n",
      " 8   calculatedbathnbr             float32\n",
      " 9   decktypeid                    float32\n",
      " 10  finishedfloor1squarefeet      float32\n",
      " 11  calculatedfinishedsquarefeet  float32\n",
      " 12  finishedsquarefeet12          float32\n",
      " 13  finishedsquarefeet13          float32\n",
      " 14  finishedsquarefeet15          float32\n",
      " 15  finishedsquarefeet50          float32\n",
      " 16  finishedsquarefeet6           float32\n",
      " 17  fips                          float32\n",
      " 18  fireplacecnt                  float32\n",
      " 19  fullbathcnt                   float32\n",
      " 20  garagecarcnt                  float32\n",
      " 21  garagetotalsqft               float32\n",
      " 22  hashottuborspa                object \n",
      " 23  heatingorsystemtypeid         float32\n",
      " 24  latitude                      float32\n",
      " 25  longitude                     float32\n",
      " 26  lotsizesquarefeet             float32\n",
      " 27  poolcnt                       float32\n",
      " 28  poolsizesum                   float32\n",
      " 29  pooltypeid10                  float32\n",
      " 30  pooltypeid2                   float32\n",
      " 31  pooltypeid7                   float32\n",
      " 32  propertycountylandusecode     object \n",
      " 33  propertylandusetypeid         float32\n",
      " 34  propertyzoningdesc            object \n",
      " 35  rawcensustractandblock        float32\n",
      " 36  regionidcity                  float32\n",
      " 37  regionidcounty                float32\n",
      " 38  regionidneighborhood          float32\n",
      " 39  regionidzip                   float32\n",
      " 40  roomcnt                       float32\n",
      " 41  storytypeid                   float32\n",
      " 42  threequarterbathnbr           float32\n",
      " 43  typeconstructiontypeid        float32\n",
      " 44  unitcnt                       float32\n",
      " 45  yardbuildingsqft17            float32\n",
      " 46  yardbuildingsqft26            float32\n",
      " 47  yearbuilt                     float32\n",
      " 48  numberofstories               float32\n",
      " 49  fireplaceflag                 object \n",
      " 50  structuretaxvaluedollarcnt    float32\n",
      " 51  taxvaluedollarcnt             float32\n",
      " 52  assessmentyear                float32\n",
      " 53  landtaxvaluedollarcnt         float32\n",
      " 54  taxamount                     float32\n",
      " 55  taxdelinquencyflag            object \n",
      " 56  taxdelinquencyyear            float32\n",
      " 57  censustractandblock           float32\n",
      "dtypes: float32(52), int64(1), object(5)\n",
      "memory usage: 728.8+ MB\n",
      "Shape:  (2985217, 58)\n"
     ]
    }
   ],
   "source": [
    "#Lettura del dataset e conversione delle colonne da float64 a float32 per diminuire la memoria occupata (circa 600mb in meno)\n",
    "#df_prop=pd.read_parquet(input_folder+data_file_name)\n",
    "df_prop=pd.read_csv(input_folder+data_file_name, header=0) #parametro nrows=x for limit rows\n",
    "\n",
    "df_prop[df_prop.select_dtypes(np.float64).columns] = df_prop.select_dtypes(np.float64).astype(np.float32)\n",
    "\n",
    "df_prop.info()\n",
    "print('Shape: ', df_prop.shape)"
   ]
  },
  {
   "cell_type": "code",
   "execution_count": 8,
   "metadata": {},
   "outputs": [
    {
     "data": {
      "text/plain": [
       "<AxesSubplot:>"
      ]
     },
     "execution_count": 8,
     "metadata": {},
     "output_type": "execute_result"
    },
    {
     "data": {
      "image/png": "[encoded data removed]",
      "text/plain": [
       "<Figure size 864x576 with 1 Axes>"
      ]
     },
     "metadata": {
      "needs_background": "light"
     },
     "output_type": "display_data"
    }
   ],
   "source": [
    "plt.figure(figsize = (12,8))\n",
    "df_prop[['airconditioningtypeid', 'architecturalstyletypeid']].boxplot()"
   ]
  },
  {
   "cell_type": "code",
   "execution_count": 9,
   "metadata": {},
   "outputs": [
    {
     "name": "stdout",
     "output_type": "stream",
     "text": [
      "0\n",
      "0\n"
     ]
    }
   ],
   "source": [
    "#Analisi dei duplicati\n",
    "print(df_prop.duplicated(subset='parcelid').sum())\n",
    "print(df_prop.duplicated().sum())"
   ]
  },
  {
   "cell_type": "code",
   "execution_count": 10,
   "metadata": {},
   "outputs": [],
   "source": [
    "#pd.merge(df_train, df_prop, on='parcelid').equals(pd.merge(df_train, df_prop, on='parcelid', how='left'))"
   ]
  },
  {
   "cell_type": "code",
   "execution_count": 11,
   "metadata": {},
   "outputs": [],
   "source": [
    "df_prop=df_train.merge(df_prop, on='parcelid')\n",
    "df_prop['transactiondate']=pd.to_datetime(df_prop['transactiondate'], format='%Y-%m-%d')\n",
    "df_prop[df_prop.select_dtypes(np.float64).columns] = df_prop.select_dtypes(np.float64).astype(np.float32)"
   ]
  },
  {
   "cell_type": "markdown",
   "metadata": {},
   "source": [
    "Dataset dopo il merge:"
   ]
  },
  {
   "cell_type": "code",
   "execution_count": 12,
   "metadata": {},
   "outputs": [
    {
     "name": "stdout",
     "output_type": "stream",
     "text": [
      "<class 'pandas.core.frame.DataFrame'>\n",
      "Int64Index: 90275 entries, 0 to 90274\n",
      "Data columns (total 60 columns):\n",
      " #   Column                        Non-Null Count  Dtype         \n",
      "---  ------                        --------------  -----         \n",
      " 0   parcelid                      90275 non-null  int64         \n",
      " 1   logerror                      90275 non-null  float32       \n",
      " 2   transactiondate               90275 non-null  datetime64[ns]\n",
      " 3   airconditioningtypeid         28781 non-null  float32       \n",
      " 4   architecturalstyletypeid      261 non-null    float32       \n",
      " 5   basementsqft                  43 non-null     float32       \n",
      " 6   bathroomcnt                   90275 non-null  float32       \n",
      " 7   bedroomcnt                    90275 non-null  float32       \n",
      " 8   buildingclasstypeid           16 non-null     float32       \n",
      " 9   buildingqualitytypeid         57364 non-null  float32       \n",
      " 10  calculatedbathnbr             89093 non-null  float32       \n",
      " 11  decktypeid                    658 non-null    float32       \n",
      " 12  finishedfloor1squarefeet      6856 non-null   float32       \n",
      " 13  calculatedfinishedsquarefeet  89614 non-null  float32       \n",
      " 14  finishedsquarefeet12          85596 non-null  float32       \n",
      " 15  finishedsquarefeet13          33 non-null     float32       \n",
      " 16  finishedsquarefeet15          3564 non-null   float32       \n",
      " 17  finishedsquarefeet50          6856 non-null   float32       \n",
      " 18  finishedsquarefeet6           421 non-null    float32       \n",
      " 19  fips                          90275 non-null  float32       \n",
      " 20  fireplacecnt                  9607 non-null   float32       \n",
      " 21  fullbathcnt                   89093 non-null  float32       \n",
      " 22  garagecarcnt                  29937 non-null  float32       \n",
      " 23  garagetotalsqft               29937 non-null  float32       \n",
      " 24  hashottuborspa                2365 non-null   object        \n",
      " 25  heatingorsystemtypeid         56080 non-null  float32       \n",
      " 26  latitude                      90275 non-null  float32       \n",
      " 27  longitude                     90275 non-null  float32       \n",
      " 28  lotsizesquarefeet             80125 non-null  float32       \n",
      " 29  poolcnt                       17901 non-null  float32       \n",
      " 30  poolsizesum                   969 non-null    float32       \n",
      " 31  pooltypeid10                  1161 non-null   float32       \n",
      " 32  pooltypeid2                   1204 non-null   float32       \n",
      " 33  pooltypeid7                   16697 non-null  float32       \n",
      " 34  propertycountylandusecode     90274 non-null  object        \n",
      " 35  propertylandusetypeid         90275 non-null  float32       \n",
      " 36  propertyzoningdesc            58313 non-null  object        \n",
      " 37  rawcensustractandblock        90275 non-null  float32       \n",
      " 38  regionidcity                  88472 non-null  float32       \n",
      " 39  regionidcounty                90275 non-null  float32       \n",
      " 40  regionidneighborhood          36012 non-null  float32       \n",
      " 41  regionidzip                   90240 non-null  float32       \n",
      " 42  roomcnt                       90275 non-null  float32       \n",
      " 43  storytypeid                   43 non-null     float32       \n",
      " 44  threequarterbathnbr           12009 non-null  float32       \n",
      " 45  typeconstructiontypeid        299 non-null    float32       \n",
      " 46  unitcnt                       58353 non-null  float32       \n",
      " 47  yardbuildingsqft17            2646 non-null   float32       \n",
      " 48  yardbuildingsqft26            95 non-null     float32       \n",
      " 49  yearbuilt                     89519 non-null  float32       \n",
      " 50  numberofstories               20570 non-null  float32       \n",
      " 51  fireplaceflag                 222 non-null    object        \n",
      " 52  structuretaxvaluedollarcnt    89895 non-null  float32       \n",
      " 53  taxvaluedollarcnt             90274 non-null  float32       \n",
      " 54  assessmentyear                90275 non-null  float32       \n",
      " 55  landtaxvaluedollarcnt         90274 non-null  float32       \n",
      " 56  taxamount                     90269 non-null  float32       \n",
      " 57  taxdelinquencyflag            1783 non-null   object        \n",
      " 58  taxdelinquencyyear            1783 non-null   float32       \n",
      " 59  censustractandblock           89670 non-null  float32       \n",
      "dtypes: datetime64[ns](1), float32(53), int64(1), object(5)\n",
      "memory usage: 23.8+ MB\n",
      "Shape:  (90275, 60)\n"
     ]
    }
   ],
   "source": [
    "df_prop.info()\n",
    "print('Shape: ', df_prop.shape)"
   ]
  },
  {
   "cell_type": "markdown",
   "metadata": {},
   "source": [
    "<a id='features_engineer'></a>\n",
    "## Features Engineer\n",
    "<a id='features_num_cat'></a>\n",
    "### Analisi delle features numeriche e categoriali\n"
   ]
  },
  {
   "cell_type": "code",
   "execution_count": 13,
   "metadata": {},
   "outputs": [],
   "source": [
    "#Selezione delle colonne contenti variabili categoriali sulla base della ducumentazione fornita su Kaggle.com (usate successivamente)\n",
    "other_cols = ['parcelid', 'airconditioningtypeid','architecturalstyletypeid','buildingqualitytypeid','buildingclasstypeid','decktypeid','fips', 'fireplaceflag', 'hashottuborspa', 'heatingorsystemtypeid', 'pooltypeid10','pooltypeid2','pooltypeid7','propertycountylandusecode','propertylandusetypeid','propertyzoningdesc','rawcensustractandblock', 'censustractandblock', 'regionidcounty', 'regionidcity', 'regionidzip', 'regionidneighborhood','regionidzip','storytypeid','typeconstructiontypeid', 'assessmentyear', 'taxdelinquencyflag', 'taxdelinquencyyear', 'yearbuilt']\n",
    "numerical_cols = [x for x in df_prop.columns if x not in other_cols]"
   ]
  },
  {
   "cell_type": "code",
   "execution_count": 14,
   "metadata": {},
   "outputs": [
    {
     "name": "stdout",
     "output_type": "stream",
     "text": [
      "Column: hashottuborspa\n",
      "values:  [nan True] \n",
      "\n",
      "Column: propertycountylandusecode\n",
      "values:  ['0100' '1' '010C' '122' '1129' '34' '1128' '010E' '0104' '0101' '0200'\n",
      " '0700' '1111' '01DC' '010D' '1110' '0400' '012C' '010V' '1116' '01HC'\n",
      " '010G' '0300' '010F' '1117' '0103' '38' '1210' '0111' '010M' '96' '135'\n",
      " '0108' '1014' '1112' '0201' '0109' '1310' '010H' '1410' '1222' '1321'\n",
      " '1720' '1011' '1432' '0401' '0102' '012D' '73' '105' '0110' '100V' '0130'\n",
      " '8800' '0303' '0210' '1012' '1333' '0114' '01DD' '020G' '040A' '012E'\n",
      " '020M' '040V' '070D' '1200' '030G' '1722' '6050' '1421' '010' nan '200'\n",
      " '0' '1420' '0131' '0301'] \n",
      "\n",
      "Column: propertyzoningdesc\n",
      "values:  ['LARS' nan 'PSR6' ... 'SHCG' 'COR2YY' 'LNR2RPD-R3'] \n",
      "\n",
      "Column: fireplaceflag\n",
      "values:  [nan True] \n",
      "\n",
      "Column: taxdelinquencyflag\n",
      "values:  [nan 'Y'] \n",
      "\n"
     ]
    }
   ],
   "source": [
    "#Selezione delle colonne non float o int\n",
    "not_float_col=df_prop.select_dtypes(exclude=[np.float32, np.int64, np.datetime64]).columns\n",
    "for c in not_float_col:\n",
    "    print(\"Column: \"+c)\n",
    "    print(\"values: \", df_prop[c].unique(), \"\\n\")"
   ]
  },
  {
   "cell_type": "code",
   "execution_count": 15,
   "metadata": {},
   "outputs": [
    {
     "data": {
      "text/plain": [
       "buildingclasstypeid             99.982276\n",
       "finishedsquarefeet13            99.963445\n",
       "storytypeid                     99.952368\n",
       "basementsqft                    99.952368\n",
       "yardbuildingsqft26              99.894766\n",
       "fireplaceflag                   99.754085\n",
       "architecturalstyletypeid        99.710883\n",
       "typeconstructiontypeid          99.668790\n",
       "finishedsquarefeet6             99.533647\n",
       "decktypeid                      99.271116\n",
       "poolsizesum                     98.926613\n",
       "pooltypeid10                    98.713930\n",
       "pooltypeid2                     98.666297\n",
       "taxdelinquencyyear              98.024924\n",
       "taxdelinquencyflag              98.024924\n",
       "hashottuborspa                  97.380227\n",
       "yardbuildingsqft17              97.068956\n",
       "finishedsquarefeet15            96.052063\n",
       "finishedfloor1squarefeet        92.405428\n",
       "finishedsquarefeet50            92.405428\n",
       "fireplacecnt                    89.358073\n",
       "threequarterbathnbr             86.697314\n",
       "pooltypeid7                     81.504292\n",
       "poolcnt                         80.170590\n",
       "numberofstories                 77.214068\n",
       "airconditioningtypeid           68.118527\n",
       "garagecarcnt                    66.837995\n",
       "garagetotalsqft                 66.837995\n",
       "regionidneighborhood            60.108557\n",
       "heatingorsystemtypeid           37.878704\n",
       "buildingqualitytypeid           36.456383\n",
       "propertyzoningdesc              35.405151\n",
       "unitcnt                         35.360842\n",
       "lotsizesquarefeet               11.243423\n",
       "finishedsquarefeet12             5.183052\n",
       "regionidcity                     1.997231\n",
       "fullbathcnt                      1.309333\n",
       "calculatedbathnbr                1.309333\n",
       "yearbuilt                        0.837441\n",
       "calculatedfinishedsquarefeet     0.732207\n",
       "censustractandblock              0.670174\n",
       "structuretaxvaluedollarcnt       0.420936\n",
       "regionidzip                      0.038770\n",
       "taxamount                        0.006646\n",
       "propertycountylandusecode        0.001108\n",
       "landtaxvaluedollarcnt            0.001108\n",
       "taxvaluedollarcnt                0.001108\n",
       "bedroomcnt                       0.000000\n",
       "transactiondate                  0.000000\n",
       "bathroomcnt                      0.000000\n",
       "assessmentyear                   0.000000\n",
       "fips                             0.000000\n",
       "roomcnt                          0.000000\n",
       "latitude                         0.000000\n",
       "longitude                        0.000000\n",
       "logerror                         0.000000\n",
       "propertylandusetypeid            0.000000\n",
       "rawcensustractandblock           0.000000\n",
       "regionidcounty                   0.000000\n",
       "parcelid                         0.000000\n",
       "dtype: float64"
      ]
     },
     "execution_count": 15,
     "metadata": {},
     "output_type": "execute_result"
    }
   ],
   "source": [
    "#Missing values ratio\n",
    "df_prop.isna().sum().sort_values(ascending=False)/df_prop.shape[0]*100"
   ]
  },
  {
   "cell_type": "code",
   "execution_count": 16,
   "metadata": {},
   "outputs": [
    {
     "data": {
      "image/png": "[encoded data removed]",
      "text/plain": [
       "<Figure size 864x1296 with 1 Axes>"
      ]
     },
     "metadata": {
      "needs_background": "light"
     },
     "output_type": "display_data"
    }
   ],
   "source": [
    "#Missing values graph\n",
    "df_missing = df_prop.isnull().sum(axis=0).reset_index()\n",
    "df_missing.columns = ['column_name', 'missing_count']\n",
    "df_missing = df_missing.loc[df_missing['missing_count']>0]\n",
    "df_missing = df_missing.sort_values(by='missing_count')\n",
    "\n",
    "ind = np.arange(df_missing.shape[0])\n",
    "width = 0.9\n",
    "fig, ax = plt.subplots(figsize=(12,18))\n",
    "rects = ax.barh(ind, df_missing.missing_count.values)\n",
    "ax.set_yticks(ind)\n",
    "ax.set_yticklabels(df_missing.column_name.values, rotation='horizontal')\n",
    "ax.set_xlabel(\"Count of missing values\")\n",
    "ax.set_title(\"Number of missing values in each column\")\n",
    "plt.show()"
   ]
  },
  {
   "cell_type": "markdown",
   "metadata": {},
   "source": [
    "Il dataset presenta molte features e istanze. Nello specifico i tipi delle features sono float32(52), int64(1), object(5): \n",
    "- alcune di quelle float32 sono in realtà id associati a categorie descritti più approfonditamente nella documentazione di Kaggle.com\n",
    "- quelle di tipo object sono invece stringhe rappresentanti o valori booleani oppure codici categoriali\n",
    "Le colonne verranno poi opportunamente gestite in modo da rappresentare la corretta semantica del dato\n",
    "\n",
    "Il dataset non presenta duplicati ne in parcelid ne globalmente, ma continene moltissimi valori mancanti: diverse colonne infatti presentano una quantità di dati mancanti superiore al 97% sull'intero dataset.\n",
    "\n",
    "Prossimamente verrà illustrato come vengono gestiti tali valori mancanti per ogni features"
   ]
  },
  {
   "cell_type": "markdown",
   "metadata": {},
   "source": [
    "<a id='missing_val'></a>\n",
    "### Gestione dei missing values e rimozione delle colonne non necessarie o che presentano multicollinearità"
   ]
  },
  {
   "cell_type": "code",
   "execution_count": 17,
   "metadata": {},
   "outputs": [
    {
     "data": {
      "image/png": "[encoded data removed]",
      "text/plain": [
       "<Figure size 864x576 with 2 Axes>"
      ]
     },
     "metadata": {
      "needs_background": "light"
     },
     "output_type": "display_data"
    },
    {
     "data": {
      "text/plain": [
       "<Figure size 432x288 with 0 Axes>"
      ]
     },
     "metadata": {},
     "output_type": "display_data"
    }
   ],
   "source": [
    "#Heatmap per visualizzare le correlazioni tra le variabili\n",
    "plt.figure(figsize = (12,8))\n",
    "sns.heatmap(data=df_prop[numerical_cols].corr(), cmap='Reds')\n",
    "plt.show()\n",
    "plt.gcf().clear()"
   ]
  },
  {
   "cell_type": "markdown",
   "metadata": {},
   "source": [
    "Dall'analisi della heatmap sulla correlazione tra le variabili numeriche notiamo che le features 'calculatedfinishedsquarefeet', 'finishedsquarefeet12', 'finishedsquarefeet13', 'finishedsquarefeet15', 'finishedsquarefeet6', sono molto correlate essendo di colore rosso scuro.\n",
    "Stesso discorso vale anche per finishedfloor1squarefeet e finishedsquarefeet50, che in più nella documentazione hanno la stessa descrizione.\n",
    "Discorso simile per 'bathroomcnt', 'calculatedbathnbr' e 'fullbathcnt'"
   ]
  },
  {
   "cell_type": "markdown",
   "metadata": {},
   "source": [
    "Teniamo quindi solo 'calculatedfinishedsquarefeet' che presenta meno valori missing, mentre tra 'finishedfloor1squarefeet' e 'finishedsquarefeet50' rimuoviamo arbitrariamente 'finishedsquarefeet50'.\n",
    "\n",
    "Rimuoviamo poi anche 'bathroomcnt' e 'calculatedbathnbr', lasciando 'bathroomcnt' che ha meno missing values"
   ]
  },
  {
   "cell_type": "code",
   "execution_count": 18,
   "metadata": {},
   "outputs": [
    {
     "data": {
      "text/plain": [
       "calculatedfinishedsquarefeet     0.732207\n",
       "finishedsquarefeet12             5.183052\n",
       "finishedsquarefeet13            99.963445\n",
       "finishedsquarefeet15            96.052063\n",
       "finishedsquarefeet6             99.533647\n",
       "dtype: float64"
      ]
     },
     "execution_count": 18,
     "metadata": {},
     "output_type": "execute_result"
    }
   ],
   "source": [
    "df_prop[['calculatedfinishedsquarefeet', 'finishedsquarefeet12', 'finishedsquarefeet13', 'finishedsquarefeet15', 'finishedsquarefeet6']].isna().sum()/df_prop.shape[0] *100"
   ]
  },
  {
   "cell_type": "code",
   "execution_count": 19,
   "metadata": {},
   "outputs": [],
   "source": [
    "df_prop.drop(columns=['finishedsquarefeet12', 'finishedsquarefeet13', 'finishedsquarefeet15', 'finishedsquarefeet6'], inplace=True)"
   ]
  },
  {
   "cell_type": "code",
   "execution_count": 20,
   "metadata": {},
   "outputs": [
    {
     "data": {
      "text/plain": [
       "finishedfloor1squarefeet    92.405428\n",
       "finishedsquarefeet50        92.405428\n",
       "dtype: float64"
      ]
     },
     "execution_count": 20,
     "metadata": {},
     "output_type": "execute_result"
    }
   ],
   "source": [
    "df_prop[['finishedfloor1squarefeet', 'finishedsquarefeet50']].isna().sum()/df_prop.shape[0] *100"
   ]
  },
  {
   "cell_type": "code",
   "execution_count": 21,
   "metadata": {},
   "outputs": [],
   "source": [
    "df_prop.drop(columns='finishedsquarefeet50', inplace=True)"
   ]
  },
  {
   "cell_type": "code",
   "execution_count": 22,
   "metadata": {},
   "outputs": [
    {
     "data": {
      "text/plain": [
       "calculatedbathnbr    1.309333\n",
       "bathroomcnt          0.000000\n",
       "fullbathcnt          1.309333\n",
       "dtype: float64"
      ]
     },
     "execution_count": 22,
     "metadata": {},
     "output_type": "execute_result"
    }
   ],
   "source": [
    "df_prop[['calculatedbathnbr', 'bathroomcnt', 'fullbathcnt']].isna().sum()/df_prop.shape[0] *100"
   ]
  },
  {
   "cell_type": "code",
   "execution_count": 23,
   "metadata": {},
   "outputs": [],
   "source": [
    "df_prop.drop(columns=['calculatedbathnbr', 'fullbathcnt'], inplace=True)"
   ]
  },
  {
   "cell_type": "markdown",
   "metadata": {},
   "source": [
    "'hashottuborspa' e 'pooltypeid10' hanno semanticamente la stessa descrizione. Rimuoviamo 'pooltypeid10' che ha meno valori missing presenti\n",
    "\n",
    "Inoltre viene assunto che se il valore di pool/hot tub (quindi le features 'pooltypeid2', 'pooltypeid7', 'poolcnt') non è presente questo indichi 0 elementi"
   ]
  },
  {
   "cell_type": "code",
   "execution_count": 24,
   "metadata": {},
   "outputs": [
    {
     "name": "stdout",
     "output_type": "stream",
     "text": [
      "True    2365\n",
      "Name: hashottuborspa, dtype: int64\n",
      "1.0    1161\n",
      "Name: pooltypeid10, dtype: int64\n"
     ]
    }
   ],
   "source": [
    "print(df_prop['hashottuborspa'].value_counts())\n",
    "print(df_prop['pooltypeid10'].value_counts())"
   ]
  },
  {
   "cell_type": "code",
   "execution_count": 25,
   "metadata": {},
   "outputs": [
    {
     "data": {
      "text/plain": [
       "hashottuborspa    97.380227\n",
       "pooltypeid10      98.713930\n",
       "dtype: float64"
      ]
     },
     "execution_count": 25,
     "metadata": {},
     "output_type": "execute_result"
    }
   ],
   "source": [
    "df_prop[['hashottuborspa', 'pooltypeid10']].isnull().sum()/df_prop.shape[0] *100"
   ]
  },
  {
   "cell_type": "code",
   "execution_count": 26,
   "metadata": {},
   "outputs": [],
   "source": [
    "df_prop.drop(columns='pooltypeid10', inplace=True)"
   ]
  },
  {
   "cell_type": "code",
   "execution_count": 27,
   "metadata": {},
   "outputs": [],
   "source": [
    "df_prop[['pooltypeid2', 'pooltypeid7', 'poolcnt']]=df_prop[['pooltypeid2', 'pooltypeid7', 'poolcnt']].fillna(0)\n",
    "df_prop['hashottuborspa'].fillna(0, inplace=True) #>90% nan\n",
    "df_prop['hashottuborspa']=df_prop['hashottuborspa'].astype(bool);"
   ]
  },
  {
   "cell_type": "markdown",
   "metadata": {},
   "source": [
    "Per quanto riguarda la features 'poolsizesum' viene utilizzata la mediana dei valori presenti in 'poolsizesum' alle righe in cui 'poolcnt' è meggiore di 0, altrimenti il valore viene impostato a 0\n",
    "(si è deciso di usare la mediana come filler perchè meno soggetta ad outliers e perchè si assume che le dimensioni delle piscine negli stati uniti siano più o meno standard) "
   ]
  },
  {
   "cell_type": "code",
   "execution_count": 28,
   "metadata": {},
   "outputs": [],
   "source": [
    "median_poolsize=df_prop[df_prop['poolcnt']>0]['poolsizesum'].median()\n",
    "df_prop.loc[(df_prop['poolcnt']>0) & (df_prop['poolsizesum'].isna()), 'poolsizesum']=median_poolsize\n",
    "\n",
    "#Se non ha la piscina la dimensione della piscina è 0\n",
    "df_prop.loc[(df_prop['poolcnt'] == 0), 'poolsizesum'] = 0"
   ]
  },
  {
   "cell_type": "markdown",
   "metadata": {},
   "source": [
    "'fireplaceflag' e 'fireplacecnt' presentano delle inconsistenze:\n",
    "come si nota dall'analisi sottostante ci sono righe dove 'fireplacecnt' è presente, mentre 'fireplaceflag' è missing oppure è errato. Si prosegue dunque mettendo a 0 i valori di 'fireplacecnt' non presenti e si modifica in base alla presenza o meno di valori in questo campo la colonna 'fireplaceflag'"
   ]
  },
  {
   "cell_type": "code",
   "execution_count": 29,
   "metadata": {},
   "outputs": [],
   "source": [
    "df_prop['fireplaceflag'].fillna(0, inplace=True) #>90% nan\n",
    "df_prop['fireplaceflag']=df_prop['fireplaceflag'].astype(bool)\n",
    "df_prop.loc[(~df_prop['fireplacecnt'].isna()), 'fireplaceflag']=True\n",
    "df_prop['fireplacecnt'].fillna(0, inplace=True)"
   ]
  },
  {
   "cell_type": "markdown",
   "metadata": {},
   "source": [
    "Riempiamo i valori di 'taxdelinquencyflag', 'garagecarcnt', 'garagetotalsqft' applicando le stesse considerazioni fatte finora"
   ]
  },
  {
   "cell_type": "code",
   "execution_count": 30,
   "metadata": {},
   "outputs": [],
   "source": [
    "df_prop[['taxdelinquencyflag', 'garagecarcnt', 'garagetotalsqft']]=df_prop[['taxdelinquencyflag', 'garagecarcnt', 'garagetotalsqft']].fillna(0)\n",
    "df_prop['taxdelinquencyflag']=df_prop['taxdelinquencyflag'].astype(bool)"
   ]
  },
  {
   "cell_type": "markdown",
   "metadata": {},
   "source": [
    "Le features come 'airconditioningtypeid', 'heatingorsystemtypeid',  'threequarterbathnbr' features si ritengono poco importanti e variabili così si è deciso di rimpiazzare i valori missing con la moda di ogni features.<br>\n",
    "Inoltre i valori di moda ottenuti sembrano ragionevoli visto che si ipotizza che AC e Heating System siano più comunemente 'Central', mentre le abitazioni abbiano solamente un bagno a 3/4"
   ]
  },
  {
   "cell_type": "code",
   "execution_count": 31,
   "metadata": {},
   "outputs": [
    {
     "data": {
      "image/png": "[encoded data removed]",
      "text/plain": [
       "<Figure size 576x360 with 1 Axes>"
      ]
     },
     "metadata": {
      "needs_background": "light"
     },
     "output_type": "display_data"
    },
    {
     "name": "stdout",
     "output_type": "stream",
     "text": [
      "Moda:  1.0\n"
     ]
    }
   ],
   "source": [
    "plt.figure(figsize = (8,5))\n",
    "x_min=df_prop['airconditioningtypeid'].min()\n",
    "x_max=df_prop['airconditioningtypeid'].max()+1\n",
    "plt.xlim([x_min, x_max])\n",
    "df_prop['airconditioningtypeid'].hist()\n",
    "plt.show()\n",
    "\n",
    "mode=float(df_prop['airconditioningtypeid'].mode())\n",
    "print(\"Moda: \", mode)\n",
    "df_prop['airconditioningtypeid'].fillna(mode, inplace=True)"
   ]
  },
  {
   "cell_type": "code",
   "execution_count": 32,
   "metadata": {},
   "outputs": [
    {
     "data": {
      "image/png": "[encoded data removed]",
      "text/plain": [
       "<Figure size 720x432 with 1 Axes>"
      ]
     },
     "metadata": {
      "needs_background": "light"
     },
     "output_type": "display_data"
    },
    {
     "name": "stdout",
     "output_type": "stream",
     "text": [
      "Moda:  2.0\n"
     ]
    }
   ],
   "source": [
    "plt.figure(figsize = (10,6))\n",
    "x_min=df_prop['heatingorsystemtypeid'].min()\n",
    "x_max=df_prop['heatingorsystemtypeid'].max()\n",
    "plt.xlim([x_min, x_max])\n",
    "df_prop['heatingorsystemtypeid'].astype(int, errors='ignore').hist()\n",
    "plt.show()\n",
    "\n",
    "mode=float(df_prop['heatingorsystemtypeid'].mode())\n",
    "print(\"Moda: \", mode)\n",
    "df_prop['heatingorsystemtypeid'].fillna(mode, inplace=True)"
   ]
  },
  {
   "cell_type": "code",
   "execution_count": 33,
   "metadata": {},
   "outputs": [
    {
     "data": {
      "image/png": "[encoded data removed]",
      "text/plain": [
       "<Figure size 360x360 with 1 Axes>"
      ]
     },
     "metadata": {
      "needs_background": "light"
     },
     "output_type": "display_data"
    },
    {
     "name": "stdout",
     "output_type": "stream",
     "text": [
      "Moda:  1.0\n"
     ]
    }
   ],
   "source": [
    "plt.figure(figsize = (5,5))\n",
    "x_min=df_prop['threequarterbathnbr'].min()\n",
    "x_max=df_prop['threequarterbathnbr'].max()+1\n",
    "plt.xlim([x_min, x_max])\n",
    "plt.xticks(np.arange(x_min, x_max, 1))\n",
    "df_prop['threequarterbathnbr'].hist()\n",
    "plt.show()\n",
    "\n",
    "mode=float(df_prop['threequarterbathnbr'].mode())\n",
    "print(\"Moda: \", mode)\n",
    "df_prop['threequarterbathnbr'].fillna(mode, inplace=True)"
   ]
  },
  {
   "cell_type": "markdown",
   "metadata": {},
   "source": [
    "Vengono ora rimosse le restanti features con missing value ratio maggiore di 97% perché soggettivamente ritenute con troppo poca informazione per essere utile alla previsione del logerror"
   ]
  },
  {
   "cell_type": "code",
   "execution_count": 34,
   "metadata": {},
   "outputs": [],
   "source": [
    "tmp_col=df_prop.columns\n",
    "for c in tmp_col:\n",
    "    if df_prop[c].isna().sum()/df_prop.shape[0]>0.97:\n",
    "        df_prop.drop(columns=c, inplace=True)"
   ]
  },
  {
   "cell_type": "code",
   "execution_count": 35,
   "metadata": {},
   "outputs": [
    {
     "name": "stdout",
     "output_type": "stream",
     "text": [
      "Number of missing features:  17\n",
      "['buildingqualitytypeid', 'finishedfloor1squarefeet', 'calculatedfinishedsquarefeet', 'lotsizesquarefeet', 'propertycountylandusecode', 'propertyzoningdesc', 'regionidcity', 'regionidneighborhood', 'regionidzip', 'unitcnt', 'yearbuilt', 'numberofstories', 'structuretaxvaluedollarcnt', 'taxvaluedollarcnt', 'landtaxvaluedollarcnt', 'taxamount', 'censustractandblock']\n",
      "Number of remining total features:  43\n"
     ]
    }
   ],
   "source": [
    "tmp_col=df_prop.columns\n",
    "tmp_list=[]\n",
    "\n",
    "for c in tmp_col:\n",
    "    if df_prop[c].isna().sum()/df_prop.shape[0]>0.0:\n",
    "        tmp_list.append(c)\n",
    "\n",
    "print(\"Number of missing features: \", len(tmp_list))\n",
    "print(tmp_list)\n",
    "print(\"Number of remining total features: \", len(df_prop.columns))"
   ]
  },
  {
   "cell_type": "markdown",
   "metadata": {},
   "source": [
    "Analizziamo ora le features rimanenti cercando di ripristinare gli ultimi missing values"
   ]
  },
  {
   "cell_type": "markdown",
   "metadata": {},
   "source": [
    "<a id='recover_missing_pos_tax'></a>\n",
    "### Recupero dei valori missing di features basate sulla posizione e sulle tasse\n"
   ]
  },
  {
   "cell_type": "code",
   "execution_count": 36,
   "metadata": {},
   "outputs": [
    {
     "data": {
      "text/plain": [
       "latitude                      0.000000\n",
       "longitude                     0.000000\n",
       "buildingqualitytypeid        36.456383\n",
       "propertycountylandusecode     0.001108\n",
       "propertyzoningdesc           35.405151\n",
       "regionidcity                  1.997231\n",
       "regionidneighborhood         60.108557\n",
       "regionidzip                   0.038770\n",
       "unitcnt                      35.360842\n",
       "yearbuilt                     0.837441\n",
       "dtype: float64"
      ]
     },
     "execution_count": 36,
     "metadata": {},
     "output_type": "execute_result"
    }
   ],
   "source": [
    "geo_col_names=['latitude', 'longitude', 'buildingqualitytypeid', 'propertycountylandusecode', 'propertyzoningdesc', 'regionidcity', 'regionidneighborhood', 'regionidzip', 'unitcnt', 'yearbuilt']\n",
    "df_geo=pd.DataFrame(df_prop[geo_col_names], columns=geo_col_names)\n",
    "df_geo.isna().sum()/df_geo.shape[0] *100"
   ]
  },
  {
   "cell_type": "markdown",
   "metadata": {},
   "source": [
    "Intuitivamente, vista inoltre l'assenza di valori mancanti, si potrebbero utilizzare le features 'latitude' e 'longitude' per ricavare i valori di diversi attributi inerenti alla posizione dell'edificio<br><br>\n",
    "Ripristino quindi i valori originali di latitudine e longitudine perché come descritto nella documentazine quelli nel dataset sono moltiplicati per 10^6.<br>"
   ]
  },
  {
   "cell_type": "code",
   "execution_count": 37,
   "metadata": {},
   "outputs": [],
   "source": [
    "df_prop['latitude']=df_prop['latitude']/(10**6)\n",
    "df_prop['longitude']=df_prop['longitude']/(10**6)\n",
    "#df_prop.dropna( axis = 0, subset = ['latitude', 'longitude'], inplace = True )"
   ]
  },
  {
   "cell_type": "markdown",
   "metadata": {},
   "source": [
    "Si è deciso di utilizzare l'algoritmo K-nearest neighbors (KNN) per recuperare queste features basandosi su latitudine e longitudine dell'abitazione come anticipato. Nella cella di codice sottostante sono inoltre spiegate motivazioni e ipotesi usate per il ripristino"
   ]
  },
  {
   "cell_type": "code",
   "execution_count": 38,
   "metadata": {},
   "outputs": [
    {
     "name": "stdout",
     "output_type": "stream",
     "text": [
      "Target:  buildingqualitytypeid\n",
      "Best Score: 0.785\n",
      "Best Params:  {'n_neighbors': 1}\n",
      "Test Accuracy: 0.803\n",
      "Done!\n",
      "\n",
      "Target:  propertycountylandusecode\n",
      "Dealing with variables that are actually string/categories...\n",
      "num of categories:  (78,)\n",
      "Target:  propertycountylandusecode\n",
      "Best Score: 0.770\n",
      "Best Params:  {'n_neighbors': 2}\n",
      "Test Accuracy: 0.781\n",
      "Done!\n",
      "\n",
      "Target:  propertyzoningdesc\n",
      "Dealing with variables that are actually string/categories...\n",
      "num of categories:  (1997,)\n",
      "Target:  propertyzoningdesc\n",
      "Best Score: 0.761\n",
      "Best Params:  {'n_neighbors': 1}\n",
      "Test Accuracy: 0.778\n",
      "Done!\n",
      "\n",
      "Target:  regionidcity\n",
      "Best Score: 0.984\n",
      "Best Params:  {'n_neighbors': 1}\n",
      "Test Accuracy: 0.987\n",
      "Done!\n",
      "\n",
      "Target:  regionidneighborhood\n",
      "Best Score: 0.969\n",
      "Best Params:  {'n_neighbors': 1}\n",
      "Test Accuracy: 0.972\n",
      "Done!\n",
      "\n",
      "Target:  regionidzip\n",
      "Best Score: 0.976\n",
      "Best Params:  {'n_neighbors': 1}\n",
      "Test Accuracy: 0.979\n",
      "Done!\n",
      "\n",
      "Target:  unitcnt\n",
      "Best Score: 0.936\n",
      "Best Params:  {'n_neighbors': 10}\n",
      "Test Accuracy: 0.936\n",
      "Done!\n",
      "\n",
      "Target:  yearbuilt\n",
      "Best Score: 0.453\n",
      "Best Params:  {'n_neighbors': 1}\n",
      "Test Accuracy: 0.480\n",
      "Done!\n",
      "\n",
      "Target:  lotsizesquarefeet\n",
      "Best Score: 2221009484.8000\n",
      "Best Params:  {'n_neighbors': 1}\n",
      "MSE: 948738048.0000\n",
      "Done!\n",
      "\n"
     ]
    }
   ],
   "source": [
    "warnings.simplefilter(action='ignore', category=UserWarning)\n",
    "parameters = { 'n_neighbors': [1, 2, 3, 4, 5, 8, 10]}\n",
    "\n",
    "\n",
    "#Si ipotizza che blocchi di case vicine siano state costruite più o meno tutte nello stesso periodo e che quindi abbiano qualità simili\n",
    "fun.fillna_knn(df=df_prop, base=['latitude', 'longitude'],\n",
    "           target='buildingqualitytypeid', tuning_params=parameters)\n",
    "\n",
    "#Abitazioni vicine hanno lo stesso countrylandusecode  \n",
    "tmp_label_enc=fun.zoningcode2int(df=df_prop, target='propertycountylandusecode')          \n",
    "fun.fillna_knn(df=df_prop,\n",
    "           base=['latitude', 'longitude'],\n",
    "           target='propertycountylandusecode', tuning_params=parameters)\n",
    "df_prop['propertycountylandusecode']=tmp_label_enc.inverse_transform(df_prop['propertycountylandusecode'].astype(int))\n",
    "\n",
    "\n",
    "#Abitazioni vicine hanno la stessa zoning description\n",
    "tmp_label_enc=fun.zoningcode2int(df=df_prop, target='propertyzoningdesc')\n",
    "fun.fillna_knn(df=df_prop,\n",
    "           base=['latitude', 'longitude'],\n",
    "           target='propertyzoningdesc', tuning_params=parameters)\n",
    "df_prop['propertyzoningdesc']=tmp_label_enc.inverse_transform(df_prop['propertyzoningdesc'].astype(int))\n",
    "\n",
    "\n",
    "#Anche in questo caso proprietà vicine con missing value in regionidcity, regionidneighborhood, regionidzip vicine si assume siano simili\n",
    "fun.fillna_knn(df=df_prop,\n",
    "           base=['latitude', 'longitude'],\n",
    "           target='regionidcity', tuning_params=parameters)\n",
    "\n",
    "fun.fillna_knn(df=df_prop,\n",
    "           base=['latitude', 'longitude'],\n",
    "           target='regionidneighborhood', tuning_params=parameters)\n",
    "\n",
    "fun.fillna_knn(df=df_prop,\n",
    "           base=['latitude', 'longitude'],\n",
    "           target='regionidzip', tuning_params=parameters)\n",
    "\n",
    "\n",
    "#Discorso analogo per i campi 'unitcnt' (Number of units the structure is built into), 'yearbuilt'\n",
    "fun.fillna_knn(df=df_prop,\n",
    "           base=['latitude', 'longitude'],\n",
    "           target='unitcnt', tuning_params=parameters)\n",
    "\n",
    "fun.fillna_knn(df=df_prop,\n",
    "           base=['latitude', 'longitude'],\n",
    "           target='yearbuilt', tuning_params=parameters)\n",
    "\n",
    "fun.fillna_knn_reg(df=df_prop,\n",
    "           base=['latitude', 'longitude'],\n",
    "           target='lotsizesquarefeet', tuning_params=parameters)\n",
    "\n",
    "warnings.simplefilter(action='default', category=UserWarning)"
   ]
  },
  {
   "cell_type": "markdown",
   "metadata": {},
   "source": [
    "'hashottuborspa' e 'pooltypeid10' hanno semanticamente la stessa descrizione. Rimuoviamo 'pooltypeid10' che ha meno valori missing presenti\n",
    "\n",
    "Inoltre viene assunto che se il valore di pool/hot tub (quindi le features 'pooltypeid2', 'pooltypeid7', 'poolcnt') non è presente questo indichi 0 elementi"
   ]
  },
  {
   "cell_type": "markdown",
   "metadata": {},
   "source": [
    "Per quanto riguarda la feature 'finishedfloor1squarefeet' come si nota dalla heatmap all'inizio questa è correlata con 'calculatedfinishedsquarefeet' quindi proviamo ad utilizzare quest'ultima per fare il fill dei valori"
   ]
  },
  {
   "cell_type": "code",
   "execution_count": null,
   "metadata": {},
   "outputs": [],
   "source": [
    "plt.figure(figsize=(13,13))\n",
    "sns.jointplot(x=df_prop['finishedfloor1squarefeet'].values, y=df_prop['calculatedfinishedsquarefeet'].values)\n",
    "plt.ylabel('calculatedfinishedsquarefeet', fontsize=10)\n",
    "plt.xlabel('finishedfloor1squarefeet', fontsize=10)\n",
    "plt.title(\"finishedfloor1squarefeet Vs calculatedfinishedsquarefeet\", fontsize=13)\n",
    "plt.show()"
   ]
  },
  {
   "cell_type": "markdown",
   "metadata": {},
   "source": [
    "Dal grafico si nota che in alcune abitazioni i valori delle features sono esattamente gli stessi, probabilmente alcune case hanno la loro area complessiva occupata da solamente una stanza (come potrebbe essere una sorta di studio), quindi usiamo queste informazioni ipotetiche per il riempimento.<br>\n",
    "Inoltre alcune righe del dataset contengono valori di 'finishedfloor1squarefeet' maggiori della dimensione totale dell'abitazione; probabilmente questo è dovuto ad un inserimento del dato in input errato, quindi si è deciso di rimuovere queste righe dal dataset"
   ]
  },
  {
   "cell_type": "code",
   "execution_count": null,
   "metadata": {},
   "outputs": [],
   "source": [
    "df_prop.loc[(df_prop['finishedfloor1squarefeet'].isna()) & (df_prop['numberofstories']==1),'finishedfloor1squarefeet'] = df_prop.loc[(df_prop['finishedfloor1squarefeet'].isna()) & (df_prop['numberofstories']==1),'calculatedfinishedsquarefeet']\n",
    "\n",
    "droprows = df_prop.loc[df_prop['calculatedfinishedsquarefeet']<df_prop['finishedfloor1squarefeet']].index\n",
    "df_prop = df_prop.drop(droprows)"
   ]
  },
  {
   "cell_type": "code",
   "execution_count": null,
   "metadata": {},
   "outputs": [],
   "source": [
    "tmp_col=df_prop.columns\n",
    "tmp_list=[]\n",
    "\n",
    "for c in tmp_col:\n",
    "    if df_prop[c].isna().sum()/df_prop.shape[0]>0.0:\n",
    "        tmp_list.append(c)\n",
    "\n",
    "print(\"Number of missing features: \", len(tmp_list))\n",
    "print(tmp_list)"
   ]
  },
  {
   "cell_type": "markdown",
   "metadata": {},
   "source": [
    "Occupiamoci ora delle variabili inerenti alle tasse sugli edifici"
   ]
  },
  {
   "cell_type": "code",
   "execution_count": null,
   "metadata": {},
   "outputs": [],
   "source": [
    "tax_col_names=['taxvaluedollarcnt', 'landtaxvaluedollarcnt', 'structuretaxvaluedollarcnt', 'taxamount']\n",
    "df_tax=pd.DataFrame(df_prop[tax_col_names], columns=tax_col_names)\n",
    "df_tax.isna().sum()/df_tax.shape[0] *100"
   ]
  },
  {
   "cell_type": "markdown",
   "metadata": {},
   "source": [
    "Proviamo a recuperare i valori di 'structuretaxvaluedollarcnt', 'taxamount' e 'landtaxvaluedollarcnt'; la variabile più significativa da usare come supporto si ipotizza essere 'taxvaluedollarcnt', che continene anche il minor numero di valori missing.<br>\n",
    "Svolgiamo quindi il fill dei valori nan di 'taxvaluedollarcnt' usando la sua mediana, in modo che questo valore sia meno sensibile agli outliers."
   ]
  },
  {
   "cell_type": "code",
   "execution_count": null,
   "metadata": {},
   "outputs": [],
   "source": [
    "median=df_prop['taxvaluedollarcnt'].median()\n",
    "df_prop['taxvaluedollarcnt'].fillna(median, inplace=True)"
   ]
  },
  {
   "cell_type": "markdown",
   "metadata": {},
   "source": [
    "Da un analisi sulla correlazione e su grafici delle distribuzioni per le tre variabili target si nota inoltre che 'taxvaluedollarcnt' è la variabile più correlata per tutte: proviamo quindi a svolgere una predizione dei valori missing usando l'algoritmo KNN"
   ]
  },
  {
   "cell_type": "code",
   "execution_count": null,
   "metadata": {},
   "outputs": [],
   "source": [
    "x =  df_tax.corr()\n",
    "\n",
    "print('Target: structuretaxvaluedollarcnt')\n",
    "print(x['structuretaxvaluedollarcnt'].sort_values(ascending = False))\n",
    "plt.figure(figsize=(12,12))\n",
    "sns.jointplot(x=df_tax['structuretaxvaluedollarcnt'].values, y=df_tax['taxvaluedollarcnt'].values)\n",
    "plt.ylabel('taxvaluedollarcnt', fontsize=12)\n",
    "plt.xlabel('structuretaxvaluedollarcnt', fontsize=12)\n",
    "plt.title(\"structuretaxvaluedollarcnt Vs taxvaluedollarcnt\", fontsize=15)\n",
    "plt.show()\n",
    "\n",
    "print('Target: taxamount')\n",
    "print(x['taxamount'].sort_values(ascending = False))\n",
    "plt.figure(figsize=(12,12))\n",
    "sns.jointplot(x=df_tax['taxamount'].values, y=df_tax['taxvaluedollarcnt'].values)\n",
    "plt.ylabel('taxvaluedollarcnt', fontsize=12)\n",
    "plt.xlabel('taxamount', fontsize=12)\n",
    "plt.title(\"taxamount Vs taxvaluedollarcnt\", fontsize=15)\n",
    "plt.show()\n",
    "\n",
    "print('Target: landtaxvaluedollarcnt')\n",
    "print(x['landtaxvaluedollarcnt'].sort_values(ascending = False))\n",
    "plt.figure(figsize=(12,12))\n",
    "sns.jointplot(x=df_tax['landtaxvaluedollarcnt'].values, y=df_tax['taxvaluedollarcnt'].values)\n",
    "plt.ylabel('taxvaluedollarcnt', fontsize=12)\n",
    "plt.xlabel('landtaxvaluedollarcnt', fontsize=12)\n",
    "plt.title(\"landtaxvaluedollarcnt Vs taxvaluedollarcnt\", fontsize=15)\n",
    "plt.show()"
   ]
  },
  {
   "cell_type": "code",
   "execution_count": null,
   "metadata": {},
   "outputs": [],
   "source": [
    "parameters = { 'n_neighbors': [10, 20, 30, 40, 50, 100]}\n",
    "fun.fillna_knn_reg(df = df_prop, base = ['taxvaluedollarcnt'], target = 'structuretaxvaluedollarcnt', tuning_params=parameters)\n",
    "fun.fillna_knn_reg(df = df_prop, base = ['taxvaluedollarcnt'], target = 'taxamount', tuning_params=parameters)\n",
    "fun.fillna_knn_reg(df = df_prop, base = ['taxvaluedollarcnt'], target = 'landtaxvaluedollarcnt', tuning_params=parameters)"
   ]
  },
  {
   "cell_type": "code",
   "execution_count": null,
   "metadata": {},
   "outputs": [],
   "source": [
    "tmp_col=df_prop.columns\n",
    "tmp_list=[]\n",
    "\n",
    "for c in tmp_col:\n",
    "    if df_prop[c].isna().sum()/df_prop.shape[0]>0.0:\n",
    "        tmp_list.append(c)\n",
    "\n",
    "print(\"Number of missing features: \", len(tmp_list))\n",
    "print(tmp_list)"
   ]
  },
  {
   "cell_type": "markdown",
   "metadata": {},
   "source": [
    "Rimangono ora solamente poche features con valori missing, si procede riempendo:\n",
    "- riempiendo 'numberofstories' con la sua moda\n",
    "- rimuovendo la colonna 'censustractandblock', perché è già presente l'attributo 'rawcensustractandblock' che non contiene valori mancanti, anche se contiene l'informazione grezza\n",
    "- costruendo un modello predittivo per 'calculatedfinishedsquarefeet' basato su 'bathroomcnt', 'bedroomcnt', 'structuretaxvaluedollarcnt'; si ipotizza infatti che la dimensione totale finale dell'area abitabile sia dipendente da quanti bagni e camere da letto ci sono e da quante tasse sulla struttura dell'abitazione sono presenti\n",
    "- costruendo un modello predittivo per 'finishedfloor1squarefeet' basato sulle stesse features precedenti e sul numero di piani della casa (numberofstories)"
   ]
  },
  {
   "cell_type": "code",
   "execution_count": null,
   "metadata": {},
   "outputs": [],
   "source": [
    "plt.figure(figsize = (5,5))\n",
    "x_min=df_prop['numberofstories'].min()\n",
    "x_max=df_prop['numberofstories'].max()+1\n",
    "plt.xlim([x_min, x_max])\n",
    "plt.xticks(np.arange(x_min, x_max, 1))\n",
    "df_prop['numberofstories'].hist()\n",
    "plt.show()\n",
    "\n",
    "mode=float(df_prop['numberofstories'].mode())\n",
    "print(\"Moda: \", mode)\n",
    "df_prop['numberofstories'].fillna(mode, inplace=True)"
   ]
  },
  {
   "cell_type": "code",
   "execution_count": null,
   "metadata": {},
   "outputs": [],
   "source": [
    "df_prop.drop(columns='censustractandblock', inplace=True)"
   ]
  },
  {
   "cell_type": "code",
   "execution_count": null,
   "metadata": {},
   "outputs": [],
   "source": [
    "fun.fillna_knn_reg(df = df_prop, base = ['bathroomcnt', 'bedroomcnt', 'structuretaxvaluedollarcnt'], target = 'calculatedfinishedsquarefeet', tuning_params=parameters)\n",
    "fun.fillna_knn_reg(df = df_prop, base = ['bathroomcnt', 'bedroomcnt', 'structuretaxvaluedollarcnt', 'numberofstories'], target = 'finishedfloor1squarefeet', tuning_params=parameters)"
   ]
  },
  {
   "cell_type": "code",
   "execution_count": null,
   "metadata": {},
   "outputs": [],
   "source": [
    "tmp_col=df_prop.columns\n",
    "tmp_list=[]\n",
    "\n",
    "for c in tmp_col:\n",
    "    if df_prop[c].isna().sum()/df_prop.shape[0]>0.0:\n",
    "        tmp_list.append(c)\n",
    "\n",
    "print(\"Number of missing features: \", len(tmp_list))"
   ]
  },
  {
   "cell_type": "code",
   "execution_count": null,
   "metadata": {},
   "outputs": [],
   "source": [
    "print(\"Columns:\")\n",
    "print(df_prop.columns)\n",
    "print(\"Shape: \", df_prop.shape)"
   ]
  },
  {
   "cell_type": "code",
   "execution_count": null,
   "metadata": {},
   "outputs": [],
   "source": [
    "%store df_prop"
   ]
  },
  {
   "cell_type": "markdown",
   "metadata": {},
   "source": [
    "<a id='custom_features'></a>\n",
    "### Aggiunta di features custom potenzialmente utili"
   ]
  },
  {
   "cell_type": "markdown",
   "metadata": {},
   "source": [
    "Aggiungiamo ora alcune features custom che intuitivamente potrebbero essere utili per la costruzione del modello finale"
   ]
  },
  {
   "cell_type": "code",
   "execution_count": null,
   "metadata": {},
   "outputs": [],
   "source": [
    "#***Features relative a proprietà dell'edificio***\n",
    "#Età dell'edificio al momento della vendita\n",
    "df_prop['yearbuilt']=pd.to_datetime(df_prop['yearbuilt'], format='%Y')\n",
    "df_prop['assessmentyear']=pd.to_datetime(df_prop['assessmentyear'], format='%Y')\n",
    "df_prop['Life-until-selling']=(df_prop['transactiondate']-df_prop['yearbuilt']).dt.days\n",
    "\n",
    "#Rapporto tra structure value e land area \n",
    "df_prop['N-ValueProp'] = df_prop['structuretaxvaluedollarcnt']/df_prop['landtaxvaluedollarcnt']\n",
    "\n",
    "#Porzione di area vivibile\n",
    "df_prop['N-LivingAreaProp'] = df_prop['calculatedfinishedsquarefeet']/df_prop['lotsizesquarefeet']\n",
    "\n",
    "#Quantità di spazio extra\n",
    "df_prop['N-ExtraSpace'] = df_prop['lotsizesquarefeet'] - df_prop['calculatedfinishedsquarefeet'] \n",
    "\n",
    "#Features che indica se la proprietà ha garage, piscina o ibromassaggio and AC\n",
    "df_prop['N-GarPoolAC'] = ((df_prop['garagecarcnt']>0) & (df_prop['hashottuborspa']>0) & (df_prop['airconditioningtypeid']!=5))*1\n",
    "df_prop['N-GarPoolAC']=df_prop['N-GarPoolAC'].astype(bool)"
   ]
  },
  {
   "cell_type": "code",
   "execution_count": null,
   "metadata": {},
   "outputs": [],
   "source": [
    "#Rapporto tasse sulla casa su tasse totali per assesment year\n",
    "df_prop['N-ValueRatio'] = df_prop['taxvaluedollarcnt']/df_prop['taxamount']\n",
    "\n",
    "#Total Tax Score\n",
    "df_prop['N-TaxScore'] = df_prop['taxvaluedollarcnt']*df_prop['taxamount']"
   ]
  },
  {
   "cell_type": "code",
   "execution_count": null,
   "metadata": {},
   "outputs": [],
   "source": [
    "#***Features relative alla posizione***\n",
    "#Numero di proprietà per zip code\n",
    "zip_count = df_prop['regionidzip'].value_counts().to_dict()\n",
    "df_prop['N-zip_count'] = df_prop['regionidzip'].map(zip_count)\n",
    "\n",
    "#Numero di proprietà per città\n",
    "city_count = df_prop['regionidcity'].value_counts().to_dict()\n",
    "df_prop['N-city_count'] = df_prop['regionidcity'].map(city_count)\n",
    "\n",
    "#Numero di proprietà per per paese\n",
    "region_count = df_prop['regionidcounty'].value_counts().to_dict()\n",
    "df_prop['N-county_count'] = df_prop['regionidcounty'].map(region_count)"
   ]
  },
  {
   "cell_type": "code",
   "execution_count": null,
   "metadata": {},
   "outputs": [],
   "source": [
    "#***Features semplificazione di altre***\n",
    "#Indicatore se AC è presente o no\n",
    "df_prop['N-ACInd'] = (df_prop['airconditioningtypeid']!=5)*1\n",
    "df_prop['N-ACInd']=df_prop['N-ACInd'].astype(bool)\n",
    "\n",
    "#Indicatore se riscaldamento è presente o no\n",
    "df_prop['N-HeatInd'] = (df_prop['heatingorsystemtypeid']!=13)*1\n",
    "df_prop['N-HeatInd']=df_prop['N-HeatInd'].astype(bool)\n",
    "\n",
    "#Tipo di destinazione d'uso del terreno per il quale è suddiviso in zone l'immobile - prima erano 25 categorie, ora vengono compresse a 4\n",
    "df_prop['N-PropType'] = df_prop['propertylandusetypeid'].replace({31 : \"Mixed\", 46 : \"Other\", 47 : \"Mixed\", 246 : \"Mixed\", 247 : \"Mixed\", 248 : \"Mixed\", 260 : \"Home\", 261 : \"Home\", 262 : \"Home\", 263 : \"Home\", 264 : \"Home\", 265 : \"Home\", 266 : \"Home\", 267 : \"Home\", 268 : \"Home\", 269 : \"Not Built\", 270 : \"Home\", 271 : \"Home\", 273 : \"Home\", 274 : \"Other\", 275 : \"Home\", 276 : \"Home\", 279 : \"Home\", 290 : \"Not Built\", 291 : \"Not Built\" })\n",
    "df_prop.drop(columns='propertylandusetypeid', inplace=True)"
   ]
  },
  {
   "cell_type": "code",
   "execution_count": null,
   "metadata": {},
   "outputs": [],
   "source": [
    "#Altre features relative a structuretaxvaluedollarcnt perché viene considerata una colonna importante\n",
    "#Media di structuretaxvaluedollarcnt per città\n",
    "group = df_prop.groupby('regionidcity')['structuretaxvaluedollarcnt'].aggregate('mean').to_dict()\n",
    "df_prop['N-Avg-structuretaxvaluedollarcnt'] = df_prop['regionidcity'].map(group)\n",
    "\n",
    "#Discostamento del valore dalla media\n",
    "df_prop['N-Dev-structuretaxvaluedollarcnt'] = abs((df_prop['structuretaxvaluedollarcnt'] - df_prop['N-Avg-structuretaxvaluedollarcnt']))/df_prop['N-Avg-structuretaxvaluedollarcnt']"
   ]
  },
  {
   "cell_type": "code",
   "execution_count": null,
   "metadata": {},
   "outputs": [],
   "source": [
    "#Nel caso ci siano valori \"Infinito\" derivanti da divisioni per 0 vengono posti a 0 perché semanticamente errati\n",
    "df_prop.replace([np.inf, -np.inf], 0, inplace=True)"
   ]
  },
  {
   "cell_type": "code",
   "execution_count": null,
   "metadata": {},
   "outputs": [],
   "source": [
    "#Converione dei tipi delle nuove features da float64 a float32 per ridurre lo spazio occupato in memoria\n",
    "df_prop[df_prop.select_dtypes(np.float64).columns] = df_prop.select_dtypes(np.float64).astype(np.float32)"
   ]
  },
  {
   "cell_type": "code",
   "execution_count": null,
   "metadata": {},
   "outputs": [],
   "source": [
    "df_prop.info()\n",
    "print(\"Shape: \", df_prop.shape)"
   ]
  },
  {
   "cell_type": "code",
   "execution_count": null,
   "metadata": {},
   "outputs": [],
   "source": [
    "%store df_prop"
   ]
  },
  {
   "cell_type": "markdown",
   "metadata": {},
   "source": [
    "<a id='features_selection'></a>\n",
    "### Features importance, features selection e preparazione del dataset finale\n"
   ]
  },
  {
   "cell_type": "markdown",
   "metadata": {},
   "source": [
    "Arrivati a questo punto il dataset non presenta più valori mancanti e sono stati risolti i problemi di multicollinearità tra le variabili evidenziati nelle analisi precedenti. Si può quindi procedere alla selezione delle features di maggior impatto per la costruzione di modelli previsionali intuitivamente ancora più accurati"
   ]
  },
  {
   "cell_type": "code",
   "execution_count": null,
   "metadata": {},
   "outputs": [],
   "source": [
    "cat_var_names=set(['airconditioningtypeid', 'heatingorsystemtypeid', 'propertycountylandusecode', 'N-PropType',\n",
    "       'propertyzoningdesc', 'regionidcity', 'regionidcounty', 'regionidneighborhood', 'regionidzip', 'fips', 'rawcensustractandblock'])\n",
    "\n",
    "for c in cat_var_names:\n",
    "    print(c, len(df_prop[c].unique()) )"
   ]
  },
  {
   "cell_type": "markdown",
   "metadata": {},
   "source": [
    "Come passo per questa preparazione si decide di rimuovere le variabili categoriali con molti elementi distinti (in particolare 'propertyzoningdesc', 'propertycountylandusecode', 'regionidneighborhood', 'regionidzip', 'regionidcity', 'rawcensustractandblock') in modo da non aumentare in modo esponenziale la dimensione della matrice durante il processo di OneHotEncoding ed innalzare il tempo richiesto per il training e il testing dei modelli.<br>\n",
    "Il processo di encoding è necessario per la corretta gestione di features categriali, altrimenti queste verrebbero interpretate in modo ordinale "
   ]
  },
  {
   "cell_type": "code",
   "execution_count": null,
   "metadata": {},
   "outputs": [],
   "source": [
    "removed_cat=set(['propertyzoningdesc', 'propertycountylandusecode' , 'regionidneighborhood', 'regionidzip', 'regionidcity', 'rawcensustractandblock'])\n",
    "one_hot_colmuns=list(cat_var_names.difference(removed_cat))\n",
    "\n",
    "#enc_propertycountylandusecode=fun.zoningcode2int(df_prop,'propertycountylandusecode')\n",
    "#enc_propertyzoningdesc=fun.zoningcode2int(df_prop,'propertyzoningdesc')\n",
    "\n",
    "one_hot_enc=OneHotEncoder(sparse=False)\n",
    "one_hot_enc.fit(df_prop[one_hot_colmuns])\n",
    "one_hot_tranform_name=one_hot_enc.get_feature_names(one_hot_colmuns)\n",
    "\n",
    "one_hot_df=pd.DataFrame(one_hot_enc.transform(df_prop[one_hot_colmuns]), columns=one_hot_tranform_name)\n",
    "\n",
    "df_prop_drop_cat=df_prop.drop(columns=list(cat_var_names))\n",
    "df_prop_final=pd.concat([df_prop_drop_cat.reset_index(), one_hot_df.reset_index()], axis=1)\n",
    "df_prop_final.drop(columns=['index'], inplace=True)\n",
    "\n",
    "\n",
    "#Convert date to integer\n",
    "df_prop_final['yearbuilt']=df_prop_final['yearbuilt'].dt.year\n",
    "df_prop_final['assessmentyear']=df_prop_final['assessmentyear'].dt.year"
   ]
  },
  {
   "cell_type": "code",
   "execution_count": null,
   "metadata": {},
   "outputs": [],
   "source": [
    "print(\"Final shape: \", df_prop_final.shape)"
   ]
  },
  {
   "cell_type": "code",
   "execution_count": null,
   "metadata": {},
   "outputs": [],
   "source": [
    "X=df_prop_final.drop(columns=['parcelid', 'logerror', 'transactiondate'])\n",
    "y=df_prop_final['logerror'].values"
   ]
  },
  {
   "cell_type": "markdown",
   "metadata": {},
   "source": [
    "X e y conterranno rispettivamente:\n",
    "- le features da usare per la costruzione del modello\n",
    "- le etichette reali da utilizzare per il task di supervised learning\n",
    "\n",
    "(Si fa notare che le variabili contengono solo dati di tipo float (o convertibili in float) perché tipi richiesti dagli algoritmi utilizzati)"
   ]
  },
  {
   "cell_type": "markdown",
   "metadata": {},
   "source": [
    "Procediamo quindi al tuning dei parametri per la costruzione di modello ML di tipo gradient boosting.\n",
    "Una volta allenato con la migliore combinazione di parametri questo verrà usato per selezionae delle features di maggior impatto.<br>\n",
    "Si fa notare che è stato scelto questo modello per la sua elevata potenza e efficienza"
   ]
  },
  {
   "cell_type": "code",
   "execution_count": null,
   "metadata": {},
   "outputs": [],
   "source": [
    "tuning_params={'n_estimators': [10, 20, 30, 50, 100, 200]}\n",
    "X_train_80, X_test, y_train_80, y_test = train_test_split(X, y, \n",
    "                                                         test_size=0.20, random_state=42)\n",
    "X_train, X_valid, y_train, y_valid  = train_test_split(X_train_80, y_train_80, \n",
    "                                                       test_size=0.25, random_state=42)\n",
    "'''\n",
    "errors=[]\n",
    "for c in tuning_params['n_estimators']:\n",
    "    rf=RandomForestRegressor(n_estimators=c, n_jobs=-1)\n",
    "\n",
    "    scores = cross_val_score(rf, X_train_80, y_train_80, \n",
    "                         cv=5, scoring='neg_mean_squared_error', \n",
    "                         verbose = 0, n_jobs=-1)\n",
    "    \n",
    "    valid_mse = -scores.mean()\n",
    "    print (\"n_estimators: {:8.4f} - Validation MSE: {:.4f}\"\n",
    "           .format( c, valid_mse) )\n",
    "    \n",
    "    errors += [ [valid_mse, c] ]\n",
    "\n",
    "best_mse, best_c = min(errors)\n",
    "print ( \"Best n_estimators:\", best_c )''';"
   ]
  },
  {
   "cell_type": "code",
   "execution_count": null,
   "metadata": {},
   "outputs": [],
   "source": [
    "print(\"Traning Random Forest with the best n_estimators parameter...\")\n",
    "rf = RandomForestRegressor(n_estimators=200, n_jobs=-1) #TODO modificare\n",
    "rf.fit(X_train_80, y_train_80)\n",
    "\n",
    "test_mse = mean_squared_error(y_true = y_test, \n",
    "                          y_pred = rf.predict(X_test) )\n",
    "\n",
    "print (\"Test MSE: {:.4f}\".format(test_mse))"
   ]
  },
  {
   "cell_type": "code",
   "execution_count": null,
   "metadata": {},
   "outputs": [],
   "source": [
    "fun.plot_feature_importance(rf.feature_importances_, X.columns, 'Random Forest', limit=40)"
   ]
  },
  {
   "cell_type": "markdown",
   "metadata": {},
   "source": [
    "Si nota dal grafico che molte delle features custom aggiunte precedentemente hanno un peso rilevante nella costruzione del modello"
   ]
  },
  {
   "cell_type": "markdown",
   "metadata": {},
   "source": [
    "Vengono ora scelto mediante il successivo metodo di feature ranking con recursive feature elimination usante cross-validation sets il presunto miglior sottinsieme di n features in modo da ridurre la dimensionalità del dataframe (problemi di multicollinearità e curse of dimentionality) e ottimizzare maggiormente le previsioni"
   ]
  },
  {
   "cell_type": "code",
   "execution_count": null,
   "metadata": {},
   "outputs": [],
   "source": [
    "%store rf"
   ]
  },
  {
   "cell_type": "code",
   "execution_count": null,
   "metadata": {},
   "outputs": [],
   "source": [
    "selector = RFECV(rf, \n",
    "                 step=1,\n",
    "                 cv=5,\n",
    "                 scoring='neg_mean_squared_error',\n",
    "                 min_features_to_select=1,\n",
    "                 n_jobs=-1\n",
    "                )"
   ]
  },
  {
   "cell_type": "code",
   "execution_count": null,
   "metadata": {},
   "outputs": [],
   "source": [
    "selector.fit(X,y)\n",
    "selector.n_features_"
   ]
  },
  {
   "cell_type": "markdown",
   "metadata": {},
   "source": [
    "Le features selezionate dall'algoritmo sono quindi 11, nello specifico:"
   ]
  },
  {
   "cell_type": "code",
   "execution_count": null,
   "metadata": {},
   "outputs": [],
   "source": [
    "list_important_features=[x[0] for x in list(zip(X.columns, selector.support_)) if x[1]]\n",
    "print(list_important_features)"
   ]
  },
  {
   "cell_type": "markdown",
   "metadata": {},
   "source": [
    "['calculatedfinishedsquarefeet', 'latitude', 'longitude', 'lotsizesquarefeet', 'structuretaxvaluedollarcnt', 'landtaxvaluedollarcnt', 'taxamount', 'N-ValueRatio', 'N-Avg-structuretaxvaluedollarcnt', 'N-Dev-structuretaxvaluedollarcnt', 'regionidcity_33612.0']"
   ]
  },
  {
   "cell_type": "markdown",
   "metadata": {},
   "source": [
    "Creiamo e salviamo quindi il dataset contenete le features selezionate in modo che possa poi essere usato per la costruzione dei due modelli finali"
   ]
  },
  {
   "cell_type": "code",
   "execution_count": null,
   "metadata": {},
   "outputs": [],
   "source": [
    "selected_important_X=X[list_important_features]"
   ]
  },
  {
   "cell_type": "code",
   "execution_count": null,
   "metadata": {},
   "outputs": [],
   "source": [
    "selected_important_X.shape"
   ]
  },
  {
   "cell_type": "code",
   "execution_count": null,
   "metadata": {},
   "outputs": [],
   "source": [
    "%store selected_important_X\n",
    "%store y"
   ]
  },
  {
   "cell_type": "code",
   "execution_count": null,
   "metadata": {},
   "outputs": [],
   "source": [
    "selected_important_X.to_parquet(input_folder+\"final_df_2016.parquet\")"
   ]
  },
  {
   "cell_type": "code",
   "execution_count": null,
   "metadata": {},
   "outputs": [],
   "source": [
    "a"
   ]
  },
  {
   "cell_type": "markdown",
   "metadata": {},
   "source": [
    "<a id='mod_1'></a>\n",
    "### Corstruzione del modello sfruttante Random Forest e tuning dei suoi parametri"
   ]
  },
  {
   "cell_type": "code",
   "execution_count": null,
   "metadata": {},
   "outputs": [],
   "source": [
    "#Parametri: Learning rate, numero di foglie, numero di stimatori (i più importanti)"
   ]
  },
  {
   "cell_type": "code",
   "execution_count": null,
   "metadata": {},
   "outputs": [],
   "source": [
    "tuning_params={'n_estimators': [1, 2, 3, 5, 10, 30, 50]}\n",
    "X_train_80, X_test, y_train_80, y_test = train_test_split(selected_important_X, y, \n",
    "                                                         test_size=0.20, random_state=42)\n",
    "X_train, X_valid, y_train, y_valid  = train_test_split(X_train_80, y_train_80, \n",
    "                                                       test_size=0.25, random_state=42)\n",
    "\n",
    "errors=[]\n",
    "for c in tuning_params['n_estimators']:\n",
    "    rf=RandomForestRegressor(n_estimators=c, n_jobs=-1)\n",
    "\n",
    "    scores = cross_val_score(rf, X_train_80, y_train_80, \n",
    "                         cv=5, scoring='neg_mean_squared_error', \n",
    "                         verbose = 0, n_jobs=-1)\n",
    "    \n",
    "    valid_mse = -scores.mean()\n",
    "    print (\"n_estimators: {:8.3f} - Validation MSE: {:.3f}\"\n",
    "           .format( c, valid_mse) )\n",
    "    \n",
    "    errors += [ [valid_mse, c] ]\n",
    "\n",
    "best_mse, best_c = min(errors)\n",
    "print ( \"Best n_estimators:\", best_c )"
   ]
  },
  {
   "cell_type": "code",
   "execution_count": null,
   "metadata": {},
   "outputs": [],
   "source": [
    "print(\"Traning Random Forest with the best n_estimators parameter...\")\n",
    "rf_model = RandomForestRegressor(n_estimators=best_c, n_jobs=-1)\n",
    "rf_model.fit(X_train_80, y_train_80)\n",
    "\n",
    "test_mse = mean_squared_error(y_true = y_test, \n",
    "                          y_pred = rf_model.predict(X_test) )\n",
    "\n",
    "print (\"Test MSE: {:.3f}\".format(test_mse))"
   ]
  },
  {
   "cell_type": "markdown",
   "metadata": {},
   "source": [
    "<a id='mod_2'></a>\n",
    "### Corstruzione del modello sfruttante Gradient Boosting e tuning dei suoi parametri"
   ]
  },
  {
   "cell_type": "markdown",
   "metadata": {},
   "source": [
    "https://blog.cambridgespark.com/hyperparameter-tuning-in-xgboost-4ff9100a3b2f\n",
    "https://www.kaggle.com/code/prashant111/a-guide-on-xgboost-hyperparameters-tuning/notebook\n",
    "https://www.kaggle.com/code/prashant111/xgboost-k-fold-cv-feature-importance/notebook"
   ]
  },
  {
   "cell_type": "code",
   "execution_count": null,
   "metadata": {},
   "outputs": [],
   "source": [
    "tuning_params={'n_estimators': [1, 2, 3, 5, 10, 30, 50]}\n",
    "X_train_80, X_test, y_train_80, y_test = train_test_split(selected_important_X, y, \n",
    "                                                         test_size=0.20, random_state=42)\n",
    "X_train, X_valid, y_train, y_valid  = train_test_split(X_train_80, y_train_80, \n",
    "                                                       test_size=0.25, random_state=42)\n",
    "\n",
    "errors=[]\n",
    "for c in tuning_params['n_estimators']:\n",
    "    xgb_model=xgb.XGBRegressor(n_estimators=c, n_jobs=-1)\n",
    "\n",
    "    scores = cross_val_score(xgb_model, X_train_80, y_train_80, \n",
    "                         cv=5, scoring='neg_mean_squared_error', \n",
    "                         verbose = 0, n_jobs=-1)\n",
    "    \n",
    "    valid_mse = -scores.mean()\n",
    "    print (\"n_estimators: {:8.3f} - Validation MSE: {:.3f}\"\n",
    "           .format( c, valid_mse) )\n",
    "    \n",
    "    errors += [ [valid_mse, c] ]\n",
    "\n",
    "best_mse, best_c = min(errors)\n",
    "print ( \"Best n_estimators:\", best_c )"
   ]
  },
  {
   "cell_type": "code",
   "execution_count": null,
   "metadata": {},
   "outputs": [],
   "source": [
    "print(\"Traning XGBoost with the best n_estimators parameter...\")\n",
    "xgb_model = xgb.XGBRegressor(n_estimators=best_c, n_jobs=-1)\n",
    "xgb_model.fit(X_train_80, y_train_80)\n",
    "\n",
    "test_mse = mean_squared_error(y_true = y_test, \n",
    "                          y_pred = xgb_model.predict(X_test) )\n",
    "\n",
    "print (\"Test MSE: {:.3f}\".format(test_mse))"
   ]
  },
  {
   "cell_type": "code",
   "execution_count": null,
   "metadata": {},
   "outputs": [],
   "source": [
    "plt.figure(figsize=(20,10))\n",
    "plt.plot(range(len(y_test)), rf_model.predict(X_test), label = \"RF\")\n",
    "plt.plot(range(len(y_test)), xgb_model.predict(X_test), label = \"XGB\")\n",
    "plt.plot(range(len(y_test)), y_test, label = \"Real val\")\n"
   ]
  },
  {
   "cell_type": "code",
   "execution_count": null,
   "metadata": {},
   "outputs": [],
   "source": [
    "xgb1 = xgb.XGBRegressor() \n",
    "#TODO: CAMBIARE TUTTO\n",
    "parameters = {'learning_rate': [.03], #so called `eta` value\n",
    "              'max_depth': [5],\n",
    "              'min_child_weight': [4],\n",
    "              'silent': [1],\n",
    "              'subsample': [0.7],\n",
    "              'colsample_bytree': [0.7],\n",
    "              'n_estimators': [2]}\n",
    "\n",
    "xgb_grid = GridSearchCV(xgb1,\n",
    "                        parameters,\n",
    "                        cv = 5,\n",
    "                        n_jobs = -1,\n",
    "                        verbose=0)\n",
    "xgb_grid.fit(X_train_80,\n",
    "         y_train_80)\n",
    "\n",
    "print(xgb_grid.best_score_)\n",
    "print(xgb_grid.best_params_)"
   ]
  },
  {
   "cell_type": "code",
   "execution_count": null,
   "metadata": {},
   "outputs": [],
   "source": [
    "dtrain = xgb.DMatrix(X_train_80, label=y_train_80) #DMatrix è un tipo nativo usato da xgboost simile a numpy o pandas\n",
    "dtest = xgb.DMatrix(X_test, label=y_test)\n",
    "xgb_model=xgb.train(params={}, dtrain=dtrain, num_boost_round=5)\n",
    "'''\n",
    "# Define initial best params and MAE\n",
    "min_mae = float(\"Inf\")\n",
    "best_params = None\n",
    "for max_depth, min_child_weight in gridsearch_params:\n",
    "    print(\"CV with max_depth={}, min_child_weight={}\".format(\n",
    "                             max_depth,\n",
    "                             min_child_weight))\n",
    "    # Update our parameters\n",
    "    params['max_depth'] = max_depth\n",
    "    params['min_child_weight'] = min_child_weight\n",
    "    # Run CV\n",
    "    cv_results = xgb.cv(\n",
    "        params,\n",
    "        dtrain,\n",
    "        num_boost_round=num_boost_round,\n",
    "        seed=42,\n",
    "        nfold=5,\n",
    "        metrics={'mae'},\n",
    "        early_stopping_rounds=10\n",
    "    )\n",
    "    # Update best MAE\n",
    "    mean_mae = cv_results['test-mae-mean'].min()\n",
    "    boost_rounds = cv_results['test-mae-mean'].argmin()\n",
    "    print(\"\\tMAE {} for {} rounds\".format(mean_mae, boost_rounds))\n",
    "    if mean_mae < min_mae:\n",
    "        min_mae = mean_mae\n",
    "        best_params = (max_depth,min_child_weight)\n",
    "print(\"Best params: {}, {}, MAE: {}\".format(best_params[0], best_params[1], min_mae))\n",
    "'''\n"
   ]
  },
  {
   "cell_type": "markdown",
   "metadata": {},
   "source": [
    "<a id='comparison_and_analisys'></a>\n",
    "### Comparazione e analisi dei modelli"
   ]
  },
  {
   "cell_type": "markdown",
   "metadata": {},
   "source": [
    "FARE GRAFICO dei val di xgb e di rf rispetto a logerror e una metrica di errore \"finale\"\n",
    "(asse x: lunghezza del vettore contenente le y, asse y: valori di y per entrambi i cosi, metto la legenda, titolo ecc)"
   ]
  },
  {
   "cell_type": "code",
   "execution_count": null,
   "metadata": {},
   "outputs": [],
   "source": [
    "'''from sklearn.utils import resample\n",
    "from sklearn.ensemble import RandomForestRegressor\n",
    "from sklearn.metrics import mean_squared_error\n",
    "\n",
    "#calcolo le cose di prima su un dataset realistico:\n",
    "N_TESTS = 5\n",
    "\n",
    "stats = np.array([])\n",
    "\n",
    "boosts = range(1,51)\n",
    "for l in boosts:\n",
    "    y_preds = np.array([])\n",
    "    \n",
    "    for i in range(N_TESTS):\n",
    "        Xs, ys = resample(X,y, n_samples=int(0.67*len(y)) )\n",
    "\n",
    "        # train a decision tree classifier\n",
    "        rf = RandomForestRegressor(n_estimators=l)\n",
    "        rf.fit(Xs,ys)\n",
    "        \n",
    "        y_pred = rf.predict(X)\n",
    "        y_preds = np.column_stack( [y_preds, y_pred] ) if y_preds.size else y_pred\n",
    "\n",
    "    dt_bias     = (y-np.mean(y_preds,axis=1))**2\n",
    "    dt_variance = np.var(y_preds,axis=1)\n",
    "    dt_error    = (y_preds - y.reshape(-1,1))**2.0\n",
    "        \n",
    "    run_stats = np.array([dt_error.mean(), dt_bias.mean(), dt_variance.mean()])\n",
    "    \n",
    "    stats = np.column_stack( [stats, run_stats]) if stats.size else run_stats\n",
    "    \n",
    "fig, ax = plt.subplots(figsize=(6,6))\n",
    "\n",
    "ax.plot(boosts,stats[0,:], 'o:', label='Error')\n",
    "ax.plot(boosts,stats[1,:], 'o:', label='Bias$^2$')\n",
    "ax.plot(boosts,stats[2,:], 'o:', label='Variance')\n",
    "ax.set_xlabel('Number of Trees')\n",
    "ax.grid()\n",
    "ax.legend()\n",
    "\n",
    "print (\"Error/Bias/Variance at the last iteration:\", stats[:,-1])\n",
    "\n",
    "#Un dataset reale è difficile abbia bias 0, ma comunque vedo che ho ridotto la varianza''';"
   ]
  },
  {
   "cell_type": "markdown",
   "metadata": {},
   "source": [
    "<a id='final'></a>\n",
    "### Considerazioni finali"
   ]
  },
  {
   "cell_type": "code",
   "execution_count": null,
   "metadata": {},
   "outputs": [],
   "source": [
    "'''\n",
    "tuning_params={'n_estimators': [1, 2, 3, 5, 10, 30, 50, 100]}\n",
    "errors=[]\n",
    "for c in tuning_params['n_estimators']:\n",
    "    xgb_model=xgb.XGBRegressor(n_estimators=c)\n",
    "    # model.fit(X_train, y_train)\n",
    "\n",
    "    scores = cross_val_score(xgb_model, X_train_80, y_train_80, \n",
    "                         cv=5, scoring='neg_mean_squared_error', \n",
    "                         verbose = 0, n_jobs=-1) #uso l'alg descritto appena sopra\n",
    "                         #cv: numero di fold (esecuzione con spezzettamenti vari, vedo immagine appena sopra)\n",
    "    \n",
    "    #print (scores), score è un vettore\n",
    "    valid_mse = -scores.mean()\n",
    "    print (\"n_estimators: {:8.3f} - Validation MSE: {:.3f}\"\n",
    "           .format( c, valid_mse) )\n",
    "    \n",
    "    errors += [ [valid_mse, c] ]\n",
    "\n",
    "best_mse, best_c = min(errors)\n",
    "print ( \"Best n_estimators:\", best_c )''';"
   ]
  }
 ],
 "metadata": {
  "interpreter": {
   "hash": "b3ba2566441a7c06988d0923437866b63cedc61552a5af99d1f4fb67d367b25f"
  },
  "kernelspec": {
   "display_name": "Python 3.9.7 ('base')",
   "language": "python",
   "name": "python3"
  },
  "language_info": {
   "codemirror_mode": {
    "name": "ipython",
    "version": 3
   },
   "file_extension": ".py",
   "mimetype": "text/x-python",
   "name": "python",
   "nbconvert_exporter": "python",
   "pygments_lexer": "ipython3",
   "version": "3.9.7"
  },
  "orig_nbformat": 4
 },
 "nbformat": 4,
 "nbformat_minor": 2
}
