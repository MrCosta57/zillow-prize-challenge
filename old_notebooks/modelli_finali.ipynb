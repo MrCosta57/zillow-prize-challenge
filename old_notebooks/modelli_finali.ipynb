{
 "cells": [
  {
   "cell_type": "markdown",
   "metadata": {},
   "source": [
    "## Tuning of the tree\n",
    "\n",
    "The power of the tree can be tuned with the following constraints:\n",
    "\n",
    "- **max_depth**: The maximum depth of the tree. \n",
    "\n",
    "- **min_samples_split**: The minimum number of samples required to split an internal node\n",
    "\n",
    "- **min_samples_leaf**: The minimum number of samples required to be at a leaf node.\n",
    "\n",
    "- **max_leaf_nodes**: The maximum number of trees.\n",
    "\n",
    "- **min_impurity_decrease**: The minimum gain for allowing a split.\n",
    "\n",
    "- **min_impurity_split**: The minim error for allowing a split.\n",
    "\n",
    "In conjunction with the above constraints most implementations implement a smarter growing strategy. \n",
    "Indeed, if we are limited in the number of nodes, then growing order makes a difference.\n",
    "In this case, it is useful to evaluate the gain provided by splitting all of the tree leaves, and \n",
    "then split the leaf the provides the maximum gain.\n",
    "\n",
    "\n",
    "min_samples_leaf, max_leaf_nodes: di solito sono i più importanti"
   ]
  },
  {
   "cell_type": "code",
   "execution_count": null,
   "metadata": {},
   "outputs": [],
   "source": []
  }
 ],
 "metadata": {
  "language_info": {
   "name": "python"
  },
  "orig_nbformat": 4
 },
 "nbformat": 4,
 "nbformat_minor": 2
}
