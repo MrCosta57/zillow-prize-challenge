{
 "cells": [
  {
   "cell_type": "markdown",
   "metadata": {},
   "source": [
    "# PROGETTO DWM 2021\n",
    "### Giovanni Costa - 880892"
   ]
  },
  {
   "cell_type": "markdown",
   "metadata": {},
   "source": [
    "Indice:\n",
    "- [Analisi del dataset \"Train\"](#analisi_train)\n",
    "- [Analisi del dataset \"Properties\"](#analisi_prop)\n",
    "- [Features Engineering](#features_engineer)\n",
    "    - [Gestione dei missing values e rimozione delle colonne non necessarie o che presentano multicollinearità](#missing_val)\n",
    "        - [Recupero di missing values per features connesse a posizione geografica e tassazione](#recover_missing_pos_tax)\n",
    "    - [Aggiunta di features custom potenzialmente utili](#custom_features) \n",
    "- [Features importance, features selection e preparazione del dataset finale](#features_selection)\n",
    "- [Corstruzione del modello sfruttante Random Forest e tuning dei suoi parametri](#mod_1)\n",
    "- [Corstruzione del modello sfruttante Gradient Boosting e tuning dei suoi parametri](#mod_2)\n",
    "- [Comparazione e analisi dei modelli](#comparison_and_analisys)\n",
    "- [Considerazioni finali](#final)"
   ]
  },
  {
   "cell_type": "code",
   "execution_count": 1,
   "metadata": {},
   "outputs": [],
   "source": [
    "#Import delle librerie\n",
    "%matplotlib inline\n",
    "import sys\n",
    "sys.path.insert(0, '')\n",
    "import utils as fun #my utils.py file\n",
    "import pandas as pd\n",
    "import numpy as np\n",
    "import matplotlib.pyplot as plt\n",
    "import seaborn as sns\n",
    "import warnings\n",
    "import xgboost as xgb\n",
    "from sklearn.utils import resample\n",
    "from sklearn.preprocessing import OneHotEncoder\n",
    "from sklearn.ensemble import RandomForestRegressor\n",
    "from sklearn.model_selection import train_test_split\n",
    "from sklearn.metrics import mean_squared_error\n",
    "from sklearn.feature_selection import RFECV\n",
    "from sklearn.model_selection import GridSearchCV \n",
    "\n",
    "\n",
    "input_folder='data/'\n",
    "data_file_name='properties_2016.parquet'\n",
    "train_file_name='train_2016_v2.csv'"
   ]
  },
  {
   "cell_type": "markdown",
   "metadata": {},
   "source": [
    "<a id='analisi_train'></a>\n",
    "### Analisi del dataset \"Train\""
   ]
  },
  {
   "cell_type": "code",
   "execution_count": 2,
   "metadata": {},
   "outputs": [
    {
     "name": "stdout",
     "output_type": "stream",
     "text": [
      "<class 'pandas.core.frame.DataFrame'>\n",
      "RangeIndex: 90275 entries, 0 to 90274\n",
      "Data columns (total 3 columns):\n",
      " #   Column           Non-Null Count  Dtype  \n",
      "---  ------           --------------  -----  \n",
      " 0   parcelid         90275 non-null  int64  \n",
      " 1   logerror         90275 non-null  float64\n",
      " 2   transactiondate  90275 non-null  object \n",
      "dtypes: float64(1), int64(1), object(1)\n",
      "memory usage: 2.1+ MB\n",
      "Shape:  (90275, 3)\n"
     ]
    }
   ],
   "source": [
    "#Lettura del dataset\n",
    "df_train=pd.read_csv(input_folder+train_file_name)\n",
    "df_train.info()\n",
    "print('Shape: ', df_train.shape)\n",
    "\n",
    "#Conversione della colonna 'transactiondate' in tipo np.datetime64\n",
    "df_train['transactiondate']=pd.to_datetime(df_train['transactiondate'], format='%Y-%m-%d')"
   ]
  },
  {
   "cell_type": "code",
   "execution_count": 3,
   "metadata": {},
   "outputs": [
    {
     "data": {
      "text/plain": [
       "parcelid           0.0\n",
       "logerror           0.0\n",
       "transactiondate    0.0\n",
       "dtype: float64"
      ]
     },
     "execution_count": 3,
     "metadata": {},
     "output_type": "execute_result"
    }
   ],
   "source": [
    "#Missing values ratio\n",
    "df_train.isna().sum()/df_train.shape[0] *100"
   ]
  },
  {
   "cell_type": "code",
   "execution_count": 4,
   "metadata": {},
   "outputs": [
    {
     "name": "stdout",
     "output_type": "stream",
     "text": [
      "125\n",
      "0\n"
     ]
    }
   ],
   "source": [
    "#Analisi dei duplicati\n",
    "print(df_train.duplicated(subset='parcelid').sum())\n",
    "print(df_train.duplicated(subset=['parcelid', 'transactiondate']).sum())"
   ]
  },
  {
   "cell_type": "markdown",
   "metadata": {},
   "source": [
    "Notiamo che il dataset contiene 3 colonne:\n",
    "- Parcelid: id univoco che identifica ogni istanza di edificio\n",
    "- Logerror: indice che dovremmo utilizzare per verificare la bontà del nostro modello<br>\n",
    "Dal sito internet della competizione: *\"Zillow is asking you to predict the log-error between their Zestimate and the actual sale price, given all the features of a home. The log error is defined as logerror=log(Zestimate)−log(SalePrice)\"*\n",
    "- Transactiondate: data di vendita reale o stimata per quell'istanza di edificio\n",
    "\n",
    "Inoltre non ci sono valori nulli nel dataset ma ci sono parcelid duplicati, anche se la coppia parcelid e transactiondate è univoca per ogni riga. Questo implica che ci sono dati di vendite reali (o previste) con riferimento allo stesso edificio in diverse giornate"
   ]
  },
  {
   "cell_type": "markdown",
   "metadata": {},
   "source": [
    "<a id='analisi_prop'></a>\n",
    "### Analisi del dataset \"Properties\""
   ]
  },
  {
   "cell_type": "code",
   "execution_count": 5,
   "metadata": {},
   "outputs": [
    {
     "name": "stdout",
     "output_type": "stream",
     "text": [
      "<class 'pandas.core.frame.DataFrame'>\n",
      "RangeIndex: 2985217 entries, 0 to 2985216\n",
      "Data columns (total 58 columns):\n",
      " #   Column                        Dtype  \n",
      "---  ------                        -----  \n",
      " 0   parcelid                      int64  \n",
      " 1   airconditioningtypeid         float32\n",
      " 2   architecturalstyletypeid      float32\n",
      " 3   basementsqft                  float32\n",
      " 4   bathroomcnt                   float32\n",
      " 5   bedroomcnt                    float32\n",
      " 6   buildingclasstypeid           float32\n",
      " 7   buildingqualitytypeid         float32\n",
      " 8   calculatedbathnbr             float32\n",
      " 9   decktypeid                    float32\n",
      " 10  finishedfloor1squarefeet      float32\n",
      " 11  calculatedfinishedsquarefeet  float32\n",
      " 12  finishedsquarefeet12          float32\n",
      " 13  finishedsquarefeet13          float32\n",
      " 14  finishedsquarefeet15          float32\n",
      " 15  finishedsquarefeet50          float32\n",
      " 16  finishedsquarefeet6           float32\n",
      " 17  fips                          float32\n",
      " 18  fireplacecnt                  float32\n",
      " 19  fullbathcnt                   float32\n",
      " 20  garagecarcnt                  float32\n",
      " 21  garagetotalsqft               float32\n",
      " 22  hashottuborspa                object \n",
      " 23  heatingorsystemtypeid         float32\n",
      " 24  latitude                      float32\n",
      " 25  longitude                     float32\n",
      " 26  lotsizesquarefeet             float32\n",
      " 27  poolcnt                       float32\n",
      " 28  poolsizesum                   float32\n",
      " 29  pooltypeid10                  float32\n",
      " 30  pooltypeid2                   float32\n",
      " 31  pooltypeid7                   float32\n",
      " 32  propertycountylandusecode     object \n",
      " 33  propertylandusetypeid         float32\n",
      " 34  propertyzoningdesc            object \n",
      " 35  rawcensustractandblock        float32\n",
      " 36  regionidcity                  float32\n",
      " 37  regionidcounty                float32\n",
      " 38  regionidneighborhood          float32\n",
      " 39  regionidzip                   float32\n",
      " 40  roomcnt                       float32\n",
      " 41  storytypeid                   float32\n",
      " 42  threequarterbathnbr           float32\n",
      " 43  typeconstructiontypeid        float32\n",
      " 44  unitcnt                       float32\n",
      " 45  yardbuildingsqft17            float32\n",
      " 46  yardbuildingsqft26            float32\n",
      " 47  yearbuilt                     float32\n",
      " 48  numberofstories               float32\n",
      " 49  fireplaceflag                 object \n",
      " 50  structuretaxvaluedollarcnt    float32\n",
      " 51  taxvaluedollarcnt             float32\n",
      " 52  assessmentyear                float32\n",
      " 53  landtaxvaluedollarcnt         float32\n",
      " 54  taxamount                     float32\n",
      " 55  taxdelinquencyflag            object \n",
      " 56  taxdelinquencyyear            float32\n",
      " 57  censustractandblock           float32\n",
      "dtypes: float32(52), int64(1), object(5)\n",
      "memory usage: 728.8+ MB\n",
      "Shape:  (2985217, 58)\n"
     ]
    }
   ],
   "source": [
    "#Lettura del dataset\n",
    "df_prop=pd.read_parquet(input_folder+data_file_name)\n",
    "#df_prop=pd.read_csv(input_folder+data_file_name, header=0) #parametro nrows=x per limitare il numero di righe\n",
    "\n",
    "#Conversione delle colonne da float64 a float32 per diminuire la memoria occupata (circa 600mb in meno)\n",
    "df_prop[df_prop.select_dtypes(np.float64).columns] = df_prop.select_dtypes(np.float64).astype(np.float32)\n",
    "\n",
    "df_prop.info()\n",
    "print('Shape: ', df_prop.shape)"
   ]
  },
  {
   "cell_type": "code",
   "execution_count": 6,
   "metadata": {},
   "outputs": [
    {
     "name": "stdout",
     "output_type": "stream",
     "text": [
      "0\n",
      "0\n"
     ]
    }
   ],
   "source": [
    "#Analisi dei duplicati\n",
    "print(df_prop.duplicated(subset='parcelid').sum())\n",
    "print(df_prop.duplicated().sum())"
   ]
  },
  {
   "cell_type": "code",
   "execution_count": 7,
   "metadata": {},
   "outputs": [
    {
     "data": {
      "text/plain": [
       "storytypeid                     99.945599\n",
       "basementsqft                    99.945465\n",
       "yardbuildingsqft26              99.911330\n",
       "fireplaceflag                   99.827048\n",
       "architecturalstyletypeid        99.796966\n",
       "typeconstructiontypeid          99.773986\n",
       "finishedsquarefeet13            99.743000\n",
       "buildingclasstypeid             99.576949\n",
       "decktypeid                      99.427311\n",
       "finishedsquarefeet6             99.263002\n",
       "poolsizesum                     99.063385\n",
       "pooltypeid2                     98.925539\n",
       "pooltypeid10                    98.762603\n",
       "taxdelinquencyflag              98.108613\n",
       "taxdelinquencyyear              98.108546\n",
       "hashottuborspa                  97.688141\n",
       "yardbuildingsqft17              97.308236\n",
       "finishedsquarefeet15            93.608572\n",
       "finishedsquarefeet50            93.209304\n",
       "finishedfloor1squarefeet        93.209304\n",
       "threequarterbathnbr             89.560859\n",
       "fireplacecnt                    89.527160\n",
       "pooltypeid7                     83.737899\n",
       "poolcnt                         82.663438\n",
       "numberofstories                 77.151778\n",
       "airconditioningtypeid           72.815410\n",
       "garagetotalsqft                 70.411967\n",
       "garagecarcnt                    70.411967\n",
       "regionidneighborhood            61.262381\n",
       "heatingorsystemtypeid           39.488453\n",
       "buildingqualitytypeid           35.063749\n",
       "unitcnt                         33.757244\n",
       "propertyzoningdesc              33.719090\n",
       "lotsizesquarefeet                9.248875\n",
       "finishedsquarefeet12             9.246664\n",
       "calculatedbathnbr                4.318346\n",
       "fullbathcnt                      4.318346\n",
       "censustractandblock              2.516601\n",
       "landtaxvaluedollarcnt            2.268947\n",
       "regionidcity                     2.105207\n",
       "yearbuilt                        2.007492\n",
       "calculatedfinishedsquarefeet     1.861339\n",
       "structuretaxvaluedollarcnt       1.841809\n",
       "taxvaluedollarcnt                1.425357\n",
       "taxamount                        1.046825\n",
       "regionidzip                      0.468308\n",
       "propertycountylandusecode        0.411260\n",
       "roomcnt                          0.384394\n",
       "bathroomcnt                      0.383959\n",
       "bedroomcnt                       0.383557\n",
       "assessmentyear                   0.383188\n",
       "regionidcounty                   0.383121\n",
       "fips                             0.383121\n",
       "latitude                         0.383121\n",
       "longitude                        0.383121\n",
       "propertylandusetypeid            0.383121\n",
       "rawcensustractandblock           0.383121\n",
       "parcelid                         0.000000\n",
       "dtype: float64"
      ]
     },
     "execution_count": 7,
     "metadata": {},
     "output_type": "execute_result"
    }
   ],
   "source": [
    "#Missing values ratio\n",
    "df_prop.isna().sum().sort_values(ascending=False)/df_prop.shape[0]*100"
   ]
  },
  {
   "cell_type": "code",
   "execution_count": 8,
   "metadata": {},
   "outputs": [
    {
     "data": {
      "image/png": "[encoded data removed]",
      "text/plain": [
       "<Figure size 864x1296 with 1 Axes>"
      ]
     },
     "metadata": {
      "needs_background": "light"
     },
     "output_type": "display_data"
    }
   ],
   "source": [
    "#Missing values graph\n",
    "df_missing = df_prop.isnull().sum(axis=0).reset_index()\n",
    "df_missing.columns = ['column_name', 'missing_count']\n",
    "df_missing = df_missing.loc[df_missing['missing_count']>0]\n",
    "df_missing = df_missing.sort_values(by='missing_count')\n",
    "\n",
    "ind = np.arange(df_missing.shape[0])\n",
    "width = 0.9\n",
    "fig, ax = plt.subplots(figsize=(12,18))\n",
    "rects = ax.barh(ind, df_missing.missing_count.values)\n",
    "ax.set_yticks(ind)\n",
    "ax.set_yticklabels(df_missing.column_name.values, rotation='horizontal')\n",
    "ax.set_xlabel(\"Count of missing values\")\n",
    "ax.set_title(\"Number of missing values in each column\")\n",
    "plt.show()"
   ]
  },
  {
   "cell_type": "code",
   "execution_count": 9,
   "metadata": {},
   "outputs": [],
   "source": [
    "#Selezione delle colonne contenti variabili categoriali sulla base della ducumentazione fornita su kaggle.com (usate successivamente)\n",
    "other_cols = ['parcelid', 'airconditioningtypeid','architecturalstyletypeid','buildingqualitytypeid','buildingclasstypeid','decktypeid','fips', 'fireplaceflag', 'hashottuborspa', 'heatingorsystemtypeid', 'pooltypeid10','pooltypeid2','pooltypeid7','propertycountylandusecode','propertylandusetypeid','propertyzoningdesc','rawcensustractandblock', 'censustractandblock', 'regionidcounty', 'regionidcity', 'regionidzip', 'regionidneighborhood','regionidzip','storytypeid','typeconstructiontypeid', 'assessmentyear', 'taxdelinquencyflag', 'taxdelinquencyyear', 'yearbuilt']\n",
    "numerical_cols = [x for x in df_prop.columns if x not in other_cols]"
   ]
  },
  {
   "cell_type": "code",
   "execution_count": 10,
   "metadata": {},
   "outputs": [
    {
     "name": "stdout",
     "output_type": "stream",
     "text": [
      "Column: hashottuborspa\n",
      "values:  [None True] \n",
      "\n",
      "Column: propertycountylandusecode\n",
      "values:  ['010D' '0109' '1200' '1210' '010V' '300V' '0100' '0200' '010C' '0300'\n",
      " '1204' '100V' '01HC' '120C' '040V' '1214' '0101' None '070P' '0700' '1'\n",
      " '128' '0' '1112' '5050' '1110' '1118' '010E' '1111' '1129' '1420' '1222'\n",
      " '1128' '1310' '1117' '1333' '1116' '1410' '0104' '070D' '0108' '012C'\n",
      " '0400' '0103' '01DC' '0201' '010M' '030V' '0110' '010F' '010G' '010H'\n",
      " '0301' '0102' '020E' '020M' '0401' '0113' '0141' '122' '38' '135' '96'\n",
      " '71' '73' '34' '0209' '040G' '010L' '012E' '0111' '1720' '1014' '012D'\n",
      " '1213' '1201' '1321' '1444' '1421' '0140' '0123' '0133' '020G' '030G'\n",
      " '105' '0204' '010T' '0120' '1202' '121G' '010X' '020V' '880V' '1120'\n",
      " '0130' '0118' '01HE' '120G' '5060' '0131' '0203' '011C' '1215' '1212'\n",
      " '040D' '120T' '0420' '8' '1203' '070X' '0114' '030E' '121T' '1012' '121C'\n",
      " '0105' '5' '020C' '0106' '040B' '10E' '1216' '3' '0121' '1722' '1432'\n",
      " '1119' '9000' '103' '6050' '8800' '0304' '0303' '172C' '1011' '070V'\n",
      " '0309' '030C' '1211' '020X' '84' '070L' '12TO' '121L' '0701' '1218'\n",
      " '0720' '101' '070G' '0600' '12T0' '01DD' '0409' '302C' '0410' '01DG'\n",
      " '4101' '0202' '0710' '7500' '010' '0310' '0115' '1723' '0711' '0220'\n",
      " '014D' '030L' '10G' '07M' '0450' '0230' '0208' '201' '030D' '590V' '2'\n",
      " '104' '0210' '121O' '91' '121*' '0402' '1205' '010Y' '36' '10C' '9100'\n",
      " '0741' '172G' '1181' '2003' '12T2' '0403' '200' '0305' '01T0' '070M'\n",
      " '012G' '1206' '8830' '030A' '4400' '7301' '1208' '01DE' '7842' '0404'\n",
      " '040A' '0320' '1002' '020A' '02G0' '1724' '0122' '04TO' '1217' '7200'\n",
      " '0730' '4' '2700' '76' '071P' '1820' '0134' '1013' '5900' '020D' 'SFR'\n",
      " '0132' '01C' '0308' '7100' '121X' '0231' '03TO' '030B' '01MC' '12T4'\n",
      " '5011' '3414'] \n",
      "\n",
      "Column: propertyzoningdesc\n",
      "values:  [None 'LCA11*' 'LAC2' ... 'WCR1400000' 'EMPYYY' 'RMM2*'] \n",
      "\n",
      "Column: fireplaceflag\n",
      "values:  [None True] \n",
      "\n",
      "Column: taxdelinquencyflag\n",
      "values:  [None 'Y'] \n",
      "\n"
     ]
    }
   ],
   "source": [
    "#Visualizzazione dei valori delle colonne di tipo non float, int o datetime\n",
    "not_float_col=df_prop.select_dtypes(exclude=[np.float32, np.int64]).columns\n",
    "for c in not_float_col:\n",
    "    print(\"Column: \"+c)\n",
    "    print(\"values: \", df_prop[c].unique(), \"\\n\")"
   ]
  },
  {
   "cell_type": "markdown",
   "metadata": {},
   "source": [
    "Il dataset presenta molte features e istanze:\n",
    "- alcune di queste aventi tipo float32 sono in realtà identificativi numerici di tipo intero associati a categorie descritte più approfonditamente nella documentazione di Kaggle.com\n",
    "- quelle di tipo object invece sono stringhe rappresentanti valori booleani oppure codici relativi a categorie\n",
    "\n",
    "Le varie colonne verranno quindi gestite successivamente per rappresentare la corretta semantica del dato.\n",
    "\n",
    "Il dataset inoltre non presenta duplicati né in parcelid né globalmente, ma contiene un numero molto elevato di valori mancanti: diverse colonne infatti presentano un missing ratio superiore al 97%. Nei capitoli successivi verrà illustrato come vengono gestiti tali valori mancanti per ognuna delle features presenti"
   ]
  },
  {
   "cell_type": "markdown",
   "metadata": {},
   "source": [
    "Per questo particolare task di supervised learning sono sufficienti solamente le abitazioni all'interno del file \"train_2016_v2\" e non tutte quelle presenti in \"properties_2016\", si procede quindi all'unione dei due dataset analizzati precedentemente in modo da averne uno unico contenente l'insieme di tutte le colonne e solamente le righe che verranno effettivamente utilizzate per la previsione"
   ]
  },
  {
   "cell_type": "code",
   "execution_count": 11,
   "metadata": {},
   "outputs": [],
   "source": [
    "df_prop=df_train.merge(df_prop, on='parcelid')\n",
    "df_prop['transactiondate']=pd.to_datetime(df_prop['transactiondate'], format='%Y-%m-%d')\n",
    "df_prop[df_prop.select_dtypes(np.float64).columns] = df_prop.select_dtypes(np.float64).astype(np.float32)"
   ]
  },
  {
   "cell_type": "markdown",
   "metadata": {},
   "source": [
    "Dataset dopo il merge:"
   ]
  },
  {
   "cell_type": "code",
   "execution_count": 12,
   "metadata": {},
   "outputs": [
    {
     "name": "stdout",
     "output_type": "stream",
     "text": [
      "<class 'pandas.core.frame.DataFrame'>\n",
      "Int64Index: 90275 entries, 0 to 90274\n",
      "Data columns (total 60 columns):\n",
      " #   Column                        Non-Null Count  Dtype         \n",
      "---  ------                        --------------  -----         \n",
      " 0   parcelid                      90275 non-null  int64         \n",
      " 1   logerror                      90275 non-null  float32       \n",
      " 2   transactiondate               90275 non-null  datetime64[ns]\n",
      " 3   airconditioningtypeid         28781 non-null  float32       \n",
      " 4   architecturalstyletypeid      261 non-null    float32       \n",
      " 5   basementsqft                  43 non-null     float32       \n",
      " 6   bathroomcnt                   90275 non-null  float32       \n",
      " 7   bedroomcnt                    90275 non-null  float32       \n",
      " 8   buildingclasstypeid           16 non-null     float32       \n",
      " 9   buildingqualitytypeid         57364 non-null  float32       \n",
      " 10  calculatedbathnbr             89093 non-null  float32       \n",
      " 11  decktypeid                    658 non-null    float32       \n",
      " 12  finishedfloor1squarefeet      6856 non-null   float32       \n",
      " 13  calculatedfinishedsquarefeet  89614 non-null  float32       \n",
      " 14  finishedsquarefeet12          85596 non-null  float32       \n",
      " 15  finishedsquarefeet13          33 non-null     float32       \n",
      " 16  finishedsquarefeet15          3564 non-null   float32       \n",
      " 17  finishedsquarefeet50          6856 non-null   float32       \n",
      " 18  finishedsquarefeet6           421 non-null    float32       \n",
      " 19  fips                          90275 non-null  float32       \n",
      " 20  fireplacecnt                  9607 non-null   float32       \n",
      " 21  fullbathcnt                   89093 non-null  float32       \n",
      " 22  garagecarcnt                  29937 non-null  float32       \n",
      " 23  garagetotalsqft               29937 non-null  float32       \n",
      " 24  hashottuborspa                2365 non-null   object        \n",
      " 25  heatingorsystemtypeid         56080 non-null  float32       \n",
      " 26  latitude                      90275 non-null  float32       \n",
      " 27  longitude                     90275 non-null  float32       \n",
      " 28  lotsizesquarefeet             80125 non-null  float32       \n",
      " 29  poolcnt                       17901 non-null  float32       \n",
      " 30  poolsizesum                   969 non-null    float32       \n",
      " 31  pooltypeid10                  1161 non-null   float32       \n",
      " 32  pooltypeid2                   1204 non-null   float32       \n",
      " 33  pooltypeid7                   16697 non-null  float32       \n",
      " 34  propertycountylandusecode     90274 non-null  object        \n",
      " 35  propertylandusetypeid         90275 non-null  float32       \n",
      " 36  propertyzoningdesc            58313 non-null  object        \n",
      " 37  rawcensustractandblock        90275 non-null  float32       \n",
      " 38  regionidcity                  88472 non-null  float32       \n",
      " 39  regionidcounty                90275 non-null  float32       \n",
      " 40  regionidneighborhood          36012 non-null  float32       \n",
      " 41  regionidzip                   90240 non-null  float32       \n",
      " 42  roomcnt                       90275 non-null  float32       \n",
      " 43  storytypeid                   43 non-null     float32       \n",
      " 44  threequarterbathnbr           12009 non-null  float32       \n",
      " 45  typeconstructiontypeid        299 non-null    float32       \n",
      " 46  unitcnt                       58353 non-null  float32       \n",
      " 47  yardbuildingsqft17            2646 non-null   float32       \n",
      " 48  yardbuildingsqft26            95 non-null     float32       \n",
      " 49  yearbuilt                     89519 non-null  float32       \n",
      " 50  numberofstories               20570 non-null  float32       \n",
      " 51  fireplaceflag                 222 non-null    object        \n",
      " 52  structuretaxvaluedollarcnt    89895 non-null  float32       \n",
      " 53  taxvaluedollarcnt             90274 non-null  float32       \n",
      " 54  assessmentyear                90275 non-null  float32       \n",
      " 55  landtaxvaluedollarcnt         90274 non-null  float32       \n",
      " 56  taxamount                     90269 non-null  float32       \n",
      " 57  taxdelinquencyflag            1783 non-null   object        \n",
      " 58  taxdelinquencyyear            1783 non-null   float32       \n",
      " 59  censustractandblock           89670 non-null  float32       \n",
      "dtypes: datetime64[ns](1), float32(53), int64(1), object(5)\n",
      "memory usage: 23.8+ MB\n",
      "Shape:  (90275, 60)\n"
     ]
    }
   ],
   "source": [
    "df_prop.info()\n",
    "print('Shape: ', df_prop.shape)"
   ]
  },
  {
   "cell_type": "markdown",
   "metadata": {},
   "source": [
    "<a id='features_engineer'></a>\n",
    "## Features Engineering"
   ]
  },
  {
   "cell_type": "markdown",
   "metadata": {},
   "source": [
    "<a id='missing_val'></a>\n",
    "### Gestione dei missing values e rimozione delle colonne non necessarie o che presentano multicollinearità"
   ]
  },
  {
   "cell_type": "code",
   "execution_count": 13,
   "metadata": {},
   "outputs": [
    {
     "data": {
      "image/png": "[encoded data removed]",
      "text/plain": [
       "<Figure size 864x576 with 2 Axes>"
      ]
     },
     "metadata": {
      "needs_background": "light"
     },
     "output_type": "display_data"
    },
    {
     "data": {
      "text/plain": [
       "<Figure size 432x288 with 0 Axes>"
      ]
     },
     "metadata": {},
     "output_type": "display_data"
    }
   ],
   "source": [
    "#Heatmap per visualizzare le correlazioni tra le variabili\n",
    "plt.figure(figsize = (12,8))\n",
    "sns.heatmap(data=df_prop[numerical_cols].corr(), cmap='Reds')\n",
    "plt.show()\n",
    "plt.gcf().clear()"
   ]
  },
  {
   "cell_type": "markdown",
   "metadata": {},
   "source": [
    "Dall'analisi della heatmap sulla correlazione tra le variabili numeriche si nota che le features 'calculatedfinishedsquarefeet', 'finishedsquarefeet12', 'finishedsquarefeet13', 'finishedsquarefeet15' e 'finishedsquarefeet6' sono molto correlate essendo di colore rosso scuro.\n",
    "La stessa considerazione si applica anche a 'finishedfloor1squarefeet' e 'finishedsquarefeet50' che in aggiunta nella documentazione fornita hanno la stessa descrizione.\n",
    "Similmente anche 'bathroomcnt', 'calculatedbathnbr' e 'fullbathcnt' sono correlate"
   ]
  },
  {
   "cell_type": "markdown",
   "metadata": {},
   "source": [
    "Viene mantenuta solamente 'calculatedfinishedsquarefeet' tra le quattro perché presenta meno valori missing, mentre tra 'finishedfloor1squarefeet' e 'finishedsquarefeet50' viene rimossa arbitrariamente 'finishedsquarefeet50' in quanto il missing ratio è equivalente.\n",
    "\n",
    "Vengono eliminati anche 'bathroomcnt' e 'calculatedbathnbr' lasciando 'bathroomcnt', in quanto viene applicata un'intuizione analoga alla precedente"
   ]
  },
  {
   "cell_type": "code",
   "execution_count": 14,
   "metadata": {},
   "outputs": [
    {
     "data": {
      "text/plain": [
       "calculatedfinishedsquarefeet     0.732207\n",
       "finishedsquarefeet12             5.183052\n",
       "finishedsquarefeet13            99.963445\n",
       "finishedsquarefeet15            96.052063\n",
       "finishedsquarefeet6             99.533647\n",
       "dtype: float64"
      ]
     },
     "execution_count": 14,
     "metadata": {},
     "output_type": "execute_result"
    }
   ],
   "source": [
    "df_prop[['calculatedfinishedsquarefeet', 'finishedsquarefeet12', 'finishedsquarefeet13', 'finishedsquarefeet15', 'finishedsquarefeet6']].isna().sum()/df_prop.shape[0] *100"
   ]
  },
  {
   "cell_type": "code",
   "execution_count": 15,
   "metadata": {},
   "outputs": [],
   "source": [
    "df_prop.drop(columns=['finishedsquarefeet12', 'finishedsquarefeet13', 'finishedsquarefeet15', 'finishedsquarefeet6'], inplace=True)"
   ]
  },
  {
   "cell_type": "code",
   "execution_count": 16,
   "metadata": {},
   "outputs": [
    {
     "data": {
      "text/plain": [
       "finishedfloor1squarefeet    92.405428\n",
       "finishedsquarefeet50        92.405428\n",
       "dtype: float64"
      ]
     },
     "execution_count": 16,
     "metadata": {},
     "output_type": "execute_result"
    }
   ],
   "source": [
    "df_prop[['finishedfloor1squarefeet', 'finishedsquarefeet50']].isna().sum()/df_prop.shape[0] *100"
   ]
  },
  {
   "cell_type": "code",
   "execution_count": 17,
   "metadata": {},
   "outputs": [],
   "source": [
    "df_prop.drop(columns='finishedsquarefeet50', inplace=True)"
   ]
  },
  {
   "cell_type": "code",
   "execution_count": 18,
   "metadata": {},
   "outputs": [
    {
     "data": {
      "text/plain": [
       "calculatedbathnbr    1.309333\n",
       "bathroomcnt          0.000000\n",
       "fullbathcnt          1.309333\n",
       "dtype: float64"
      ]
     },
     "execution_count": 18,
     "metadata": {},
     "output_type": "execute_result"
    }
   ],
   "source": [
    "df_prop[['calculatedbathnbr', 'bathroomcnt', 'fullbathcnt']].isna().sum()/df_prop.shape[0] *100"
   ]
  },
  {
   "cell_type": "code",
   "execution_count": 19,
   "metadata": {},
   "outputs": [],
   "source": [
    "df_prop.drop(columns=['calculatedbathnbr', 'fullbathcnt'], inplace=True)"
   ]
  },
  {
   "cell_type": "markdown",
   "metadata": {},
   "source": [
    "'hashottuborspa' e 'pooltypeid10' presentano semanticamente la stessa descrizione. Si decide di rimuovere 'pooltypeid10' che presenta meno valori missing.\n",
    "\n",
    "Viene inoltre assunto che se il valore di pool/hot tub (features 'pooltypeid2', 'pooltypeid7', 'poolcnt') non è presente questo indichi 0 elementi presenti nell'edificio"
   ]
  },
  {
   "cell_type": "code",
   "execution_count": 20,
   "metadata": {},
   "outputs": [
    {
     "name": "stdout",
     "output_type": "stream",
     "text": [
      "True    2365\n",
      "Name: hashottuborspa, dtype: int64\n",
      "1.0    1161\n",
      "Name: pooltypeid10, dtype: int64\n"
     ]
    }
   ],
   "source": [
    "print(df_prop['hashottuborspa'].value_counts())\n",
    "print(df_prop['pooltypeid10'].value_counts())"
   ]
  },
  {
   "cell_type": "code",
   "execution_count": 21,
   "metadata": {},
   "outputs": [
    {
     "data": {
      "text/plain": [
       "hashottuborspa    97.380227\n",
       "pooltypeid10      98.713930\n",
       "dtype: float64"
      ]
     },
     "execution_count": 21,
     "metadata": {},
     "output_type": "execute_result"
    }
   ],
   "source": [
    "df_prop[['hashottuborspa', 'pooltypeid10']].isnull().sum()/df_prop.shape[0] *100"
   ]
  },
  {
   "cell_type": "code",
   "execution_count": 22,
   "metadata": {},
   "outputs": [],
   "source": [
    "df_prop.drop(columns='pooltypeid10', inplace=True)"
   ]
  },
  {
   "cell_type": "code",
   "execution_count": 23,
   "metadata": {},
   "outputs": [],
   "source": [
    "df_prop[['pooltypeid2', 'pooltypeid7', 'poolcnt']]=df_prop[['pooltypeid2', 'pooltypeid7', 'poolcnt']].fillna(0)\n",
    "df_prop['hashottuborspa'].fillna(0, inplace=True) #>90% nan\n",
    "df_prop['hashottuborspa']=df_prop['hashottuborspa'].astype(bool);"
   ]
  },
  {
   "cell_type": "markdown",
   "metadata": {},
   "source": [
    "Per quanto riguarda la features 'poolsizesum' viene utilizzata la mediana dei valori presenti alle righe in cui la colonna 'poolcnt' è meggiore di 0, altrimenti questo valore viene impostato a 0\n",
    "(si sceglie di usare la mediana come filler perchè meno influenzata dagli outliers e perchè si assume che le dimensioni delle piscine negli Stati Uniti siano più o meno standard) "
   ]
  },
  {
   "cell_type": "code",
   "execution_count": 24,
   "metadata": {},
   "outputs": [],
   "source": [
    "median_poolsize=df_prop[df_prop['poolcnt']>0]['poolsizesum'].median()\n",
    "df_prop.loc[(df_prop['poolcnt']>0) & (df_prop['poolsizesum'].isna()), 'poolsizesum']=median_poolsize\n",
    "\n",
    "#Se non ha la piscina la dimensione della piscina è 0\n",
    "df_prop.loc[(df_prop['poolcnt'] == 0), 'poolsizesum'] = 0"
   ]
  },
  {
   "cell_type": "markdown",
   "metadata": {},
   "source": [
    "'fireplaceflag' e 'fireplacecnt' presentano delle inconsistenze:\n",
    "come si nota dall'analisi sottostante ci sono righe dove 'fireplacecnt' è presente, mentre 'fireplaceflag' è missing oppure errato. \n",
    "\n",
    "Si prosegue dunque mettendo a 0 i valori di 'fireplacecnt' quando NaN e impostando a True 'fireplaceflag' quando 'fireplacecnt' è presente, False altrimenti"
   ]
  },
  {
   "cell_type": "code",
   "execution_count": 25,
   "metadata": {},
   "outputs": [],
   "source": [
    "df_prop['fireplaceflag'].fillna(0, inplace=True) #>90% nan\n",
    "df_prop['fireplaceflag']=df_prop['fireplaceflag'].astype(bool)\n",
    "df_prop.loc[(~df_prop['fireplacecnt'].isna()), 'fireplaceflag']=True\n",
    "df_prop['fireplacecnt'].fillna(0, inplace=True)"
   ]
  },
  {
   "cell_type": "markdown",
   "metadata": {},
   "source": [
    "Vengono riempiti i valori di 'taxdelinquencyflag', 'garagecarcnt', 'garagetotalsqft' assumendo 0 se il valore è NaN, come fatto in precedenza"
   ]
  },
  {
   "cell_type": "code",
   "execution_count": 26,
   "metadata": {},
   "outputs": [],
   "source": [
    "df_prop[['taxdelinquencyflag', 'garagecarcnt', 'garagetotalsqft']]=df_prop[['taxdelinquencyflag', 'garagecarcnt', 'garagetotalsqft']].fillna(0)\n",
    "df_prop['taxdelinquencyflag']=df_prop['taxdelinquencyflag'].astype(bool)"
   ]
  },
  {
   "cell_type": "markdown",
   "metadata": {},
   "source": [
    "Le features come 'airconditioningtypeid', 'heatingorsystemtypeid',  'threequarterbathnbr' invece si ritengono poco importanti e variabili così si decide di rimpiazzare i valori missing di tali features categoriali con la loro rispettiva moda.<br>\n",
    "Come si nota dai grafici sottastanti la frequenza di queste variabili categoriali è intuitivamente corretta, ragionevolmente si ipotizza infatti che AC e Heating System siano più comunemente 'Central' e che la maggior parte delle abitazioni abbiano solamente un bagno a trequarti"
   ]
  },
  {
   "cell_type": "code",
   "execution_count": 27,
   "metadata": {},
   "outputs": [
    {
     "data": {
      "image/png": "[encoded data removed]",
      "text/plain": [
       "<Figure size 576x360 with 1 Axes>"
      ]
     },
     "metadata": {
      "needs_background": "light"
     },
     "output_type": "display_data"
    },
    {
     "name": "stdout",
     "output_type": "stream",
     "text": [
      "Moda:  1.0\n"
     ]
    }
   ],
   "source": [
    "plt.figure(figsize = (8,5))\n",
    "df_prop['airconditioningtypeid'].astype(int, errors='ignore').hist(grid=False)\n",
    "plt.show()\n",
    "\n",
    "mode=float(df_prop['airconditioningtypeid'].mode())\n",
    "print(\"Moda: \", mode)\n",
    "df_prop['airconditioningtypeid'].fillna(mode, inplace=True)"
   ]
  },
  {
   "cell_type": "code",
   "execution_count": 28,
   "metadata": {},
   "outputs": [
    {
     "data": {
      "image/png": "[encoded data removed]",
      "text/plain": [
       "<Figure size 720x432 with 1 Axes>"
      ]
     },
     "metadata": {
      "needs_background": "light"
     },
     "output_type": "display_data"
    },
    {
     "name": "stdout",
     "output_type": "stream",
     "text": [
      "Moda:  2.0\n"
     ]
    }
   ],
   "source": [
    "plt.figure(figsize = (10,6))\n",
    "df_prop['heatingorsystemtypeid'].astype(int, errors='ignore').hist(grid=False)\n",
    "plt.show()\n",
    "\n",
    "mode=float(df_prop['heatingorsystemtypeid'].mode())\n",
    "print(\"Moda: \", mode)\n",
    "df_prop['heatingorsystemtypeid'].fillna(mode, inplace=True)"
   ]
  },
  {
   "cell_type": "code",
   "execution_count": 29,
   "metadata": {},
   "outputs": [
    {
     "data": {
      "image/png": "[encoded data removed]",
      "text/plain": [
       "<Figure size 360x360 with 1 Axes>"
      ]
     },
     "metadata": {
      "needs_background": "light"
     },
     "output_type": "display_data"
    },
    {
     "name": "stdout",
     "output_type": "stream",
     "text": [
      "Moda:  1.0\n"
     ]
    }
   ],
   "source": [
    "plt.figure(figsize = (5,5))\n",
    "df_prop['threequarterbathnbr'].astype(int, errors='ignore').hist(grid=False)\n",
    "plt.show()\n",
    "\n",
    "mode=float(df_prop['threequarterbathnbr'].mode())\n",
    "print(\"Moda: \", mode)\n",
    "df_prop['threequarterbathnbr'].fillna(mode, inplace=True)"
   ]
  },
  {
   "cell_type": "markdown",
   "metadata": {},
   "source": [
    "Si decide infine ora di rimuovere le features con missing ratio maggiore di 97% perché ritenute con troppa poca informazione per essere utili al task di regressione"
   ]
  },
  {
   "cell_type": "code",
   "execution_count": 30,
   "metadata": {},
   "outputs": [],
   "source": [
    "tmp_col=df_prop.columns\n",
    "for c in tmp_col:\n",
    "    if df_prop[c].isna().sum()/df_prop.shape[0]>0.97:\n",
    "        df_prop.drop(columns=c, inplace=True)"
   ]
  },
  {
   "cell_type": "code",
   "execution_count": 31,
   "metadata": {},
   "outputs": [
    {
     "name": "stdout",
     "output_type": "stream",
     "text": [
      "Number of features with missing values:  17\n",
      "['buildingqualitytypeid', 'finishedfloor1squarefeet', 'calculatedfinishedsquarefeet', 'lotsizesquarefeet', 'propertycountylandusecode', 'propertyzoningdesc', 'regionidcity', 'regionidneighborhood', 'regionidzip', 'unitcnt', 'yearbuilt', 'numberofstories', 'structuretaxvaluedollarcnt', 'taxvaluedollarcnt', 'landtaxvaluedollarcnt', 'taxamount', 'censustractandblock']\n",
      "Number of total features after droping:  43\n"
     ]
    }
   ],
   "source": [
    "tmp_col=df_prop.columns\n",
    "tmp_list=[]\n",
    "\n",
    "for c in tmp_col:\n",
    "    if df_prop[c].isna().sum()/df_prop.shape[0]>0.0:\n",
    "        tmp_list.append(c)\n",
    "\n",
    "print(\"Number of features with missing values: \", len(tmp_list))\n",
    "print(tmp_list)\n",
    "print(\"Number of total features after droping: \", len(df_prop.columns))"
   ]
  },
  {
   "cell_type": "markdown",
   "metadata": {},
   "source": [
    "Si analizzano quindi le features rimanenti rimanenti cercando di ripristinare gli ultimi missing values"
   ]
  },
  {
   "cell_type": "markdown",
   "metadata": {},
   "source": [
    "<a id='recover_missing_pos_tax'></a>\n",
    "### Recupero di missing values per features connesse a posizione geografica e tassazione\n"
   ]
  },
  {
   "cell_type": "code",
   "execution_count": 32,
   "metadata": {},
   "outputs": [
    {
     "data": {
      "text/plain": [
       "latitude                      0.000000\n",
       "longitude                     0.000000\n",
       "buildingqualitytypeid        36.456383\n",
       "propertycountylandusecode     0.001108\n",
       "propertyzoningdesc           35.405151\n",
       "regionidcity                  1.997231\n",
       "regionidneighborhood         60.108557\n",
       "regionidzip                   0.038770\n",
       "unitcnt                      35.360842\n",
       "yearbuilt                     0.837441\n",
       "dtype: float64"
      ]
     },
     "execution_count": 32,
     "metadata": {},
     "output_type": "execute_result"
    }
   ],
   "source": [
    "geo_col_names=['latitude', 'longitude', 'buildingqualitytypeid', 'propertycountylandusecode', 'propertyzoningdesc', 'regionidcity', 'regionidneighborhood', 'regionidzip', 'unitcnt', 'yearbuilt']\n",
    "df_geo=pd.DataFrame(df_prop[geo_col_names], columns=geo_col_names)\n",
    "df_geo.isna().sum()/df_geo.shape[0] *100"
   ]
  },
  {
   "cell_type": "markdown",
   "metadata": {},
   "source": [
    "Intuitivamente, vista inoltre l'assenza di valori mancanti, si potrebbero utilizzare le features 'latitude' e 'longitude' relativi alla posizione dell'edificio per recuperare altri attributi non presenti: abitazioni geograficamente vicine infatti si pensa che possano avere determinate caratteristiche simili<br><br>\n",
    "Si ripristinano quindi i valori originali di queste due features perché come descritto nella documentazine fornita quelli all'interno del dataset sono moltiplicati per 10^6.<br>"
   ]
  },
  {
   "cell_type": "code",
   "execution_count": 33,
   "metadata": {},
   "outputs": [],
   "source": [
    "df_prop['latitude']=df_prop['latitude']/(10**6)\n",
    "df_prop['longitude']=df_prop['longitude']/(10**6)\n",
    "#df_prop.dropna( axis = 0, subset = ['latitude', 'longitude'], inplace = True )"
   ]
  },
  {
   "cell_type": "markdown",
   "metadata": {},
   "source": [
    "Si è deciso di utilizzare l'algoritmo K-nearest neighbors (KNN) per svolgere il task di recupero perché ritenuto il più adatto visto che si basa sull'apprendimento mediante analogie tra istanze vicine e vista la sua efficienza computazionale. Nella cella di codice sottostante sono inoltre spiegate le motivazioni e le ipotesi usate per il ripristino delle variabili categoriali e numeriche"
   ]
  },
  {
   "cell_type": "code",
   "execution_count": 34,
   "metadata": {},
   "outputs": [
    {
     "name": "stdout",
     "output_type": "stream",
     "text": [
      "Target:  buildingqualitytypeid\n",
      "Best Score: 0.785\n",
      "Best Params:  {'n_neighbors': 1}\n",
      "Test Accuracy: 0.803\n",
      "Done!\n",
      "\n",
      "Target:  propertycountylandusecode\n",
      "Dealing with variables that are actually string/categories...\n",
      "num of categories:  (78,)\n",
      "Target:  propertycountylandusecode\n",
      "Best Score: 0.770\n",
      "Best Params:  {'n_neighbors': 2}\n",
      "Test Accuracy: 0.781\n",
      "Done!\n",
      "\n",
      "Target:  propertyzoningdesc\n",
      "Dealing with variables that are actually string/categories...\n",
      "num of categories:  (1997,)\n",
      "Target:  propertyzoningdesc\n",
      "Best Score: 0.763\n",
      "Best Params:  {'n_neighbors': 1}\n",
      "Test Accuracy: 0.780\n",
      "Done!\n",
      "\n",
      "Target:  regionidcity\n",
      "Best Score: 0.984\n",
      "Best Params:  {'n_neighbors': 1}\n",
      "Test Accuracy: 0.987\n",
      "Done!\n",
      "\n",
      "Target:  regionidneighborhood\n",
      "Best Score: 0.970\n",
      "Best Params:  {'n_neighbors': 1}\n",
      "Test Accuracy: 0.973\n",
      "Done!\n",
      "\n",
      "Target:  regionidzip\n",
      "Best Score: 0.976\n",
      "Best Params:  {'n_neighbors': 1}\n",
      "Test Accuracy: 0.979\n",
      "Done!\n",
      "\n",
      "Target:  unitcnt\n",
      "Best Score: 0.937\n",
      "Best Params:  {'n_neighbors': 10}\n",
      "Test Accuracy: 0.936\n",
      "Done!\n",
      "\n",
      "Target:  yearbuilt\n",
      "Best Score: 0.452\n",
      "Best Params:  {'n_neighbors': 1}\n",
      "Test Accuracy: 0.479\n",
      "Done!\n",
      "\n",
      "Target:  lotsizesquarefeet\n",
      "Best Score: 2221009484.8000\n",
      "Best Params:  {'n_neighbors': 1}\n",
      "MSE: 948738048.0000\n",
      "Done!\n",
      "\n"
     ]
    }
   ],
   "source": [
    "warnings.simplefilter(action='ignore', category=UserWarning)\n",
    "parameters = { 'n_neighbors': [1, 2, 3, 4, 5, 8, 10]}\n",
    "\n",
    "\n",
    "#Si ipotizza che blocchi di case vicine siano state costruite più o meno tutte nello stesso periodo e che quindi abbiano qualità simile\n",
    "fun.fillna_knn(df=df_prop, base=['latitude', 'longitude'],\n",
    "           target='buildingqualitytypeid', tuning_params=parameters)\n",
    "\n",
    "#Abitazioni vicine hanno lo stesso countrylandusecode  \n",
    "tmp_label_enc=fun.zoningcode2int(df=df_prop, target='propertycountylandusecode')          \n",
    "fun.fillna_knn(df=df_prop,\n",
    "           base=['latitude', 'longitude'],\n",
    "           target='propertycountylandusecode', tuning_params=parameters)\n",
    "df_prop['propertycountylandusecode']=tmp_label_enc.inverse_transform(df_prop['propertycountylandusecode'].astype(int))\n",
    "\n",
    "\n",
    "#Abitazioni vicine hanno la stessa zoning description\n",
    "tmp_label_enc=fun.zoningcode2int(df=df_prop, target='propertyzoningdesc')\n",
    "fun.fillna_knn(df=df_prop,\n",
    "           base=['latitude', 'longitude'],\n",
    "           target='propertyzoningdesc', tuning_params=parameters)\n",
    "df_prop['propertyzoningdesc']=tmp_label_enc.inverse_transform(df_prop['propertyzoningdesc'].astype(int))\n",
    "\n",
    "\n",
    "#Anche in questo caso proprietà vicine si assume abbiano gli stessi regionidcity, regionidneighborhood e regionidzip\n",
    "fun.fillna_knn(df=df_prop,\n",
    "           base=['latitude', 'longitude'],\n",
    "           target='regionidcity', tuning_params=parameters)\n",
    "\n",
    "fun.fillna_knn(df=df_prop,\n",
    "           base=['latitude', 'longitude'],\n",
    "           target='regionidneighborhood', tuning_params=parameters)\n",
    "\n",
    "fun.fillna_knn(df=df_prop,\n",
    "           base=['latitude', 'longitude'],\n",
    "           target='regionidzip', tuning_params=parameters)\n",
    "\n",
    "\n",
    "#Stessa intuizione per i campi 'unitcnt' (Number of units the structure is built into), 'yearbuilt' e 'lotsizesquarefeet'\n",
    "fun.fillna_knn(df=df_prop,\n",
    "           base=['latitude', 'longitude'],\n",
    "           target='unitcnt', tuning_params=parameters)\n",
    "\n",
    "fun.fillna_knn(df=df_prop,\n",
    "           base=['latitude', 'longitude'],\n",
    "           target='yearbuilt', tuning_params=parameters)\n",
    "\n",
    "fun.fillna_knn_reg(df=df_prop,\n",
    "           base=['latitude', 'longitude'],\n",
    "           target='lotsizesquarefeet', tuning_params=parameters)\n",
    "\n",
    "warnings.simplefilter(action='default', category=UserWarning)"
   ]
  },
  {
   "cell_type": "markdown",
   "metadata": {},
   "source": [
    "Per quanto riguarda la feature 'finishedfloor1squarefeet', come si può anche notare dalla heatmap all'inizio della sezione corrente, questa è correlata con 'calculatedfinishedsquarefeet'. Si prova quindi ad utilizzare quest'ultima per svolgerne il filling dei valori"
   ]
  },
  {
   "cell_type": "code",
   "execution_count": 35,
   "metadata": {},
   "outputs": [
    {
     "data": {
      "text/plain": [
       "<Figure size 936x936 with 0 Axes>"
      ]
     },
     "metadata": {},
     "output_type": "display_data"
    },
    {
     "data": {
      "image/png": "[encoded data removed]",
      "text/plain": [
       "<Figure size 432x432 with 3 Axes>"
      ]
     },
     "metadata": {
      "needs_background": "light"
     },
     "output_type": "display_data"
    }
   ],
   "source": [
    "plt.figure(figsize=(13,13))\n",
    "sns.jointplot(x=df_prop['finishedfloor1squarefeet'].values, y=df_prop['calculatedfinishedsquarefeet'].values)\n",
    "plt.ylabel('calculatedfinishedsquarefeet', fontsize=10)\n",
    "plt.xlabel('finishedfloor1squarefeet', fontsize=10)\n",
    "plt.title(\"finishedfloor1squarefeet Vs calculatedfinishedsquarefeet\", fontsize=13)\n",
    "plt.show()"
   ]
  },
  {
   "cell_type": "markdown",
   "metadata": {},
   "source": [
    "Dal grafico si nota che in alcune abitazioni i valori delle features sono esattamente gli stessi: probabilmente alcune case hanno la loro area complessiva occupata da solamente una stanza (come potrebbe essere una sorta di studio). Vengono quindi assunte queste informazioni per vere e si procede al riempimento.<br>\n",
    "Inoltre alcune righe del dataset contengono valori di 'finishedfloor1squarefeet' maggiori della dimensione totale dell'abitazione, probabilmente dovuto ad un inserimento del dato in input errato. Si decide quindi di rimuovere tali righe dal dataset"
   ]
  },
  {
   "cell_type": "code",
   "execution_count": 36,
   "metadata": {},
   "outputs": [],
   "source": [
    "df_prop.loc[(df_prop['finishedfloor1squarefeet'].isna()) & (df_prop['numberofstories']==1),'finishedfloor1squarefeet'] = df_prop.loc[(df_prop['finishedfloor1squarefeet'].isna()) & (df_prop['numberofstories']==1),'calculatedfinishedsquarefeet']\n",
    "\n",
    "droprows = df_prop.loc[df_prop['calculatedfinishedsquarefeet']<df_prop['finishedfloor1squarefeet']].index\n",
    "df_prop = df_prop.drop(droprows)"
   ]
  },
  {
   "cell_type": "code",
   "execution_count": 37,
   "metadata": {},
   "outputs": [
    {
     "name": "stdout",
     "output_type": "stream",
     "text": [
      "Number of features with missing values:  8\n",
      "['finishedfloor1squarefeet', 'calculatedfinishedsquarefeet', 'numberofstories', 'structuretaxvaluedollarcnt', 'taxvaluedollarcnt', 'landtaxvaluedollarcnt', 'taxamount', 'censustractandblock']\n"
     ]
    }
   ],
   "source": [
    "tmp_col=df_prop.columns\n",
    "tmp_list=[]\n",
    "\n",
    "for c in tmp_col:\n",
    "    if df_prop[c].isna().sum()/df_prop.shape[0]>0.0:\n",
    "        tmp_list.append(c)\n",
    "\n",
    "print(\"Number of features with missing values: \", len(tmp_list))\n",
    "print(tmp_list)"
   ]
  },
  {
   "cell_type": "markdown",
   "metadata": {},
   "source": [
    "Si gestiscono ora le variabili inerenti alle tasse sugli edifici: in particolare si prova a recuperare i valori di 'structuretaxvaluedollarcnt', 'taxamount' e 'landtaxvaluedollarcnt'.\n",
    "La variabile 'taxvaluedollarcnt' si ipotizza essere la più significativa da usare come supporto in quanto contenente anche minor numero di valori missing.<br>\n",
    "\n",
    "Viene svolto quindi il filling dei valori NaN di 'taxvaluedollarcnt' usando la sua mediana, in modo da avere un risultato meno sensibile agli outliers."
   ]
  },
  {
   "cell_type": "code",
   "execution_count": 38,
   "metadata": {},
   "outputs": [
    {
     "data": {
      "text/plain": [
       "taxvaluedollarcnt             0.001108\n",
       "landtaxvaluedollarcnt         0.001108\n",
       "structuretaxvaluedollarcnt    0.420945\n",
       "taxamount                     0.006647\n",
       "dtype: float64"
      ]
     },
     "execution_count": 38,
     "metadata": {},
     "output_type": "execute_result"
    }
   ],
   "source": [
    "tax_col_names=['taxvaluedollarcnt', 'landtaxvaluedollarcnt', 'structuretaxvaluedollarcnt', 'taxamount']\n",
    "df_tax=pd.DataFrame(df_prop[tax_col_names], columns=tax_col_names)\n",
    "df_tax.isna().sum()/df_tax.shape[0] *100"
   ]
  },
  {
   "cell_type": "code",
   "execution_count": 39,
   "metadata": {},
   "outputs": [],
   "source": [
    "median=df_prop['taxvaluedollarcnt'].median()\n",
    "df_prop['taxvaluedollarcnt'].fillna(median, inplace=True)"
   ]
  },
  {
   "cell_type": "markdown",
   "metadata": {},
   "source": [
    "Da analisi su correlazione e grafici delle distribuzioni per le tre variabili target si nota inoltre che 'taxvaluedollarcnt' è la variabile più correlata per tutte: si prova quindi a svolgere una predizione dei valori missing usando l'algoritmo KNN per le features 'structuretaxvaluedollarcnt', 'taxamount' e 'landtaxvaluedollarcnt'"
   ]
  },
  {
   "cell_type": "code",
   "execution_count": 40,
   "metadata": {},
   "outputs": [
    {
     "name": "stdout",
     "output_type": "stream",
     "text": [
      "Target: structuretaxvaluedollarcnt\n",
      "structuretaxvaluedollarcnt    1.000000\n",
      "taxvaluedollarcnt             0.826052\n",
      "taxamount                     0.795013\n",
      "landtaxvaluedollarcnt         0.623292\n",
      "Name: structuretaxvaluedollarcnt, dtype: float64\n"
     ]
    },
    {
     "data": {
      "text/plain": [
       "<Figure size 864x864 with 0 Axes>"
      ]
     },
     "metadata": {},
     "output_type": "display_data"
    },
    {
     "data": {
      "image/png": "[encoded data removed]",
      "text/plain": [
       "<Figure size 432x432 with 3 Axes>"
      ]
     },
     "metadata": {
      "needs_background": "light"
     },
     "output_type": "display_data"
    },
    {
     "name": "stdout",
     "output_type": "stream",
     "text": [
      "Target: taxamount\n",
      "taxamount                     1.000000\n",
      "taxvaluedollarcnt             0.949376\n",
      "landtaxvaluedollarcnt         0.902713\n",
      "structuretaxvaluedollarcnt    0.795013\n",
      "Name: taxamount, dtype: float64\n"
     ]
    },
    {
     "data": {
      "text/plain": [
       "<Figure size 864x864 with 0 Axes>"
      ]
     },
     "metadata": {},
     "output_type": "display_data"
    },
    {
     "data": {
      "image/png": "[encoded data removed]",
      "text/plain": [
       "<Figure size 432x432 with 3 Axes>"
      ]
     },
     "metadata": {
      "needs_background": "light"
     },
     "output_type": "display_data"
    },
    {
     "name": "stdout",
     "output_type": "stream",
     "text": [
      "Target: landtaxvaluedollarcnt\n",
      "landtaxvaluedollarcnt         1.000000\n",
      "taxvaluedollarcnt             0.955336\n",
      "taxamount                     0.902713\n",
      "structuretaxvaluedollarcnt    0.623292\n",
      "Name: landtaxvaluedollarcnt, dtype: float64\n"
     ]
    },
    {
     "data": {
      "text/plain": [
       "<Figure size 864x864 with 0 Axes>"
      ]
     },
     "metadata": {},
     "output_type": "display_data"
    },
    {
     "data": {
      "image/png": "[encoded data removed]",
      "text/plain": [
       "<Figure size 432x432 with 3 Axes>"
      ]
     },
     "metadata": {
      "needs_background": "light"
     },
     "output_type": "display_data"
    }
   ],
   "source": [
    "x =  df_tax.corr()\n",
    "\n",
    "print('Target: structuretaxvaluedollarcnt')\n",
    "print(x['structuretaxvaluedollarcnt'].sort_values(ascending = False))\n",
    "plt.figure(figsize=(12,12))\n",
    "sns.jointplot(x=df_tax['structuretaxvaluedollarcnt'].values, y=df_tax['taxvaluedollarcnt'].values)\n",
    "plt.ylabel('taxvaluedollarcnt', fontsize=12)\n",
    "plt.xlabel('structuretaxvaluedollarcnt', fontsize=12)\n",
    "plt.title(\"structuretaxvaluedollarcnt Vs taxvaluedollarcnt\", fontsize=15)\n",
    "plt.show()\n",
    "\n",
    "print('Target: taxamount')\n",
    "print(x['taxamount'].sort_values(ascending = False))\n",
    "plt.figure(figsize=(12,12))\n",
    "sns.jointplot(x=df_tax['taxamount'].values, y=df_tax['taxvaluedollarcnt'].values)\n",
    "plt.ylabel('taxvaluedollarcnt', fontsize=12)\n",
    "plt.xlabel('taxamount', fontsize=12)\n",
    "plt.title(\"taxamount Vs taxvaluedollarcnt\", fontsize=15)\n",
    "plt.show()\n",
    "\n",
    "print('Target: landtaxvaluedollarcnt')\n",
    "print(x['landtaxvaluedollarcnt'].sort_values(ascending = False))\n",
    "plt.figure(figsize=(12,12))\n",
    "sns.jointplot(x=df_tax['landtaxvaluedollarcnt'].values, y=df_tax['taxvaluedollarcnt'].values)\n",
    "plt.ylabel('taxvaluedollarcnt', fontsize=12)\n",
    "plt.xlabel('landtaxvaluedollarcnt', fontsize=12)\n",
    "plt.title(\"landtaxvaluedollarcnt Vs taxvaluedollarcnt\", fontsize=15)\n",
    "plt.show()"
   ]
  },
  {
   "cell_type": "code",
   "execution_count": 41,
   "metadata": {},
   "outputs": [
    {
     "name": "stdout",
     "output_type": "stream",
     "text": [
      "Target:  structuretaxvaluedollarcnt\n",
      "Best Score: 14557424230.4000\n",
      "Best Params:  {'n_neighbors': 50}\n",
      "MSE: 13725171712.0000\n",
      "Done!\n",
      "\n",
      "Target:  taxamount\n",
      "Best Score: 5067913.8000\n",
      "Best Params:  {'n_neighbors': 10}\n",
      "MSE: 7912950.0000\n",
      "Done!\n",
      "\n",
      "Target:  landtaxvaluedollarcnt\n",
      "Best Score: 17548262400.0000\n",
      "Best Params:  {'n_neighbors': 10}\n",
      "MSE: 14701151232.0000\n",
      "Done!\n",
      "\n"
     ]
    }
   ],
   "source": [
    "parameters = { 'n_neighbors': [10, 20, 30, 40, 50, 100]}\n",
    "fun.fillna_knn_reg(df = df_prop, base = ['taxvaluedollarcnt'], target = 'structuretaxvaluedollarcnt', tuning_params=parameters)\n",
    "fun.fillna_knn_reg(df = df_prop, base = ['taxvaluedollarcnt'], target = 'taxamount', tuning_params=parameters)\n",
    "fun.fillna_knn_reg(df = df_prop, base = ['taxvaluedollarcnt'], target = 'landtaxvaluedollarcnt', tuning_params=parameters)"
   ]
  },
  {
   "cell_type": "code",
   "execution_count": 42,
   "metadata": {},
   "outputs": [
    {
     "name": "stdout",
     "output_type": "stream",
     "text": [
      "Number of features with missing values:  4\n",
      "['finishedfloor1squarefeet', 'calculatedfinishedsquarefeet', 'numberofstories', 'censustractandblock']\n"
     ]
    }
   ],
   "source": [
    "tmp_col=df_prop.columns\n",
    "tmp_list=[]\n",
    "\n",
    "for c in tmp_col:\n",
    "    if df_prop[c].isna().sum()/df_prop.shape[0]>0.0:\n",
    "        tmp_list.append(c)\n",
    "\n",
    "print(\"Number of features with missing values: \", len(tmp_list))\n",
    "print(tmp_list)"
   ]
  },
  {
   "cell_type": "markdown",
   "metadata": {},
   "source": [
    "Come si può notare restano solamente poche features con valori missing, si procede quindi:\n",
    "- riempiendo 'numberofstories' con la sua moda\n",
    "- rimuovendo la colonna 'censustractandblock' perché si assume che l'attributo 'rawcensustractandblock' contenga le stesse informazioni anche se in maniera meno elaborata.\n",
    "- costruendo un predittore per 'calculatedfinishedsquarefeet' basato su 'bathroomcnt', 'bedroomcnt', 'structuretaxvaluedollarcnt'. Si ipotizza infatti che la dimensione totale dell'area abitabile sia dipendente da quanti bagni e camere da letto ci sono e da quante tasse sulla struttura dell'abitazione sono attribuite.\n",
    "- costruendo un predittore per 'finishedfloor1squarefeet' basato sulle stesse features precedenti e sul numero di piani dell'edificio (numberofstories). Si assume che il numero di piani presenti possa essere utile per calcolare la features 'finishedfloor1squarefeet' (*Dimensioni della superficie abitativa finita al primo piano (ingresso) della casa*)"
   ]
  },
  {
   "cell_type": "code",
   "execution_count": 43,
   "metadata": {},
   "outputs": [
    {
     "data": {
      "image/png": "[encoded data removed]",
      "text/plain": [
       "<Figure size 360x360 with 1 Axes>"
      ]
     },
     "metadata": {
      "needs_background": "light"
     },
     "output_type": "display_data"
    },
    {
     "name": "stdout",
     "output_type": "stream",
     "text": [
      "Moda:  1.0\n"
     ]
    }
   ],
   "source": [
    "plt.figure(figsize = (5,5))\n",
    "x_min=df_prop['numberofstories'].min()\n",
    "x_max=df_prop['numberofstories'].max()\n",
    "plt.xlim([x_min, x_max])\n",
    "plt.xticks(np.arange(x_min, x_max+1, 1))\n",
    "df_prop['numberofstories'].hist()\n",
    "plt.grid()\n",
    "plt.show()\n",
    "\n",
    "mode=float(df_prop['numberofstories'].mode())\n",
    "print(\"Moda: \", mode)\n",
    "df_prop['numberofstories'].fillna(mode, inplace=True)"
   ]
  },
  {
   "cell_type": "code",
   "execution_count": 44,
   "metadata": {},
   "outputs": [],
   "source": [
    "df_prop.drop(columns='censustractandblock', inplace=True)"
   ]
  },
  {
   "cell_type": "code",
   "execution_count": 45,
   "metadata": {},
   "outputs": [
    {
     "name": "stdout",
     "output_type": "stream",
     "text": [
      "Target:  calculatedfinishedsquarefeet\n",
      "Best Score: 172201.6437\n",
      "Best Params:  {'n_neighbors': 40}\n",
      "MSE: 171559.1094\n",
      "Done!\n",
      "\n",
      "Target:  finishedfloor1squarefeet\n",
      "Best Score: 112725.4656\n",
      "Best Params:  {'n_neighbors': 20}\n",
      "MSE: 107947.8203\n",
      "Done!\n",
      "\n"
     ]
    }
   ],
   "source": [
    "fun.fillna_knn_reg(df = df_prop, base = ['bathroomcnt', 'bedroomcnt', 'structuretaxvaluedollarcnt'], target = 'calculatedfinishedsquarefeet', tuning_params=parameters)\n",
    "fun.fillna_knn_reg(df = df_prop, base = ['bathroomcnt', 'bedroomcnt', 'structuretaxvaluedollarcnt', 'numberofstories'], target = 'finishedfloor1squarefeet', tuning_params=parameters)"
   ]
  },
  {
   "cell_type": "code",
   "execution_count": 46,
   "metadata": {},
   "outputs": [
    {
     "name": "stdout",
     "output_type": "stream",
     "text": [
      "Number of missing features:  0\n"
     ]
    }
   ],
   "source": [
    "tmp_col=df_prop.columns\n",
    "tmp_list=[]\n",
    "\n",
    "for c in tmp_col:\n",
    "    if df_prop[c].isna().sum()/df_prop.shape[0]>0.0:\n",
    "        tmp_list.append(c)\n",
    "\n",
    "print(\"Number of missing features: \", len(tmp_list))"
   ]
  },
  {
   "cell_type": "code",
   "execution_count": 47,
   "metadata": {},
   "outputs": [
    {
     "name": "stdout",
     "output_type": "stream",
     "text": [
      "Columns:\n",
      "Index(['parcelid', 'logerror', 'transactiondate', 'airconditioningtypeid',\n",
      "       'bathroomcnt', 'bedroomcnt', 'buildingqualitytypeid',\n",
      "       'finishedfloor1squarefeet', 'calculatedfinishedsquarefeet', 'fips',\n",
      "       'fireplacecnt', 'garagecarcnt', 'garagetotalsqft', 'hashottuborspa',\n",
      "       'heatingorsystemtypeid', 'latitude', 'longitude', 'lotsizesquarefeet',\n",
      "       'poolcnt', 'poolsizesum', 'pooltypeid2', 'pooltypeid7',\n",
      "       'propertycountylandusecode', 'propertylandusetypeid',\n",
      "       'propertyzoningdesc', 'rawcensustractandblock', 'regionidcity',\n",
      "       'regionidcounty', 'regionidneighborhood', 'regionidzip', 'roomcnt',\n",
      "       'threequarterbathnbr', 'unitcnt', 'yearbuilt', 'numberofstories',\n",
      "       'fireplaceflag', 'structuretaxvaluedollarcnt', 'taxvaluedollarcnt',\n",
      "       'assessmentyear', 'landtaxvaluedollarcnt', 'taxamount',\n",
      "       'taxdelinquencyflag'],\n",
      "      dtype='object')\n",
      "Shape:  (90273, 42)\n"
     ]
    }
   ],
   "source": [
    "print(\"Columns:\")\n",
    "print(df_prop.columns)\n",
    "print(\"Shape: \", df_prop.shape)"
   ]
  },
  {
   "cell_type": "code",
   "execution_count": 48,
   "metadata": {},
   "outputs": [
    {
     "name": "stdout",
     "output_type": "stream",
     "text": [
      "Stored 'df_prop' (DataFrame)\n"
     ]
    }
   ],
   "source": [
    "%store df_prop"
   ]
  },
  {
   "cell_type": "markdown",
   "metadata": {},
   "source": [
    "<a id='custom_features'></a>\n",
    "### Aggiunta di features custom potenzialmente utili"
   ]
  },
  {
   "cell_type": "markdown",
   "metadata": {},
   "source": [
    "Vengono ora create ed aggiunte al dataset alcune features custom che intuitivamente potrebbero essere utili per la costruzione del modello finale e per spiegare meglio l'andamento dei dati"
   ]
  },
  {
   "cell_type": "markdown",
   "metadata": {},
   "source": [
    "##### Features relative a proprietà dell'edificio"
   ]
  },
  {
   "cell_type": "code",
   "execution_count": 49,
   "metadata": {},
   "outputs": [],
   "source": [
    "#Età dell'edificio al momento della vendita\n",
    "df_prop['yearbuilt']=pd.to_datetime(df_prop['yearbuilt'], format='%Y')\n",
    "df_prop['assessmentyear']=pd.to_datetime(df_prop['assessmentyear'], format='%Y')\n",
    "df_prop['Life-until-selling']=(df_prop['transactiondate']-df_prop['yearbuilt']).dt.days\n",
    "\n",
    "#Rapporto tra structure value e land area \n",
    "df_prop['N-ValueProp'] = df_prop['structuretaxvaluedollarcnt']/df_prop['landtaxvaluedollarcnt']\n",
    "\n",
    "#Porzione di area vivibile\n",
    "df_prop['N-LivingAreaProp'] = df_prop['calculatedfinishedsquarefeet']/df_prop['lotsizesquarefeet']\n",
    "\n",
    "#Quantità di spazio extra\n",
    "df_prop['N-ExtraSpace'] = df_prop['lotsizesquarefeet'] - df_prop['calculatedfinishedsquarefeet'] \n",
    "\n",
    "#Features che indica se la proprietà ha garage, piscina, o ibromassaggio e AC\n",
    "df_prop['N-GarPoolAC'] = ((df_prop['garagecarcnt']>0) & (df_prop['hashottuborspa']>0) & (df_prop['airconditioningtypeid']!=5))*1\n",
    "df_prop['N-GarPoolAC']=df_prop['N-GarPoolAC'].astype(bool)"
   ]
  },
  {
   "cell_type": "code",
   "execution_count": 50,
   "metadata": {},
   "outputs": [],
   "source": [
    "#Rapporto tasse sulla casa su tasse totali per assesment year\n",
    "df_prop['N-ValueRatio'] = df_prop['taxvaluedollarcnt']/df_prop['taxamount']\n",
    "\n",
    "#Total Tax Score\n",
    "df_prop['N-TaxScore'] = df_prop['taxvaluedollarcnt']*df_prop['taxamount']"
   ]
  },
  {
   "cell_type": "markdown",
   "metadata": {},
   "source": [
    "##### Features relative alla posizione"
   ]
  },
  {
   "cell_type": "code",
   "execution_count": 51,
   "metadata": {},
   "outputs": [],
   "source": [
    "#Numero di proprietà per zip code\n",
    "zip_count = df_prop['regionidzip'].value_counts().to_dict()\n",
    "df_prop['N-zip_count'] = df_prop['regionidzip'].map(zip_count)\n",
    "\n",
    "#Numero di proprietà per città\n",
    "city_count = df_prop['regionidcity'].value_counts().to_dict()\n",
    "df_prop['N-city_count'] = df_prop['regionidcity'].map(city_count)\n",
    "\n",
    "#Numero di proprietà per per paese\n",
    "region_count = df_prop['regionidcounty'].value_counts().to_dict()\n",
    "df_prop['N-county_count'] = df_prop['regionidcounty'].map(region_count)"
   ]
  },
  {
   "cell_type": "markdown",
   "metadata": {},
   "source": [
    "##### Features che sono la semplificazione di altre features"
   ]
  },
  {
   "cell_type": "code",
   "execution_count": 52,
   "metadata": {},
   "outputs": [],
   "source": [
    "#Indicatore se AC è presente o no\n",
    "df_prop['N-ACInd'] = (df_prop['airconditioningtypeid']!=5)*1\n",
    "df_prop['N-ACInd']=df_prop['N-ACInd'].astype(bool)\n",
    "\n",
    "#Indicatore se riscaldamento è presente o no\n",
    "df_prop['N-HeatInd'] = (df_prop['heatingorsystemtypeid']!=13)*1\n",
    "df_prop['N-HeatInd']=df_prop['N-HeatInd'].astype(bool)\n",
    "\n",
    "#Tipo di destinazione d'uso del terreno per il quale è suddiviso in zone l'immobile - prima erano 25 categorie, ora vengono compresse a 4\n",
    "df_prop['N-PropType'] = df_prop['propertylandusetypeid'].replace({31 : \"Mixed\", 46 : \"Other\", 47 : \"Mixed\", 246 : \"Mixed\", 247 : \"Mixed\", 248 : \"Mixed\", 260 : \"Home\", 261 : \"Home\", 262 : \"Home\", 263 : \"Home\", 264 : \"Home\", 265 : \"Home\", 266 : \"Home\", 267 : \"Home\", 268 : \"Home\", 269 : \"Not Built\", 270 : \"Home\", 271 : \"Home\", 273 : \"Home\", 274 : \"Other\", 275 : \"Home\", 276 : \"Home\", 279 : \"Home\", 290 : \"Not Built\", 291 : \"Not Built\" })\n",
    "df_prop.drop(columns='propertylandusetypeid', inplace=True)"
   ]
  },
  {
   "cell_type": "markdown",
   "metadata": {},
   "source": [
    "##### Features custom relative a 'structuretaxvaluedollarcnt' perché viene considerata una specifica importante"
   ]
  },
  {
   "cell_type": "code",
   "execution_count": 53,
   "metadata": {},
   "outputs": [],
   "source": [
    "#Media di structuretaxvaluedollarcnt per città\n",
    "group = df_prop.groupby('regionidcity')['structuretaxvaluedollarcnt'].aggregate('mean').to_dict()\n",
    "df_prop['N-Avg-structuretaxvaluedollarcnt'] = df_prop['regionidcity'].map(group) #assegna 'regionidcity' alla media calcolata sopra e messa in un dizionario con chiave 'regionidcity'\n",
    "\n",
    "#Discostamento del valore dalla media\n",
    "df_prop['N-Dev-structuretaxvaluedollarcnt'] = abs((df_prop['structuretaxvaluedollarcnt'] - df_prop['N-Avg-structuretaxvaluedollarcnt']))/df_prop['N-Avg-structuretaxvaluedollarcnt']"
   ]
  },
  {
   "cell_type": "code",
   "execution_count": 54,
   "metadata": {},
   "outputs": [],
   "source": [
    "#Nel caso siano presenti valori \"Infinito\" nel dataset derivanti da divisioni per zero questi vengono posti a 0 in quanto semanticamente corretto\n",
    "df_prop.replace([np.inf, -np.inf], 0, inplace=True)"
   ]
  },
  {
   "cell_type": "code",
   "execution_count": 55,
   "metadata": {},
   "outputs": [],
   "source": [
    "#Converione dei tipi delle nuove features da float64 a float32 per ridurre lo spazio occupato in memoria\n",
    "df_prop[df_prop.select_dtypes(np.float64).columns] = df_prop.select_dtypes(np.float64).astype(np.float32)"
   ]
  },
  {
   "cell_type": "code",
   "execution_count": 56,
   "metadata": {},
   "outputs": [
    {
     "name": "stdout",
     "output_type": "stream",
     "text": [
      "<class 'pandas.core.frame.DataFrame'>\n",
      "Int64Index: 90273 entries, 0 to 90274\n",
      "Data columns (total 56 columns):\n",
      " #   Column                            Non-Null Count  Dtype         \n",
      "---  ------                            --------------  -----         \n",
      " 0   parcelid                          90273 non-null  int64         \n",
      " 1   logerror                          90273 non-null  float32       \n",
      " 2   transactiondate                   90273 non-null  datetime64[ns]\n",
      " 3   airconditioningtypeid             90273 non-null  float32       \n",
      " 4   bathroomcnt                       90273 non-null  float32       \n",
      " 5   bedroomcnt                        90273 non-null  float32       \n",
      " 6   buildingqualitytypeid             90273 non-null  float32       \n",
      " 7   finishedfloor1squarefeet          90273 non-null  float32       \n",
      " 8   calculatedfinishedsquarefeet      90273 non-null  float32       \n",
      " 9   fips                              90273 non-null  float32       \n",
      " 10  fireplacecnt                      90273 non-null  float32       \n",
      " 11  garagecarcnt                      90273 non-null  float32       \n",
      " 12  garagetotalsqft                   90273 non-null  float32       \n",
      " 13  hashottuborspa                    90273 non-null  bool          \n",
      " 14  heatingorsystemtypeid             90273 non-null  float32       \n",
      " 15  latitude                          90273 non-null  float32       \n",
      " 16  longitude                         90273 non-null  float32       \n",
      " 17  lotsizesquarefeet                 90273 non-null  float32       \n",
      " 18  poolcnt                           90273 non-null  float32       \n",
      " 19  poolsizesum                       90273 non-null  float32       \n",
      " 20  pooltypeid2                       90273 non-null  float32       \n",
      " 21  pooltypeid7                       90273 non-null  float32       \n",
      " 22  propertycountylandusecode         90273 non-null  object        \n",
      " 23  propertyzoningdesc                90273 non-null  object        \n",
      " 24  rawcensustractandblock            90273 non-null  float32       \n",
      " 25  regionidcity                      90273 non-null  float32       \n",
      " 26  regionidcounty                    90273 non-null  float32       \n",
      " 27  regionidneighborhood              90273 non-null  float32       \n",
      " 28  regionidzip                       90273 non-null  float32       \n",
      " 29  roomcnt                           90273 non-null  float32       \n",
      " 30  threequarterbathnbr               90273 non-null  float32       \n",
      " 31  unitcnt                           90273 non-null  float32       \n",
      " 32  yearbuilt                         90273 non-null  datetime64[ns]\n",
      " 33  numberofstories                   90273 non-null  float32       \n",
      " 34  fireplaceflag                     90273 non-null  bool          \n",
      " 35  structuretaxvaluedollarcnt        90273 non-null  float32       \n",
      " 36  taxvaluedollarcnt                 90273 non-null  float32       \n",
      " 37  assessmentyear                    90273 non-null  datetime64[ns]\n",
      " 38  landtaxvaluedollarcnt             90273 non-null  float32       \n",
      " 39  taxamount                         90273 non-null  float32       \n",
      " 40  taxdelinquencyflag                90273 non-null  bool          \n",
      " 41  Life-until-selling                90273 non-null  int64         \n",
      " 42  N-ValueProp                       90273 non-null  float32       \n",
      " 43  N-LivingAreaProp                  90273 non-null  float32       \n",
      " 44  N-ExtraSpace                      90273 non-null  float32       \n",
      " 45  N-GarPoolAC                       90273 non-null  bool          \n",
      " 46  N-ValueRatio                      90273 non-null  float32       \n",
      " 47  N-TaxScore                        90273 non-null  float32       \n",
      " 48  N-zip_count                       90273 non-null  int64         \n",
      " 49  N-city_count                      90273 non-null  int64         \n",
      " 50  N-county_count                    90273 non-null  int64         \n",
      " 51  N-ACInd                           90273 non-null  bool          \n",
      " 52  N-HeatInd                         90273 non-null  bool          \n",
      " 53  N-PropType                        90273 non-null  object        \n",
      " 54  N-Avg-structuretaxvaluedollarcnt  90273 non-null  float32       \n",
      " 55  N-Dev-structuretaxvaluedollarcnt  90273 non-null  float32       \n",
      "dtypes: bool(6), datetime64[ns](3), float32(39), int64(5), object(3)\n",
      "memory usage: 22.2+ MB\n",
      "Shape:  (90273, 56)\n"
     ]
    }
   ],
   "source": [
    "df_prop.info()\n",
    "print(\"Shape: \", df_prop.shape)"
   ]
  },
  {
   "cell_type": "code",
   "execution_count": 57,
   "metadata": {},
   "outputs": [
    {
     "name": "stdout",
     "output_type": "stream",
     "text": [
      "Stored 'df_prop' (DataFrame)\n"
     ]
    }
   ],
   "source": [
    "%store df_prop"
   ]
  },
  {
   "cell_type": "markdown",
   "metadata": {},
   "source": [
    "<a id='features_selection'></a>\n",
    "### Features importance, features selection e preparazione del dataset finale\n"
   ]
  },
  {
   "cell_type": "markdown",
   "metadata": {},
   "source": [
    "Arrivati a questo punto il dataset non presenta più valori mancanti e intuitivamente sono stati risolti i problemi di multicollinearità tra le features date in input, evidenziati nelle analisi precedenti. Può essere quindi svolto il processo di features selection in modo da costruire modelli previsionali ancora più accurati"
   ]
  },
  {
   "cell_type": "code",
   "execution_count": 58,
   "metadata": {},
   "outputs": [
    {
     "name": "stdout",
     "output_type": "stream",
     "text": [
      "regionidcity 177\n",
      "regionidzip 388\n",
      "regionidneighborhood 494\n",
      "airconditioningtypeid 6\n",
      "N-PropType 3\n",
      "fips 3\n",
      "regionidcounty 3\n",
      "heatingorsystemtypeid 12\n",
      "propertyzoningdesc 1996\n",
      "rawcensustractandblock 470\n",
      "propertycountylandusecode 77\n"
     ]
    }
   ],
   "source": [
    "cat_var_names=set(['airconditioningtypeid', 'heatingorsystemtypeid', 'propertycountylandusecode', 'N-PropType',\n",
    "       'propertyzoningdesc', 'regionidcity', 'regionidcounty', 'regionidneighborhood', 'regionidzip', 'fips', 'rawcensustractandblock'])\n",
    "\n",
    "for c in cat_var_names:\n",
    "    print(c, len(df_prop[c].unique()) )"
   ]
  },
  {
   "cell_type": "markdown",
   "metadata": {},
   "source": [
    "Si decide però di rimuovere alcune delle variabili categoriali con molti elementi distinti (nello specifico 'propertyzoningdesc', 'propertycountylandusecode', 'regionidneighborhood', 'regionidzip', 'regionidcity', 'rawcensustractandblock') in modo da non aumentare esponenzialmente la dimensione della matrice dopo il processo di OneHotEncoding (possibile anche problema di curse of dimensionality) ed innalzare il tempo richiesto per il training e il testing dei modelli.<br>\n",
    "Si fa presente che questo processo di encoding è necessario per la corretta gestione di features categriali, altrimenti queste verrebbero interpretate in modo numerico o ordinale "
   ]
  },
  {
   "cell_type": "code",
   "execution_count": 59,
   "metadata": {},
   "outputs": [],
   "source": [
    "removed_cat=set(['propertyzoningdesc', 'propertycountylandusecode' , 'regionidneighborhood', 'regionidzip', 'regionidcity', 'rawcensustractandblock'])\n",
    "one_hot_colmuns=list(cat_var_names.difference(removed_cat))\n",
    "\n",
    "\n",
    "one_hot_enc=OneHotEncoder(sparse=False)\n",
    "one_hot_enc.fit(df_prop[one_hot_colmuns])\n",
    "one_hot_tranform_name=one_hot_enc.get_feature_names(one_hot_colmuns)\n",
    "\n",
    "one_hot_df=pd.DataFrame(one_hot_enc.transform(df_prop[one_hot_colmuns]), columns=one_hot_tranform_name)\n",
    "\n",
    "df_prop_drop_cat=df_prop.drop(columns=list(cat_var_names))\n",
    "df_prop_final=pd.concat([df_prop_drop_cat.reset_index(), one_hot_df.reset_index()], axis=1)\n",
    "df_prop_final.drop(columns=['index'], inplace=True)\n",
    "\n",
    "\n",
    "#Convert date to integer\n",
    "df_prop_final['yearbuilt']=df_prop_final['yearbuilt'].dt.year\n",
    "df_prop_final['assessmentyear']=df_prop_final['assessmentyear'].dt.year"
   ]
  },
  {
   "cell_type": "code",
   "execution_count": 60,
   "metadata": {},
   "outputs": [
    {
     "name": "stdout",
     "output_type": "stream",
     "text": [
      "Final shape:  (90273, 72)\n"
     ]
    }
   ],
   "source": [
    "print(\"Final shape: \", df_prop_final.shape)"
   ]
  },
  {
   "cell_type": "code",
   "execution_count": 61,
   "metadata": {},
   "outputs": [],
   "source": [
    "X=df_prop_final.drop(columns=['parcelid', 'logerror', 'transactiondate'])\n",
    "y=df_prop_final['logerror'].values"
   ]
  },
  {
   "cell_type": "markdown",
   "metadata": {},
   "source": [
    "X e y conterranno rispettivamente:\n",
    "- le features da usare per la costruzione del modello\n",
    "- i valori reali da utilizzare per il task di supervised learning\n",
    "\n",
    "*Si fa notare che le variabili contengono solo dati di tipo float (o convertibili in float) perché unici tipi accettati dagli algoritmi di ML utilizzati*"
   ]
  },
  {
   "cell_type": "markdown",
   "metadata": {},
   "source": [
    "Si procede nella sezione sottostante al tuning del parametro \"n_estimators\" per la costruzione di un modello sfruttante gradient boosting che una volta allenato verrà utilizzato per selezionare le features ritenute di maggior impatto dall'algoritmo<br>\n",
    "Si fa notare inoltre che è stata scelta la libreria XGBoost per la sua elevata efficienza ed accuratezza"
   ]
  },
  {
   "cell_type": "code",
   "execution_count": 62,
   "metadata": {},
   "outputs": [
    {
     "name": "stdout",
     "output_type": "stream",
     "text": [
      "Tuning XGBoost hyperparameters:\n",
      "Best Score: 0.0262\n",
      "Best Params:  {'n_estimators': 13}\n",
      "MSE: 0.0258\n"
     ]
    }
   ],
   "source": [
    "tuning_params={'n_estimators': [i for i in range(1, 26, 1)]}\n",
    "\n",
    "X_train_80, X_test, y_train_80, y_test = train_test_split(X, y, \n",
    "                                                         test_size=0.20, random_state=42)\n",
    "\n",
    "xgb_model=xgb.XGBRegressor()\n",
    "xgb_grid = GridSearchCV(estimator=xgb_model, param_grid=tuning_params,\n",
    "                         cv=5, scoring='neg_mean_squared_error', \n",
    "                         verbose = 0, n_jobs=-1)\n",
    "\n",
    "print (\"Tuning XGBoost hyperparameters:\")\n",
    "xgb_grid.fit(X_train_80, y_train_80)\n",
    "print (\"Best Score: {:.4f}\".format(-xgb_grid.best_score_) )\n",
    "print (\"Best Params: \", xgb_grid.best_params_)\n",
    "\n",
    "test_mse= mean_squared_error(y_true = y_test, y_pred = xgb_grid.predict(X_test) )\n",
    "print (\"MSE: {:.4f}\".format(test_mse) )"
   ]
  },
  {
   "cell_type": "code",
   "execution_count": 63,
   "metadata": {},
   "outputs": [
    {
     "name": "stdout",
     "output_type": "stream",
     "text": [
      "Stored 'xgb_grid' (GridSearchCV)\n"
     ]
    }
   ],
   "source": [
    "%store xgb_grid"
   ]
  },
  {
   "cell_type": "code",
   "execution_count": 64,
   "metadata": {},
   "outputs": [
    {
     "data": {
      "image/png": "[encoded data removed]",
      "text/plain": [
       "<Figure size 1080x576 with 1 Axes>"
      ]
     },
     "metadata": {
      "needs_background": "light"
     },
     "output_type": "display_data"
    }
   ],
   "source": [
    "fun.plot_feature_importance(xgb_grid.best_estimator_.feature_importances_, X.columns, 'XGBoost Model ', limit=40)"
   ]
  },
  {
   "cell_type": "markdown",
   "metadata": {},
   "source": [
    "*Si nota dal grafico riguardante la features importance che molte delle variabili custom aggiunte precedentemente hanno un peso rilevante nella costruzione del modello*"
   ]
  },
  {
   "cell_type": "markdown",
   "metadata": {},
   "source": [
    "Viene ora scelto mediante il successivo metodo di feature ranking con recursive feature elimination usante cross-validation sets il presunto miglior sottinsieme di n features in modo da ridurre, come anticipato, la dimensionalità del dataframe ed i conseguenti problemi di multicollinearità e curse of dimentionality per ottimizzare maggiormente le previsioni.<br>\n",
    "Si è deciso di impostare un numero minimo di 10 features in modo che nel modello finale non rimangano troppe poche variabili che di conseguenza non riuscirebbero a spiegare in modo sufficientemente accurato i dati."
   ]
  },
  {
   "cell_type": "code",
   "execution_count": 65,
   "metadata": {},
   "outputs": [
    {
     "data": {
      "text/plain": [
       "12"
      ]
     },
     "execution_count": 65,
     "metadata": {},
     "output_type": "execute_result"
    }
   ],
   "source": [
    "selector = RFECV(xgb_grid.best_estimator_, \n",
    "                 step=1,\n",
    "                 cv=5,\n",
    "                 scoring='neg_mean_squared_error',\n",
    "                 min_features_to_select=10,  \n",
    "                 n_jobs=-1\n",
    "                )\n",
    "selector.fit(X,y)\n",
    "selector.n_features_"
   ]
  },
  {
   "cell_type": "markdown",
   "metadata": {},
   "source": [
    "Le features selezionate dall'algoritmo sono quindi 12, nello specifico:"
   ]
  },
  {
   "cell_type": "code",
   "execution_count": 66,
   "metadata": {},
   "outputs": [
    {
     "name": "stdout",
     "output_type": "stream",
     "text": [
      "['finishedfloor1squarefeet', 'calculatedfinishedsquarefeet', 'lotsizesquarefeet', 'structuretaxvaluedollarcnt', 'taxvaluedollarcnt', 'taxamount', 'taxdelinquencyflag', 'Life-until-selling', 'N-ValueRatio', 'N-city_count', 'N-Avg-structuretaxvaluedollarcnt', 'N-Dev-structuretaxvaluedollarcnt']\n"
     ]
    }
   ],
   "source": [
    "list_important_features=[x[0] for x in list(zip(X.columns, selector.support_)) if x[1]]\n",
    "print(list_important_features)"
   ]
  },
  {
   "cell_type": "markdown",
   "metadata": {},
   "source": [
    "Viene creato e salvato offline il dataset contenete le features selezionate in modo che possa poi essere usato per la costruzione dei due modelli finali o per eventuali analisi future"
   ]
  },
  {
   "cell_type": "code",
   "execution_count": 67,
   "metadata": {},
   "outputs": [
    {
     "data": {
      "text/plain": [
       "(90273, 12)"
      ]
     },
     "execution_count": 67,
     "metadata": {},
     "output_type": "execute_result"
    }
   ],
   "source": [
    "selected_important_X=X[list_important_features]\n",
    "selected_important_X.shape"
   ]
  },
  {
   "cell_type": "code",
   "execution_count": 68,
   "metadata": {},
   "outputs": [],
   "source": [
    "selected_important_X.to_parquet(input_folder+\"final_df_2016.parquet\")"
   ]
  },
  {
   "cell_type": "markdown",
   "metadata": {},
   "source": [
    "<a id='mod_1'></a>\n",
    "### Corstruzione del modello sfruttante Random Forest e tuning dei suoi parametri"
   ]
  },
  {
   "cell_type": "markdown",
   "metadata": {},
   "source": [
    "In questa fase si è deciso di realizzare in modo più sofisticato il tuning degli parametri.\n",
    "Nello specifico il metodo con cross validation sets cercherà la migliore combinazione di \"n_estimators\", \"max_leaf_nodes\" e \"min_samples_leaf\", 3 degli iperparametri principali per la costruzione del regressore sfruttante il metodo di ensembling Random Forest"
   ]
  },
  {
   "cell_type": "code",
   "execution_count": 69,
   "metadata": {},
   "outputs": [],
   "source": [
    "X_train_80, X_test, y_train_80, y_test = train_test_split(selected_important_X, y, \n",
    "                                                         test_size=0.20, random_state=42)"
   ]
  },
  {
   "cell_type": "code",
   "execution_count": 72,
   "metadata": {},
   "outputs": [
    {
     "name": "stdout",
     "output_type": "stream",
     "text": [
      "Tuning Random Forest hyperparameters:\n",
      "Best Score: 0.0258\n",
      "Best Params:  {'max_leaf_nodes': 100, 'min_samples_leaf': 4, 'n_estimators': 80}\n",
      "MSE: 0.0254\n"
     ]
    }
   ],
   "source": [
    "tuning_params={'n_estimators': [i for i in range(10, 81, 10)],\n",
    "                'max_leaf_nodes': [10, 30, 50, 100, 200], #Grow trees with max_leaf_nodes in best-first fashion\n",
    "                'min_samples_leaf': [i for i in range(1, 5, 1)]} #The minimum number of samples required to be at a leaf node.\n",
    "\n",
    "rf=RandomForestRegressor()\n",
    "rf_model = GridSearchCV(estimator=rf, param_grid=tuning_params,\n",
    "                         cv=5, scoring='neg_mean_squared_error', \n",
    "                         verbose = 0, n_jobs=-1)\n",
    "\n",
    "print (\"Tuning Random Forest hyperparameters:\")\n",
    "rf_model.fit(X_train_80, y_train_80)\n",
    "print (\"Best Score: {:.4f}\".format(-rf_model.best_score_) )\n",
    "print (\"Best Params: \", rf_model.best_params_)\n",
    "\n",
    "test_mse= mean_squared_error(y_true = y_test, y_pred = rf_model.predict(X_test) )\n",
    "print (\"MSE: {:.4f}\".format(test_mse) )"
   ]
  },
  {
   "cell_type": "markdown",
   "metadata": {},
   "source": [
    "Si ritiene che i valori di Mean Squared Error ottenuti, in particolare nel testing set, siano sufficientemente bassi e che di conseguenza il modello usante Random Forest sia abbastanza accurato. Inoltre utilizzando i cross validation sets si è limitata la possibilità di overfitting del predittore"
   ]
  },
  {
   "cell_type": "code",
   "execution_count": 73,
   "metadata": {},
   "outputs": [
    {
     "name": "stdout",
     "output_type": "stream",
     "text": [
      "Stored 'rf_model' (GridSearchCV)\n"
     ]
    }
   ],
   "source": [
    "%store rf_model"
   ]
  },
  {
   "cell_type": "code",
   "execution_count": 74,
   "metadata": {},
   "outputs": [
    {
     "name": "stdout",
     "output_type": "stream",
     "text": [
      "Error/Bias/Variance at the last iteration: [0.02551581 0.02538055 0.00013526]\n"
     ]
    },
    {
     "data": {
      "image/png": "[encoded data removed]",
      "text/plain": [
       "<Figure size 576x576 with 1 Axes>"
      ]
     },
     "metadata": {
      "needs_background": "light"
     },
     "output_type": "display_data"
    }
   ],
   "source": [
    "N_TESTS = 2\n",
    "step=2\n",
    "offset=10\n",
    "\n",
    "stats = np.array([])\n",
    "n_trees = [1 if i==0 else i for i in range(0, rf_model.best_params_['n_estimators']+offset, step)]\n",
    "\n",
    "for l in n_trees:\n",
    "    y_preds = np.array([])\n",
    "\n",
    "    for i in range(N_TESTS):\n",
    "        Xs, ys = resample(X_train_80, y_train_80, n_samples=int(0.67*len(y_train_80)))\n",
    "        \n",
    "        rf = RandomForestRegressor(n_estimators=l, max_leaf_nodes=rf_model.best_params_[\n",
    "                                   'max_leaf_nodes'], min_samples_leaf=rf_model.best_params_['min_samples_leaf'], n_jobs=-1)\n",
    "        rf.fit(Xs, ys)\n",
    "\n",
    "        y_pred = rf.predict(X_test)\n",
    "        y_preds = np.column_stack(\n",
    "            [y_preds, y_pred]) if y_preds.size else y_pred\n",
    "\n",
    "    dt_bias = (y_test-np.mean(y_preds, axis=1))**2\n",
    "    dt_variance = np.var(y_preds, axis=1)\n",
    "    dt_error = (y_preds - y_test.reshape(-1, 1))**2.0\n",
    "\n",
    "    run_stats = np.array([dt_error.mean(), dt_bias.mean(), dt_variance.mean()])\n",
    "\n",
    "    stats = np.column_stack([stats, run_stats]) if stats.size else run_stats\n",
    "\n",
    "\n",
    "fig, ax = plt.subplots(figsize=(8, 8))\n",
    "ax.set_title(\"Bias-Variance Decomposition Analysis - Random Forest\")\n",
    "ax.plot(n_trees, stats[0, :], 'o:', label='Error')\n",
    "ax.plot(n_trees, stats[1, :], 'o:', label='Bias$^2$')\n",
    "ax.plot(n_trees, stats[2, :], 'o:', label='Variance')\n",
    "ax.set_xlabel('Number of Trees')\n",
    "ax.grid()\n",
    "ax.legend()\n",
    "\n",
    "print(\"Error/Bias/Variance at the last iteration:\", stats[:, -1])"
   ]
  },
  {
   "cell_type": "markdown",
   "metadata": {},
   "source": [
    "Come si può notare dal grafico *numero alberi - errore totale*, l'errore diminuisce (e lo score migliora) all'aumetare del numero di stimatori utilizzati. In particolare si evince, come da intuizione teorica, che essendo il predittore basato su foresta di alberi ogniuno di questi per definizione si cerca sia fully grown, quindi con bassa distorsione e alta varianza, e che quest'ultima varrà poi ridotta con l'ensembing. In questo specifico caso è evidenziato come si riesca a ridurre la varianza in modo significativo già usando solamente 4 stimatori.<br>\n",
    "Si ricorda poi che la formula di decomposizione dell'errore totale è:\n",
    "$$\n",
    "Error(M) = Bias^2 + Variance + Noise\n",
    "$$"
   ]
  },
  {
   "cell_type": "markdown",
   "metadata": {},
   "source": [
    "<a id='mod_2'></a>\n",
    "### Corstruzione del modello sfruttante Gradient Boosting e tuning dei suoi parametri"
   ]
  },
  {
   "cell_type": "markdown",
   "metadata": {},
   "source": [
    "Anche per la costruzione di questo modello si è deciso di realizzare più sofisticatamente il tuning degli parametri.\n",
    "Nello specifico il metodo con cross validation sets cercherà la migliore combinazione di \"n_estimators\", \"max_leaves\" e \"learning_rate\", 3 degli iperparametri principali per la costruzione del regressore sfruttante il metodo Gradient Boosting"
   ]
  },
  {
   "cell_type": "code",
   "execution_count": 75,
   "metadata": {},
   "outputs": [],
   "source": [
    "X_train_80, X_test, y_train_80, y_test = train_test_split(selected_important_X, y, \n",
    "                                                         test_size=0.20, random_state=42)"
   ]
  },
  {
   "cell_type": "code",
   "execution_count": 76,
   "metadata": {},
   "outputs": [
    {
     "name": "stdout",
     "output_type": "stream",
     "text": [
      "Tuning XGBoost hyperparameters:\n",
      "Best Score: 0.0259\n",
      "Best Params:  {'learning_rate': 0.1, 'max_leaves': 2, 'n_estimators': 50}\n",
      "MSE: 0.0257\n"
     ]
    }
   ],
   "source": [
    "tuning_params={'n_estimators': [i for i in range(10, 101, 10)],\n",
    "                'max_leaves': [2, 5, 10, 50, 100, 200], #Maximum number of leaves; 0 indicates no limit\n",
    "                'learning_rate': [0.1, 0.2, 0.3, 0.4]} #Boosting learning rate (xgb’s “eta”). \n",
    "                                                       #Step size shrinkage used in update to prevents overfitting. The value must be between 0 and 1. Default is 0.3.\n",
    "\n",
    "xgb_m=xgb.XGBRegressor()\n",
    "xgb_model = GridSearchCV(estimator=xgb_m, param_grid=tuning_params,\n",
    "                         cv=5, scoring='neg_mean_squared_error', \n",
    "                         verbose = 0, n_jobs=-1)\n",
    "\n",
    "print (\"Tuning XGBoost hyperparameters:\")\n",
    "xgb_model.fit(X_train_80, y_train_80)\n",
    "print (\"Best Score: {:.4f}\".format(-xgb_model.best_score_))\n",
    "print (\"Best Params: \", xgb_model.best_params_)\n",
    "\n",
    "test_mse= mean_squared_error(y_true = y_test, y_pred = xgb_model.predict(X_test) )\n",
    "print (\"MSE: {:.4f}\".format(test_mse))"
   ]
  },
  {
   "cell_type": "markdown",
   "metadata": {},
   "source": [
    "Anche in questo caso si ritiene che i valori di Mean Squared Error ottenuti, in particolare nel testing set, siano sufficientemente bassi e che di conseguenza il modello basato su Gradient Boosting sia abbastanza accurato. Inoltre utilizzando i cross validation sets si è limitata la possibilità di overfitting nel regressore"
   ]
  },
  {
   "cell_type": "code",
   "execution_count": 77,
   "metadata": {},
   "outputs": [
    {
     "name": "stdout",
     "output_type": "stream",
     "text": [
      "Stored 'xgb_model' (GridSearchCV)\n"
     ]
    }
   ],
   "source": [
    "%store xgb_model"
   ]
  },
  {
   "cell_type": "code",
   "execution_count": 78,
   "metadata": {},
   "outputs": [
    {
     "name": "stdout",
     "output_type": "stream",
     "text": [
      "Error/Bias/Variance at the last iteration: [0.02586752 0.02552025 0.00034727]\n"
     ]
    },
    {
     "data": {
      "image/png": "[encoded data removed]",
      "text/plain": [
       "<Figure size 576x576 with 1 Axes>"
      ]
     },
     "metadata": {
      "needs_background": "light"
     },
     "output_type": "display_data"
    }
   ],
   "source": [
    "N_TESTS = 2\n",
    "step=2\n",
    "offset=10\n",
    "\n",
    "stats = np.array([])\n",
    "n_trees = [1 if i==0 else i for i in range(0, xgb_model.best_params_['n_estimators']+offset, step)]\n",
    "\n",
    "for l in n_trees:\n",
    "    y_preds = np.array([])\n",
    "\n",
    "    for i in range(N_TESTS):\n",
    "        Xs, ys = resample(X_train_80, y_train_80, n_samples=int(0.67*len(y_train_80)))\n",
    "       \n",
    "        xgb_m = xgb.XGBRegressor(n_estimators=l, learning_rate=xgb_model.best_params_[\n",
    "                                   'learning_rate'], max_leaves=xgb_model.best_params_['max_leaves'], n_jobs=-1)\n",
    "        xgb_m.fit(Xs, ys)\n",
    "\n",
    "        y_pred = xgb_m.predict(X_test)\n",
    "        y_preds = np.column_stack(\n",
    "            [y_preds, y_pred]) if y_preds.size else y_pred\n",
    "\n",
    "    dt_bias = (y_test-np.mean(y_preds, axis=1))**2\n",
    "    dt_variance = np.var(y_preds, axis=1)\n",
    "    dt_error = (y_preds - y_test.reshape(-1, 1))**2.0\n",
    "\n",
    "    run_stats = np.array([dt_error.mean(), dt_bias.mean(), dt_variance.mean()])\n",
    "\n",
    "    stats = np.column_stack([stats, run_stats]) if stats.size else run_stats\n",
    "\n",
    "\n",
    "fig, ax = plt.subplots(figsize=(8, 8))\n",
    "ax.set_title(\"Bias-Variance Decomposition Analysis - XGBoost\")\n",
    "ax.plot(n_trees, stats[0, :], 'o:', label='Error')\n",
    "ax.plot(n_trees, stats[1, :], 'o:', label='Bias$^2$')\n",
    "ax.plot(n_trees, stats[2, :], 'o:', label='Variance')\n",
    "ax.set_xlabel('Number of Trees')\n",
    "ax.grid()\n",
    "ax.legend()\n",
    "\n",
    "print(\"Error/Bias/Variance at the last iteration:\", stats[:, -1])"
   ]
  },
  {
   "cell_type": "markdown",
   "metadata": {},
   "source": [
    "Come si può notare dal grafico, anche in questo caso l'errore dimiuisce (e lo score migliora) all'aumetare del numero di stimatori utilizzato. In particolare si evince, come da intuizione teorica, che essendo il predittore basato su boosting di alberi, ogniuno di questi per definizione si cerca sia di dimensioni ridotte, quindi con bassa varianza ma alta distorsione, e che quest'ultima varrà varrà poi ridotta con l'ensembing. \n",
    "In questo specifico caso la decomposizione mostra una varianza quasi nulla ed un errore che descresce esponenzialmente al diminuire della distorzione, che si riesce inoltre a ridurre in modo significativo già usando solamente 10 stimatori."
   ]
  },
  {
   "cell_type": "markdown",
   "metadata": {},
   "source": [
    "<a id='comparison_and_analisys'></a>\n",
    "### Comparazione e analisi dei modelli"
   ]
  },
  {
   "cell_type": "markdown",
   "metadata": {},
   "source": [
    "Ultimata la costruzione dei modelli statistici finali si porcede ora ad analizzarne più approfonditamente il comportamento, in particolare fecendo un focus su alcuni degli edifici dove il logerror dato è il peggiore ed altri dove è il migliore.\n",
    "\n",
    "Vengono quindi estratti gli edifici con log error compreso tra il valore più estremo e il valore più estremo meno 1 (worst items) e dieci tra le costruzioni dove il log error è zero (best items)"
   ]
  },
  {
   "cell_type": "code",
   "execution_count": 95,
   "metadata": {},
   "outputs": [
    {
     "data": {
      "image/png": "[encoded data removed]",
      "text/plain": [
       "<Figure size 768x432 with 1 Axes>"
      ]
     },
     "metadata": {
      "needs_background": "light"
     },
     "output_type": "display_data"
    }
   ],
   "source": [
    "sns.displot(df_prop_final, x=\"logerror\", height=6, aspect=16/9);"
   ]
  },
  {
   "cell_type": "markdown",
   "metadata": {},
   "source": [
    "La variabile 'logerror' segue una distribuzione normale"
   ]
  },
  {
   "cell_type": "code",
   "execution_count": 96,
   "metadata": {},
   "outputs": [],
   "source": [
    "offset=1\n",
    "max_error_pos=df_prop_final['logerror'].max()-offset\n",
    "max_error_neg=df_prop_final['logerror'].min()+offset\n",
    "\n",
    "worst_items=pd.concat([df_prop_final[df_prop_final['logerror']>=max_error_pos], df_prop_final[df_prop_final['logerror']<=max_error_neg]])\n",
    "best_items=df_prop_final[df_prop_final['logerror']==0].head(10)"
   ]
  },
  {
   "cell_type": "code",
   "execution_count": 97,
   "metadata": {},
   "outputs": [
    {
     "data": {
      "text/html": [
       "<div>\n",
       "<style scoped>\n",
       "    .dataframe tbody tr th:only-of-type {\n",
       "        vertical-align: middle;\n",
       "    }\n",
       "\n",
       "    .dataframe tbody tr th {\n",
       "        vertical-align: top;\n",
       "    }\n",
       "\n",
       "    .dataframe thead th {\n",
       "        text-align: right;\n",
       "    }\n",
       "</style>\n",
       "<table border=\"1\" class=\"dataframe\">\n",
       "  <thead>\n",
       "    <tr style=\"text-align: right;\">\n",
       "      <th></th>\n",
       "      <th>finishedfloor1squarefeet</th>\n",
       "      <th>calculatedfinishedsquarefeet</th>\n",
       "      <th>lotsizesquarefeet</th>\n",
       "      <th>structuretaxvaluedollarcnt</th>\n",
       "      <th>taxvaluedollarcnt</th>\n",
       "      <th>taxamount</th>\n",
       "      <th>taxdelinquencyflag</th>\n",
       "      <th>Life-until-selling</th>\n",
       "      <th>N-ValueRatio</th>\n",
       "      <th>N-city_count</th>\n",
       "      <th>N-Avg-structuretaxvaluedollarcnt</th>\n",
       "      <th>N-Dev-structuretaxvaluedollarcnt</th>\n",
       "    </tr>\n",
       "  </thead>\n",
       "  <tbody>\n",
       "    <tr>\n",
       "      <th>7318</th>\n",
       "      <td>3012.850098</td>\n",
       "      <td>2640.0</td>\n",
       "      <td>46196.0</td>\n",
       "      <td>713986.0</td>\n",
       "      <td>2289855.0</td>\n",
       "      <td>28355.099609</td>\n",
       "      <td>False</td>\n",
       "      <td>4050</td>\n",
       "      <td>80.756371</td>\n",
       "      <td>20635</td>\n",
       "      <td>190930.046875</td>\n",
       "      <td>2.739516</td>\n",
       "    </tr>\n",
       "    <tr>\n",
       "      <th>8612</th>\n",
       "      <td>2042.750000</td>\n",
       "      <td>1795.0</td>\n",
       "      <td>31636.0</td>\n",
       "      <td>495911.0</td>\n",
       "      <td>1127070.0</td>\n",
       "      <td>13866.839844</td>\n",
       "      <td>False</td>\n",
       "      <td>3692</td>\n",
       "      <td>81.278069</td>\n",
       "      <td>20635</td>\n",
       "      <td>190930.046875</td>\n",
       "      <td>1.597344</td>\n",
       "    </tr>\n",
       "    <tr>\n",
       "      <th>22475</th>\n",
       "      <td>2721.199951</td>\n",
       "      <td>3179.0</td>\n",
       "      <td>22207.0</td>\n",
       "      <td>344385.0</td>\n",
       "      <td>1064036.0</td>\n",
       "      <td>12303.690430</td>\n",
       "      <td>False</td>\n",
       "      <td>19818</td>\n",
       "      <td>86.481041</td>\n",
       "      <td>776</td>\n",
       "      <td>228180.687500</td>\n",
       "      <td>0.509264</td>\n",
       "    </tr>\n",
       "    <tr>\n",
       "      <th>22476</th>\n",
       "      <td>4634.200195</td>\n",
       "      <td>3142.0</td>\n",
       "      <td>21816.0</td>\n",
       "      <td>2256798.0</td>\n",
       "      <td>2488740.0</td>\n",
       "      <td>28388.460938</td>\n",
       "      <td>False</td>\n",
       "      <td>19818</td>\n",
       "      <td>87.667313</td>\n",
       "      <td>776</td>\n",
       "      <td>228180.687500</td>\n",
       "      <td>8.890399</td>\n",
       "    </tr>\n",
       "    <tr>\n",
       "      <th>6416</th>\n",
       "      <td>1253.849976</td>\n",
       "      <td>985.0</td>\n",
       "      <td>5654.0</td>\n",
       "      <td>57838.0</td>\n",
       "      <td>289210.0</td>\n",
       "      <td>3821.810059</td>\n",
       "      <td>False</td>\n",
       "      <td>23404</td>\n",
       "      <td>75.673569</td>\n",
       "      <td>294</td>\n",
       "      <td>95555.125000</td>\n",
       "      <td>0.394716</td>\n",
       "    </tr>\n",
       "    <tr>\n",
       "      <th>69226</th>\n",
       "      <td>943.000000</td>\n",
       "      <td>1843.0</td>\n",
       "      <td>5365.0</td>\n",
       "      <td>221718.0</td>\n",
       "      <td>367233.0</td>\n",
       "      <td>4274.120117</td>\n",
       "      <td>False</td>\n",
       "      <td>6445</td>\n",
       "      <td>85.920143</td>\n",
       "      <td>1265</td>\n",
       "      <td>195516.031250</td>\n",
       "      <td>0.134014</td>\n",
       "    </tr>\n",
       "    <tr>\n",
       "      <th>88786</th>\n",
       "      <td>1578.800049</td>\n",
       "      <td>1417.0</td>\n",
       "      <td>6344.0</td>\n",
       "      <td>133772.0</td>\n",
       "      <td>668863.0</td>\n",
       "      <td>8238.679688</td>\n",
       "      <td>False</td>\n",
       "      <td>28098</td>\n",
       "      <td>81.185699</td>\n",
       "      <td>20635</td>\n",
       "      <td>190930.046875</td>\n",
       "      <td>0.299366</td>\n",
       "    </tr>\n",
       "  </tbody>\n",
       "</table>\n",
       "</div>"
      ],
      "text/plain": [
       "       finishedfloor1squarefeet  calculatedfinishedsquarefeet  \\\n",
       "7318                3012.850098                        2640.0   \n",
       "8612                2042.750000                        1795.0   \n",
       "22475               2721.199951                        3179.0   \n",
       "22476               4634.200195                        3142.0   \n",
       "6416                1253.849976                         985.0   \n",
       "69226                943.000000                        1843.0   \n",
       "88786               1578.800049                        1417.0   \n",
       "\n",
       "       lotsizesquarefeet  structuretaxvaluedollarcnt  taxvaluedollarcnt  \\\n",
       "7318             46196.0                    713986.0          2289855.0   \n",
       "8612             31636.0                    495911.0          1127070.0   \n",
       "22475            22207.0                    344385.0          1064036.0   \n",
       "22476            21816.0                   2256798.0          2488740.0   \n",
       "6416              5654.0                     57838.0           289210.0   \n",
       "69226             5365.0                    221718.0           367233.0   \n",
       "88786             6344.0                    133772.0           668863.0   \n",
       "\n",
       "          taxamount  taxdelinquencyflag  Life-until-selling  N-ValueRatio  \\\n",
       "7318   28355.099609               False                4050     80.756371   \n",
       "8612   13866.839844               False                3692     81.278069   \n",
       "22475  12303.690430               False               19818     86.481041   \n",
       "22476  28388.460938               False               19818     87.667313   \n",
       "6416    3821.810059               False               23404     75.673569   \n",
       "69226   4274.120117               False                6445     85.920143   \n",
       "88786   8238.679688               False               28098     81.185699   \n",
       "\n",
       "       N-city_count  N-Avg-structuretaxvaluedollarcnt  \\\n",
       "7318          20635                     190930.046875   \n",
       "8612          20635                     190930.046875   \n",
       "22475           776                     228180.687500   \n",
       "22476           776                     228180.687500   \n",
       "6416            294                      95555.125000   \n",
       "69226          1265                     195516.031250   \n",
       "88786         20635                     190930.046875   \n",
       "\n",
       "       N-Dev-structuretaxvaluedollarcnt  \n",
       "7318                           2.739516  \n",
       "8612                           1.597344  \n",
       "22475                          0.509264  \n",
       "22476                          8.890399  \n",
       "6416                           0.394716  \n",
       "69226                          0.134014  \n",
       "88786                          0.299366  "
      ]
     },
     "execution_count": 97,
     "metadata": {},
     "output_type": "execute_result"
    }
   ],
   "source": [
    "worst_items_X=selected_important_X.iloc[worst_items.index]\n",
    "worst_items_X"
   ]
  },
  {
   "cell_type": "code",
   "execution_count": 98,
   "metadata": {},
   "outputs": [
    {
     "data": {
      "text/html": [
       "<div>\n",
       "<style scoped>\n",
       "    .dataframe tbody tr th:only-of-type {\n",
       "        vertical-align: middle;\n",
       "    }\n",
       "\n",
       "    .dataframe tbody tr th {\n",
       "        vertical-align: top;\n",
       "    }\n",
       "\n",
       "    .dataframe thead th {\n",
       "        text-align: right;\n",
       "    }\n",
       "</style>\n",
       "<table border=\"1\" class=\"dataframe\">\n",
       "  <thead>\n",
       "    <tr style=\"text-align: right;\">\n",
       "      <th></th>\n",
       "      <th>finishedfloor1squarefeet</th>\n",
       "      <th>calculatedfinishedsquarefeet</th>\n",
       "      <th>lotsizesquarefeet</th>\n",
       "      <th>structuretaxvaluedollarcnt</th>\n",
       "      <th>taxvaluedollarcnt</th>\n",
       "      <th>taxamount</th>\n",
       "      <th>taxdelinquencyflag</th>\n",
       "      <th>Life-until-selling</th>\n",
       "      <th>N-ValueRatio</th>\n",
       "      <th>N-city_count</th>\n",
       "      <th>N-Avg-structuretaxvaluedollarcnt</th>\n",
       "      <th>N-Dev-structuretaxvaluedollarcnt</th>\n",
       "    </tr>\n",
       "  </thead>\n",
       "  <tbody>\n",
       "    <tr>\n",
       "      <th>64</th>\n",
       "      <td>1356.750000</td>\n",
       "      <td>1344.0</td>\n",
       "      <td>9800.0</td>\n",
       "      <td>133631.0</td>\n",
       "      <td>418161.0</td>\n",
       "      <td>4727.779785</td>\n",
       "      <td>False</td>\n",
       "      <td>13517</td>\n",
       "      <td>88.447647</td>\n",
       "      <td>1859</td>\n",
       "      <td>131900.109375</td>\n",
       "      <td>0.013123</td>\n",
       "    </tr>\n",
       "    <tr>\n",
       "      <th>143</th>\n",
       "      <td>1214.000000</td>\n",
       "      <td>1214.0</td>\n",
       "      <td>6660.0</td>\n",
       "      <td>34946.0</td>\n",
       "      <td>55976.0</td>\n",
       "      <td>5453.899902</td>\n",
       "      <td>False</td>\n",
       "      <td>21187</td>\n",
       "      <td>10.263481</td>\n",
       "      <td>1040</td>\n",
       "      <td>137598.609375</td>\n",
       "      <td>0.746029</td>\n",
       "    </tr>\n",
       "    <tr>\n",
       "      <th>223</th>\n",
       "      <td>1099.449951</td>\n",
       "      <td>1289.0</td>\n",
       "      <td>5457.0</td>\n",
       "      <td>135760.0</td>\n",
       "      <td>496934.0</td>\n",
       "      <td>6527.640137</td>\n",
       "      <td>False</td>\n",
       "      <td>23379</td>\n",
       "      <td>76.127663</td>\n",
       "      <td>654</td>\n",
       "      <td>100058.273438</td>\n",
       "      <td>0.356809</td>\n",
       "    </tr>\n",
       "    <tr>\n",
       "      <th>339</th>\n",
       "      <td>1591.250000</td>\n",
       "      <td>1601.0</td>\n",
       "      <td>6146.0</td>\n",
       "      <td>183436.0</td>\n",
       "      <td>245366.0</td>\n",
       "      <td>4347.359863</td>\n",
       "      <td>False</td>\n",
       "      <td>25206</td>\n",
       "      <td>56.440231</td>\n",
       "      <td>588</td>\n",
       "      <td>84266.335938</td>\n",
       "      <td>1.176860</td>\n",
       "    </tr>\n",
       "    <tr>\n",
       "      <th>655</th>\n",
       "      <td>3112.000000</td>\n",
       "      <td>3112.0</td>\n",
       "      <td>41230.0</td>\n",
       "      <td>1164559.0</td>\n",
       "      <td>1773180.0</td>\n",
       "      <td>19705.199219</td>\n",
       "      <td>False</td>\n",
       "      <td>20093</td>\n",
       "      <td>89.985390</td>\n",
       "      <td>251</td>\n",
       "      <td>246775.453125</td>\n",
       "      <td>3.719104</td>\n",
       "    </tr>\n",
       "    <tr>\n",
       "      <th>694</th>\n",
       "      <td>922.799988</td>\n",
       "      <td>1036.0</td>\n",
       "      <td>8116.0</td>\n",
       "      <td>24863.0</td>\n",
       "      <td>36666.0</td>\n",
       "      <td>3802.540039</td>\n",
       "      <td>False</td>\n",
       "      <td>22285</td>\n",
       "      <td>9.642502</td>\n",
       "      <td>757</td>\n",
       "      <td>116343.429688</td>\n",
       "      <td>0.786296</td>\n",
       "    </tr>\n",
       "    <tr>\n",
       "      <th>826</th>\n",
       "      <td>1353.099976</td>\n",
       "      <td>930.0</td>\n",
       "      <td>310302.0</td>\n",
       "      <td>111585.0</td>\n",
       "      <td>204505.0</td>\n",
       "      <td>2590.560059</td>\n",
       "      <td>False</td>\n",
       "      <td>10232</td>\n",
       "      <td>78.942390</td>\n",
       "      <td>757</td>\n",
       "      <td>116343.429688</td>\n",
       "      <td>0.040900</td>\n",
       "    </tr>\n",
       "    <tr>\n",
       "      <th>833</th>\n",
       "      <td>1808.800049</td>\n",
       "      <td>1374.0</td>\n",
       "      <td>5000.0</td>\n",
       "      <td>135990.0</td>\n",
       "      <td>458000.0</td>\n",
       "      <td>5073.439941</td>\n",
       "      <td>False</td>\n",
       "      <td>9501</td>\n",
       "      <td>90.274055</td>\n",
       "      <td>1859</td>\n",
       "      <td>131900.109375</td>\n",
       "      <td>0.031007</td>\n",
       "    </tr>\n",
       "    <tr>\n",
       "      <th>870</th>\n",
       "      <td>980.549988</td>\n",
       "      <td>792.0</td>\n",
       "      <td>1901.0</td>\n",
       "      <td>127168.0</td>\n",
       "      <td>579664.0</td>\n",
       "      <td>7093.660156</td>\n",
       "      <td>False</td>\n",
       "      <td>32147</td>\n",
       "      <td>81.715782</td>\n",
       "      <td>20635</td>\n",
       "      <td>190930.046875</td>\n",
       "      <td>0.333955</td>\n",
       "    </tr>\n",
       "    <tr>\n",
       "      <th>1123</th>\n",
       "      <td>1622.449951</td>\n",
       "      <td>2062.0</td>\n",
       "      <td>8948.0</td>\n",
       "      <td>178500.0</td>\n",
       "      <td>222000.0</td>\n",
       "      <td>3355.659912</td>\n",
       "      <td>False</td>\n",
       "      <td>18633</td>\n",
       "      <td>66.156883</td>\n",
       "      <td>2038</td>\n",
       "      <td>128246.671875</td>\n",
       "      <td>0.391849</td>\n",
       "    </tr>\n",
       "  </tbody>\n",
       "</table>\n",
       "</div>"
      ],
      "text/plain": [
       "      finishedfloor1squarefeet  calculatedfinishedsquarefeet  \\\n",
       "64                 1356.750000                        1344.0   \n",
       "143                1214.000000                        1214.0   \n",
       "223                1099.449951                        1289.0   \n",
       "339                1591.250000                        1601.0   \n",
       "655                3112.000000                        3112.0   \n",
       "694                 922.799988                        1036.0   \n",
       "826                1353.099976                         930.0   \n",
       "833                1808.800049                        1374.0   \n",
       "870                 980.549988                         792.0   \n",
       "1123               1622.449951                        2062.0   \n",
       "\n",
       "      lotsizesquarefeet  structuretaxvaluedollarcnt  taxvaluedollarcnt  \\\n",
       "64               9800.0                    133631.0           418161.0   \n",
       "143              6660.0                     34946.0            55976.0   \n",
       "223              5457.0                    135760.0           496934.0   \n",
       "339              6146.0                    183436.0           245366.0   \n",
       "655             41230.0                   1164559.0          1773180.0   \n",
       "694              8116.0                     24863.0            36666.0   \n",
       "826            310302.0                    111585.0           204505.0   \n",
       "833              5000.0                    135990.0           458000.0   \n",
       "870              1901.0                    127168.0           579664.0   \n",
       "1123             8948.0                    178500.0           222000.0   \n",
       "\n",
       "         taxamount  taxdelinquencyflag  Life-until-selling  N-ValueRatio  \\\n",
       "64     4727.779785               False               13517     88.447647   \n",
       "143    5453.899902               False               21187     10.263481   \n",
       "223    6527.640137               False               23379     76.127663   \n",
       "339    4347.359863               False               25206     56.440231   \n",
       "655   19705.199219               False               20093     89.985390   \n",
       "694    3802.540039               False               22285      9.642502   \n",
       "826    2590.560059               False               10232     78.942390   \n",
       "833    5073.439941               False                9501     90.274055   \n",
       "870    7093.660156               False               32147     81.715782   \n",
       "1123   3355.659912               False               18633     66.156883   \n",
       "\n",
       "      N-city_count  N-Avg-structuretaxvaluedollarcnt  \\\n",
       "64            1859                     131900.109375   \n",
       "143           1040                     137598.609375   \n",
       "223            654                     100058.273438   \n",
       "339            588                      84266.335938   \n",
       "655            251                     246775.453125   \n",
       "694            757                     116343.429688   \n",
       "826            757                     116343.429688   \n",
       "833           1859                     131900.109375   \n",
       "870          20635                     190930.046875   \n",
       "1123          2038                     128246.671875   \n",
       "\n",
       "      N-Dev-structuretaxvaluedollarcnt  \n",
       "64                            0.013123  \n",
       "143                           0.746029  \n",
       "223                           0.356809  \n",
       "339                           1.176860  \n",
       "655                           3.719104  \n",
       "694                           0.786296  \n",
       "826                           0.040900  \n",
       "833                           0.031007  \n",
       "870                           0.333955  \n",
       "1123                          0.391849  "
      ]
     },
     "execution_count": 98,
     "metadata": {},
     "output_type": "execute_result"
    }
   ],
   "source": [
    "best_items_X=selected_important_X.iloc[best_items.index]\n",
    "best_items_X"
   ]
  },
  {
   "cell_type": "code",
   "execution_count": 137,
   "metadata": {},
   "outputs": [
    {
     "data": {
      "image/png": "[encoded data removed]",
      "text/plain": [
       "<Figure size 576x432 with 1 Axes>"
      ]
     },
     "metadata": {
      "needs_background": "light"
     },
     "output_type": "display_data"
    }
   ],
   "source": [
    "plt.figure(figsize=(8, 6))\n",
    "plt.bar(range(len(worst_items)), worst_items['logerror'], color=['#9dd866'], label = \"Target value\")\n",
    "plt.bar(range(len(worst_items)), rf_model.predict(worst_items_X), color=['#ffa056'], label = \"RF value\")\n",
    "plt.bar(range(len(worst_items)), xgb_model.predict(worst_items_X), color=['#0b84a5'], label = \"XGB value\")\n",
    "plt.legend()\n",
    "plt.title(\"Log-errors comparisons - Worst items\");"
   ]
  },
  {
   "cell_type": "markdown",
   "metadata": {},
   "source": [
    "Dal bar chart relativo alle previsioni su item problematici si può notare che le stime dei due modelli finali creati sono molto distanti dal valore target calcolato dallo stimatore Zestimate. Probabilmente questo è dovuto alla presenza di molti valori missing o outliers, trattati con tecniche di analisi, recupero e correzione differenti da quelle usate dal team di Zestimate.\n",
    "A priori però si ipotizza che gli item con logerror in valore assoluto elevato possano presentare anomalie o valori non standard per alcune features, in quanto proprio lo stimatore della competizione restituisce dei valori predetti abbastanza distanti dal log(SalePrice) reale.\n",
    "\n",
    "Per verificare queste ipotesi si pensa sia necessario contattare degli esperti in ambito Data Science, il team di Zestimate e dei tecnici immobiliari."
   ]
  },
  {
   "cell_type": "code",
   "execution_count": 100,
   "metadata": {},
   "outputs": [
    {
     "data": {
      "image/png": "[encoded data removed]",
      "text/plain": [
       "<Figure size 576x432 with 1 Axes>"
      ]
     },
     "metadata": {
      "needs_background": "light"
     },
     "output_type": "display_data"
    }
   ],
   "source": [
    "plt.figure(figsize=(8, 6))\n",
    "plt.plot(range(len(best_items)), best_items['logerror'], color='#9dd866', label = \"Target value\", )\n",
    "plt.plot(range(len(best_items)), rf_model.predict(best_items_X), color='#ffa056', label = \"RF value\")\n",
    "plt.plot(range(len(best_items)), xgb_model.predict(best_items_X), color='#0b84a5', label = \"XGB value\")\n",
    "plt.legend()\n",
    "plt.title(\"Log-errors comparisons - Best Items\");"
   ]
  },
  {
   "cell_type": "markdown",
   "metadata": {},
   "source": [
    "Nel line chart inerente alle previsioni su item il cui log error è nullo invece anche i due modelli creati restituiscono valori soddisfacienti: infatti, il discostamento rispetto al valore target di Zestimate è nell'ordine dei centesini"
   ]
  },
  {
   "cell_type": "markdown",
   "metadata": {},
   "source": [
    "In generale, anche nei grafici relativi a best items e worst items, non si notano grosse differenze in termini di accuratezza tra il modello con Random Forest e quello con Gradient Boosting, anche se il valore di MSE ottenuto nel testing set del primo modello e leggermente inferiore rispetto a quello restituito dal secondo."
   ]
  },
  {
   "cell_type": "markdown",
   "metadata": {},
   "source": [
    "<a id='final'></a>\n",
    "### Considerazioni finali"
   ]
  },
  {
   "cell_type": "markdown",
   "metadata": {},
   "source": [
    "Vengono quindi brevemente ricapitolati i vari passaggi svolti:\n",
    "- Analisi dei dataset, features engineering e gestione dei missing value\n",
    "- Features selection e costruzione dei modelli\n",
    "- Analisi e comparazione dei modelli ottenuti\n",
    "\n",
    "Concludendo, grazie a questo task si sono potuto testare su un dataset reale, esteso e complesso, le performance di alcuni metodi di Machine Learning come Random Forest e Gradient Boosting, entrambi sfruttanti alberi di decisione ma utilizzanti intuizioni diverse.<br>\n",
    "Tuttavia, come anticipato in precedenza, non si dispone di sufficienti elementi per preferire un modello rispetto all'altro in quanto entrambi ritornano previsioni accurate ed in modo efficiente e il discostamento nel valore della metrica di valutazione per il testing set è molto bassa.\n",
    "Generalmente, i predittori che utilizzano la tecnica Gradient Boosting performano meglio di quelli che sfruttano Random Forest per definizione in quanto hanno come obiettivo la minimizzazione di una funzione di perdita e la caratteristica di costruire additivamente i vari alberi, anche se sono più proni all'overfitting.<br>\n",
    "Probabilmente, con una conoscenza più approfondita dei dati, del loro significato, del loro andamento reale e con l'aggiunta di informazioni esterne al dataset è possibile arrivare ad ottenere risultati ancora più precisi ed alla costruzione del modello di regressione ottimo."
   ]
  },
  {
   "cell_type": "markdown",
   "metadata": {},
   "source": [
    "##### *Tabella riassuntiva contenente i dati delle valutazioni*\n",
    "| Set type | Model | MSE Score |\n",
    "| --- | --- | --- |\n",
    "| Validation Sets | Random Forest | 0.0258 |\n",
    "| Validation Sets | Gradient Boosting | 0.0259 |\n",
    "| Testing Set | Random Forest | 0.0254 |\n",
    "| Testing Set | Gradient Boosting | 0.0257 |"
   ]
  }
 ],
 "metadata": {
  "interpreter": {
   "hash": "b3ba2566441a7c06988d0923437866b63cedc61552a5af99d1f4fb67d367b25f"
  },
  "kernelspec": {
   "display_name": "Python 3 (ipykernel)",
   "language": "python",
   "name": "python3"
  },
  "language_info": {
   "codemirror_mode": {
    "name": "ipython",
    "version": 3
   },
   "file_extension": ".py",
   "mimetype": "text/x-python",
   "name": "python",
   "nbconvert_exporter": "python",
   "pygments_lexer": "ipython3",
   "version": "3.9.12"
  }
 },
 "nbformat": 4,
 "nbformat_minor": 2
}
